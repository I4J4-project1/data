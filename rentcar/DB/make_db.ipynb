{
 "cells": [
  {
   "cell_type": "code",
   "execution_count": 237,
   "metadata": {},
   "outputs": [],
   "source": [
    "import pandas as pd\n",
    "import numpy as np\n",
    "import os\n",
    "import matplotlib.pyplot as plt"
   ]
  },
  {
   "cell_type": "code",
   "execution_count": 238,
   "metadata": {},
   "outputs": [],
   "source": [
    "base_path = os.getcwd()\n",
    "df_2n3d = pd.read_csv(base_path+'/crawled_csv/car_2n3d.csv', names=['car_name', 'price', 'delete', 'oiltype', 'num_seat', 'rent_date', 'rent_day', 'return_date', 'return_day', 'reserve_avail', 'rent_period', 'img_url'])\n",
    "df_3n4d = pd.read_csv(base_path+'/crawled_csv/car_3n4d.csv', names=['car_name', 'price', 'delete', 'oiltype', 'num_seat', 'rent_date', 'rent_day', 'return_date', 'return_day', 'reserve_avail', 'rent_period', 'img_url'])\n",
    "df_4n5d = pd.read_csv(base_path+'/crawled_csv/car_4n5d.csv', names=['car_name', 'price', 'delete', 'oiltype', 'num_seat', 'rent_date', 'rent_day', 'return_date', 'return_day', 'reserve_avail', 'rent_period', 'img_url'])"
   ]
  },
  {
   "cell_type": "code",
   "execution_count": 239,
   "metadata": {},
   "outputs": [
    {
     "name": "stdout",
     "output_type": "stream",
     "text": [
      "<class 'pandas.core.frame.DataFrame'>\n",
      "RangeIndex: 1428 entries, 0 to 1427\n",
      "Data columns (total 12 columns):\n",
      " #   Column         Non-Null Count  Dtype \n",
      "---  ------         --------------  ----- \n",
      " 0   car_name       1428 non-null   object\n",
      " 1   price          1428 non-null   object\n",
      " 2   delete         1428 non-null   object\n",
      " 3   oiltype        1428 non-null   object\n",
      " 4   num_seat       1428 non-null   object\n",
      " 5   rent_date      1428 non-null   int64 \n",
      " 6   rent_day       1428 non-null   object\n",
      " 7   return_date    1428 non-null   int64 \n",
      " 8   return_day     1428 non-null   object\n",
      " 9   reserve_avail  1428 non-null   int64 \n",
      " 10  rent_period    1428 non-null   object\n",
      " 11  img_url        1428 non-null   object\n",
      "dtypes: int64(3), object(9)\n",
      "memory usage: 134.0+ KB\n"
     ]
    }
   ],
   "source": [
    "df_2n3d.info()"
   ]
  },
  {
   "cell_type": "code",
   "execution_count": 240,
   "metadata": {},
   "outputs": [
    {
     "name": "stdout",
     "output_type": "stream",
     "text": [
      "<class 'pandas.core.frame.DataFrame'>\n",
      "RangeIndex: 1377 entries, 0 to 1376\n",
      "Data columns (total 12 columns):\n",
      " #   Column         Non-Null Count  Dtype \n",
      "---  ------         --------------  ----- \n",
      " 0   car_name       1377 non-null   object\n",
      " 1   price          1377 non-null   object\n",
      " 2   delete         1377 non-null   object\n",
      " 3   oiltype        1377 non-null   object\n",
      " 4   num_seat       1377 non-null   object\n",
      " 5   rent_date      1377 non-null   int64 \n",
      " 6   rent_day       1377 non-null   object\n",
      " 7   return_date    1377 non-null   int64 \n",
      " 8   return_day     1377 non-null   object\n",
      " 9   reserve_avail  1377 non-null   int64 \n",
      " 10  rent_period    1377 non-null   object\n",
      " 11  img_url        1377 non-null   object\n",
      "dtypes: int64(3), object(9)\n",
      "memory usage: 129.2+ KB\n"
     ]
    }
   ],
   "source": [
    "df_3n4d.info()"
   ]
  },
  {
   "cell_type": "code",
   "execution_count": 241,
   "metadata": {},
   "outputs": [
    {
     "name": "stdout",
     "output_type": "stream",
     "text": [
      "<class 'pandas.core.frame.DataFrame'>\n",
      "RangeIndex: 1326 entries, 0 to 1325\n",
      "Data columns (total 12 columns):\n",
      " #   Column         Non-Null Count  Dtype \n",
      "---  ------         --------------  ----- \n",
      " 0   car_name       1326 non-null   object\n",
      " 1   price          1326 non-null   object\n",
      " 2   delete         1326 non-null   object\n",
      " 3   oiltype        1326 non-null   object\n",
      " 4   num_seat       1326 non-null   object\n",
      " 5   rent_date      1326 non-null   int64 \n",
      " 6   rent_day       1326 non-null   object\n",
      " 7   return_date    1326 non-null   int64 \n",
      " 8   return_day     1326 non-null   object\n",
      " 9   reserve_avail  1326 non-null   int64 \n",
      " 10  rent_period    1326 non-null   object\n",
      " 11  img_url        1326 non-null   object\n",
      "dtypes: int64(3), object(9)\n",
      "memory usage: 124.4+ KB\n"
     ]
    }
   ],
   "source": [
    "df_4n5d.info()"
   ]
  },
  {
   "attachments": {},
   "cell_type": "markdown",
   "metadata": {},
   "source": [
    "## 전처리"
   ]
  },
  {
   "cell_type": "code",
   "execution_count": 242,
   "metadata": {},
   "outputs": [],
   "source": [
    "def preprocessing(df):\n",
    "    # delete 컬럼 drop\n",
    "    df.drop('delete', axis = 1, inplace = True)\n",
    "\n",
    "    # num_seat: *인승 -> *\n",
    "    temp = df.num_seat.str.findall(r'\\d')\n",
    "    df.num_seat = temp.str.join('').astype('int')\n",
    "\n",
    "    # price: ,와 원 제거, str -> int\n",
    "    df.price = df.price.str.replace(',|원', '').astype('int')\n",
    "    "
   ]
  },
  {
   "cell_type": "code",
   "execution_count": 243,
   "metadata": {},
   "outputs": [
    {
     "name": "stderr",
     "output_type": "stream",
     "text": [
      "/var/folders/72/sf0gd2_15c7bv2klzkjcqt580000gn/T/ipykernel_55250/2244510212.py:10: FutureWarning: The default value of regex will change from True to False in a future version.\n",
      "  df.price = df.price.str.replace(',|원', '').astype('int')\n",
      "/var/folders/72/sf0gd2_15c7bv2klzkjcqt580000gn/T/ipykernel_55250/2244510212.py:10: FutureWarning: The default value of regex will change from True to False in a future version.\n",
      "  df.price = df.price.str.replace(',|원', '').astype('int')\n",
      "/var/folders/72/sf0gd2_15c7bv2klzkjcqt580000gn/T/ipykernel_55250/2244510212.py:10: FutureWarning: The default value of regex will change from True to False in a future version.\n",
      "  df.price = df.price.str.replace(',|원', '').astype('int')\n"
     ]
    }
   ],
   "source": [
    "column_list = ['rent_date', 'rent_day', 'return_date', 'return_day', 'car_name', 'oiltype', 'num_seat', 'price', 'reserve_avail', 'rent_period', 'img_url']\n",
    "\n",
    "# 전처리 및 컬럼 순서변경\n",
    "for df in [df_2n3d, df_3n4d, df_4n5d]:\n",
    "    preprocessing(df)\n",
    "\n",
    "df_2n3d = df_2n3d[column_list]\n",
    "df_3n4d = df_3n4d[column_list]\n",
    "df_4n5d = df_4n5d[column_list]"
   ]
  },
  {
   "cell_type": "code",
   "execution_count": 244,
   "metadata": {},
   "outputs": [
    {
     "data": {
      "text/html": [
       "<div>\n",
       "<style scoped>\n",
       "    .dataframe tbody tr th:only-of-type {\n",
       "        vertical-align: middle;\n",
       "    }\n",
       "\n",
       "    .dataframe tbody tr th {\n",
       "        vertical-align: top;\n",
       "    }\n",
       "\n",
       "    .dataframe thead th {\n",
       "        text-align: right;\n",
       "    }\n",
       "</style>\n",
       "<table border=\"1\" class=\"dataframe\">\n",
       "  <thead>\n",
       "    <tr style=\"text-align: right;\">\n",
       "      <th></th>\n",
       "      <th>rent_date</th>\n",
       "      <th>rent_day</th>\n",
       "      <th>return_date</th>\n",
       "      <th>return_day</th>\n",
       "      <th>car_name</th>\n",
       "      <th>oiltype</th>\n",
       "      <th>num_seat</th>\n",
       "      <th>price</th>\n",
       "      <th>reserve_avail</th>\n",
       "      <th>rent_period</th>\n",
       "      <th>img_url</th>\n",
       "    </tr>\n",
       "  </thead>\n",
       "  <tbody>\n",
       "    <tr>\n",
       "      <th>0</th>\n",
       "      <td>601</td>\n",
       "      <td>목</td>\n",
       "      <td>603</td>\n",
       "      <td>토</td>\n",
       "      <td>모닝 어반</td>\n",
       "      <td>가솔린</td>\n",
       "      <td>5</td>\n",
       "      <td>140800</td>\n",
       "      <td>1</td>\n",
       "      <td>2박 3일</td>\n",
       "      <td>https://www.lotterentacar.net/atch/getImage.do...</td>\n",
       "    </tr>\n",
       "    <tr>\n",
       "      <th>1</th>\n",
       "      <td>601</td>\n",
       "      <td>목</td>\n",
       "      <td>603</td>\n",
       "      <td>토</td>\n",
       "      <td>INTERACTIVE K5</td>\n",
       "      <td>가솔린</td>\n",
       "      <td>5</td>\n",
       "      <td>153000</td>\n",
       "      <td>1</td>\n",
       "      <td>2박 3일</td>\n",
       "      <td>https://www.lotterentacar.net/atch/getImage.do...</td>\n",
       "    </tr>\n",
       "    <tr>\n",
       "      <th>2</th>\n",
       "      <td>601</td>\n",
       "      <td>목</td>\n",
       "      <td>603</td>\n",
       "      <td>토</td>\n",
       "      <td>쏘나타 DN8</td>\n",
       "      <td>가솔린</td>\n",
       "      <td>5</td>\n",
       "      <td>153000</td>\n",
       "      <td>1</td>\n",
       "      <td>2박 3일</td>\n",
       "      <td>https://www.lotterentacar.net/atch/getImage.do...</td>\n",
       "    </tr>\n",
       "    <tr>\n",
       "      <th>3</th>\n",
       "      <td>601</td>\n",
       "      <td>목</td>\n",
       "      <td>603</td>\n",
       "      <td>토</td>\n",
       "      <td>K7 PREMIER  2.5</td>\n",
       "      <td>가솔린</td>\n",
       "      <td>5</td>\n",
       "      <td>163800</td>\n",
       "      <td>1</td>\n",
       "      <td>2박 3일</td>\n",
       "      <td>https://www.lotterentacar.net/atch/getImage.do...</td>\n",
       "    </tr>\n",
       "    <tr>\n",
       "      <th>4</th>\n",
       "      <td>601</td>\n",
       "      <td>목</td>\n",
       "      <td>603</td>\n",
       "      <td>토</td>\n",
       "      <td>더 뉴 그랜저 2.5</td>\n",
       "      <td>가솔린</td>\n",
       "      <td>5</td>\n",
       "      <td>163800</td>\n",
       "      <td>1</td>\n",
       "      <td>2박 3일</td>\n",
       "      <td>https://www.lotterentacar.net/atch/getImage.do...</td>\n",
       "    </tr>\n",
       "  </tbody>\n",
       "</table>\n",
       "</div>"
      ],
      "text/plain": [
       "   rent_date rent_day  return_date return_day         car_name oiltype  \\\n",
       "0        601        목          603          토           모닝 어반      가솔린   \n",
       "1        601        목          603          토  INTERACTIVE K5      가솔린   \n",
       "2        601        목          603          토         쏘나타 DN8      가솔린   \n",
       "3        601        목          603          토  K7 PREMIER  2.5     가솔린   \n",
       "4        601        목          603          토     더 뉴 그랜저 2.5      가솔린   \n",
       "\n",
       "   num_seat   price  reserve_avail rent_period  \\\n",
       "0         5  140800              1       2박 3일   \n",
       "1         5  153000              1       2박 3일   \n",
       "2         5  153000              1       2박 3일   \n",
       "3         5  163800              1       2박 3일   \n",
       "4         5  163800              1       2박 3일   \n",
       "\n",
       "                                             img_url  \n",
       "0  https://www.lotterentacar.net/atch/getImage.do...  \n",
       "1  https://www.lotterentacar.net/atch/getImage.do...  \n",
       "2  https://www.lotterentacar.net/atch/getImage.do...  \n",
       "3  https://www.lotterentacar.net/atch/getImage.do...  \n",
       "4  https://www.lotterentacar.net/atch/getImage.do...  "
      ]
     },
     "execution_count": 244,
     "metadata": {},
     "output_type": "execute_result"
    }
   ],
   "source": [
    "df_2n3d.head()"
   ]
  },
  {
   "cell_type": "code",
   "execution_count": 245,
   "metadata": {},
   "outputs": [
    {
     "data": {
      "text/html": [
       "<div>\n",
       "<style scoped>\n",
       "    .dataframe tbody tr th:only-of-type {\n",
       "        vertical-align: middle;\n",
       "    }\n",
       "\n",
       "    .dataframe tbody tr th {\n",
       "        vertical-align: top;\n",
       "    }\n",
       "\n",
       "    .dataframe thead th {\n",
       "        text-align: right;\n",
       "    }\n",
       "</style>\n",
       "<table border=\"1\" class=\"dataframe\">\n",
       "  <thead>\n",
       "    <tr style=\"text-align: right;\">\n",
       "      <th></th>\n",
       "      <th>rent_date</th>\n",
       "      <th>rent_day</th>\n",
       "      <th>return_date</th>\n",
       "      <th>return_day</th>\n",
       "      <th>car_name</th>\n",
       "      <th>oiltype</th>\n",
       "      <th>num_seat</th>\n",
       "      <th>price</th>\n",
       "      <th>reserve_avail</th>\n",
       "      <th>rent_period</th>\n",
       "      <th>img_url</th>\n",
       "    </tr>\n",
       "  </thead>\n",
       "  <tbody>\n",
       "    <tr>\n",
       "      <th>0</th>\n",
       "      <td>601</td>\n",
       "      <td>목</td>\n",
       "      <td>604</td>\n",
       "      <td>일</td>\n",
       "      <td>K7 PREMIER  2.5</td>\n",
       "      <td>가솔린</td>\n",
       "      <td>5</td>\n",
       "      <td>245700</td>\n",
       "      <td>1</td>\n",
       "      <td>3박 4일</td>\n",
       "      <td>https://www.lotterentacar.net/atch/getImage.do...</td>\n",
       "    </tr>\n",
       "    <tr>\n",
       "      <th>1</th>\n",
       "      <td>601</td>\n",
       "      <td>목</td>\n",
       "      <td>604</td>\n",
       "      <td>일</td>\n",
       "      <td>더 뉴 그랜저 2.5</td>\n",
       "      <td>가솔린</td>\n",
       "      <td>5</td>\n",
       "      <td>245700</td>\n",
       "      <td>1</td>\n",
       "      <td>3박 4일</td>\n",
       "      <td>https://www.lotterentacar.net/atch/getImage.do...</td>\n",
       "    </tr>\n",
       "    <tr>\n",
       "      <th>2</th>\n",
       "      <td>601</td>\n",
       "      <td>목</td>\n",
       "      <td>604</td>\n",
       "      <td>일</td>\n",
       "      <td>더 뉴 K3</td>\n",
       "      <td>가솔린</td>\n",
       "      <td>5</td>\n",
       "      <td>253500</td>\n",
       "      <td>1</td>\n",
       "      <td>3박 4일</td>\n",
       "      <td>https://www.lotterentacar.net/atch/getImage.do...</td>\n",
       "    </tr>\n",
       "    <tr>\n",
       "      <th>3</th>\n",
       "      <td>601</td>\n",
       "      <td>목</td>\n",
       "      <td>604</td>\n",
       "      <td>일</td>\n",
       "      <td>K8 2.5</td>\n",
       "      <td>가솔린</td>\n",
       "      <td>5</td>\n",
       "      <td>262500</td>\n",
       "      <td>1</td>\n",
       "      <td>3박 4일</td>\n",
       "      <td>https://www.lotterentacar.net/atch/getImage.do...</td>\n",
       "    </tr>\n",
       "    <tr>\n",
       "      <th>4</th>\n",
       "      <td>601</td>\n",
       "      <td>목</td>\n",
       "      <td>604</td>\n",
       "      <td>일</td>\n",
       "      <td>캐스퍼</td>\n",
       "      <td>가솔린</td>\n",
       "      <td>4</td>\n",
       "      <td>264000</td>\n",
       "      <td>1</td>\n",
       "      <td>3박 4일</td>\n",
       "      <td>https://www.lotterentacar.net/atch/getImage.do...</td>\n",
       "    </tr>\n",
       "  </tbody>\n",
       "</table>\n",
       "</div>"
      ],
      "text/plain": [
       "   rent_date rent_day  return_date return_day         car_name oiltype  \\\n",
       "0        601        목          604          일  K7 PREMIER  2.5     가솔린   \n",
       "1        601        목          604          일     더 뉴 그랜저 2.5      가솔린   \n",
       "2        601        목          604          일          더 뉴 K3      가솔린   \n",
       "3        601        목          604          일          K8 2.5      가솔린   \n",
       "4        601        목          604          일             캐스퍼      가솔린   \n",
       "\n",
       "   num_seat   price  reserve_avail rent_period  \\\n",
       "0         5  245700              1       3박 4일   \n",
       "1         5  245700              1       3박 4일   \n",
       "2         5  253500              1       3박 4일   \n",
       "3         5  262500              1       3박 4일   \n",
       "4         4  264000              1       3박 4일   \n",
       "\n",
       "                                             img_url  \n",
       "0  https://www.lotterentacar.net/atch/getImage.do...  \n",
       "1  https://www.lotterentacar.net/atch/getImage.do...  \n",
       "2  https://www.lotterentacar.net/atch/getImage.do...  \n",
       "3  https://www.lotterentacar.net/atch/getImage.do...  \n",
       "4  https://www.lotterentacar.net/atch/getImage.do...  "
      ]
     },
     "execution_count": 245,
     "metadata": {},
     "output_type": "execute_result"
    }
   ],
   "source": [
    "df_3n4d.head()"
   ]
  },
  {
   "cell_type": "code",
   "execution_count": 246,
   "metadata": {},
   "outputs": [
    {
     "data": {
      "text/html": [
       "<div>\n",
       "<style scoped>\n",
       "    .dataframe tbody tr th:only-of-type {\n",
       "        vertical-align: middle;\n",
       "    }\n",
       "\n",
       "    .dataframe tbody tr th {\n",
       "        vertical-align: top;\n",
       "    }\n",
       "\n",
       "    .dataframe thead th {\n",
       "        text-align: right;\n",
       "    }\n",
       "</style>\n",
       "<table border=\"1\" class=\"dataframe\">\n",
       "  <thead>\n",
       "    <tr style=\"text-align: right;\">\n",
       "      <th></th>\n",
       "      <th>rent_date</th>\n",
       "      <th>rent_day</th>\n",
       "      <th>return_date</th>\n",
       "      <th>return_day</th>\n",
       "      <th>car_name</th>\n",
       "      <th>oiltype</th>\n",
       "      <th>num_seat</th>\n",
       "      <th>price</th>\n",
       "      <th>reserve_avail</th>\n",
       "      <th>rent_period</th>\n",
       "      <th>img_url</th>\n",
       "    </tr>\n",
       "  </thead>\n",
       "  <tbody>\n",
       "    <tr>\n",
       "      <th>0</th>\n",
       "      <td>601</td>\n",
       "      <td>목</td>\n",
       "      <td>605</td>\n",
       "      <td>월</td>\n",
       "      <td>더 뉴 K3</td>\n",
       "      <td>가솔린</td>\n",
       "      <td>5</td>\n",
       "      <td>338000</td>\n",
       "      <td>1</td>\n",
       "      <td>4박 5일</td>\n",
       "      <td>https://www.lotterentacar.net/atch/getImage.do...</td>\n",
       "    </tr>\n",
       "    <tr>\n",
       "      <th>1</th>\n",
       "      <td>601</td>\n",
       "      <td>목</td>\n",
       "      <td>605</td>\n",
       "      <td>월</td>\n",
       "      <td>캐스퍼</td>\n",
       "      <td>가솔린</td>\n",
       "      <td>4</td>\n",
       "      <td>352000</td>\n",
       "      <td>1</td>\n",
       "      <td>4박 5일</td>\n",
       "      <td>https://www.lotterentacar.net/atch/getImage.do...</td>\n",
       "    </tr>\n",
       "    <tr>\n",
       "      <th>2</th>\n",
       "      <td>601</td>\n",
       "      <td>목</td>\n",
       "      <td>605</td>\n",
       "      <td>월</td>\n",
       "      <td>XM3 1.4</td>\n",
       "      <td>가솔린</td>\n",
       "      <td>5</td>\n",
       "      <td>360000</td>\n",
       "      <td>1</td>\n",
       "      <td>4박 5일</td>\n",
       "      <td>https://www.lotterentacar.net/atch/getImage.do...</td>\n",
       "    </tr>\n",
       "    <tr>\n",
       "      <th>3</th>\n",
       "      <td>601</td>\n",
       "      <td>목</td>\n",
       "      <td>605</td>\n",
       "      <td>월</td>\n",
       "      <td>THE NEW G70 2.0</td>\n",
       "      <td>가솔린</td>\n",
       "      <td>5</td>\n",
       "      <td>403200</td>\n",
       "      <td>1</td>\n",
       "      <td>4박 5일</td>\n",
       "      <td>https://www.lotterentacar.net/atch/getImage.do...</td>\n",
       "    </tr>\n",
       "    <tr>\n",
       "      <th>4</th>\n",
       "      <td>601</td>\n",
       "      <td>목</td>\n",
       "      <td>605</td>\n",
       "      <td>월</td>\n",
       "      <td>G70 SHOOTING BRAKE  2.0</td>\n",
       "      <td>가솔린</td>\n",
       "      <td>5</td>\n",
       "      <td>414000</td>\n",
       "      <td>1</td>\n",
       "      <td>4박 5일</td>\n",
       "      <td>https://www.lotterentacar.net/atch/getImage.do...</td>\n",
       "    </tr>\n",
       "  </tbody>\n",
       "</table>\n",
       "</div>"
      ],
      "text/plain": [
       "   rent_date rent_day  return_date return_day                 car_name  \\\n",
       "0        601        목          605          월                  더 뉴 K3    \n",
       "1        601        목          605          월                     캐스퍼    \n",
       "2        601        목          605          월                 XM3 1.4    \n",
       "3        601        목          605          월         THE NEW G70 2.0    \n",
       "4        601        목          605          월  G70 SHOOTING BRAKE  2.0   \n",
       "\n",
       "  oiltype  num_seat   price  reserve_avail rent_period  \\\n",
       "0     가솔린         5  338000              1       4박 5일   \n",
       "1     가솔린         4  352000              1       4박 5일   \n",
       "2     가솔린         5  360000              1       4박 5일   \n",
       "3     가솔린         5  403200              1       4박 5일   \n",
       "4     가솔린         5  414000              1       4박 5일   \n",
       "\n",
       "                                             img_url  \n",
       "0  https://www.lotterentacar.net/atch/getImage.do...  \n",
       "1  https://www.lotterentacar.net/atch/getImage.do...  \n",
       "2  https://www.lotterentacar.net/atch/getImage.do...  \n",
       "3  https://www.lotterentacar.net/atch/getImage.do...  \n",
       "4  https://www.lotterentacar.net/atch/getImage.do...  "
      ]
     },
     "execution_count": 246,
     "metadata": {},
     "output_type": "execute_result"
    }
   ],
   "source": [
    "df_4n5d.head()"
   ]
  },
  {
   "cell_type": "code",
   "execution_count": 247,
   "metadata": {},
   "outputs": [],
   "source": [
    "# df_car_total: 전체 다 합친 데이터프레임\n",
    "df_car_total = pd.concat([df_2n3d, df_3n4d, df_4n5d], ignore_index=True)"
   ]
  },
  {
   "cell_type": "code",
   "execution_count": 248,
   "metadata": {},
   "outputs": [
    {
     "data": {
      "text/plain": [
       "(array([280., 396., 212., 135.,  72.,  57.,  43.,  11.,   4.,  16.,   9.,\n",
       "          7.,   6.,   0.,   2.,   0.,   2.,   4.,   0.,   4.]),\n",
       " array([ 52800.,  88160., 123520., 158880., 194240., 229600., 264960.,\n",
       "        300320., 335680., 371040., 406400., 441760., 477120., 512480.,\n",
       "        547840., 583200., 618560., 653920., 689280., 724640., 760000.]),\n",
       " <BarContainer object of 20 artists>)"
      ]
     },
     "execution_count": 248,
     "metadata": {},
     "output_type": "execute_result"
    },
    {
     "data": {
      "image/png": "[encoded data removed]",
      "text/plain": [
       "<Figure size 640x480 with 1 Axes>"
      ]
     },
     "metadata": {},
     "output_type": "display_data"
    }
   ],
   "source": [
    "plt.hist(df_2n3d[df_2n3d.num_seat <= 7].price, bins = 20)"
   ]
  },
  {
   "cell_type": "code",
   "execution_count": 249,
   "metadata": {},
   "outputs": [
    {
     "data": {
      "text/plain": [
       "(array([270., 380., 202., 130.,  69.,  56.,  43.,  11.,   4.,  16.,   9.,\n",
       "          7.,   6.,   0.,   2.,   0.,   2.,   4.,   0.,   4.]),\n",
       " array([  79200.,  132240.,  185280.,  238320.,  291360.,  344400.,\n",
       "         397440.,  450480.,  503520.,  556560.,  609600.,  662640.,\n",
       "         715680.,  768720.,  821760.,  874800.,  927840.,  980880.,\n",
       "        1033920., 1086960., 1140000.]),\n",
       " <BarContainer object of 20 artists>)"
      ]
     },
     "execution_count": 249,
     "metadata": {},
     "output_type": "execute_result"
    },
    {
     "data": {
      "image/png": "[encoded data removed]",
      "text/plain": [
       "<Figure size 640x480 with 1 Axes>"
      ]
     },
     "metadata": {},
     "output_type": "display_data"
    }
   ],
   "source": [
    "plt.hist(df_3n4d[df_3n4d.num_seat <= 7].price, bins = 20)"
   ]
  },
  {
   "cell_type": "code",
   "execution_count": 250,
   "metadata": {},
   "outputs": [
    {
     "data": {
      "text/plain": [
       "(array([260., 364., 192., 125.,  66.,  55.,  43.,  11.,   4.,  16.,   9.,\n",
       "          7.,   6.,   0.,   2.,   0.,   2.,   4.,   0.,   4.]),\n",
       " array([ 105600.,  176320.,  247040.,  317760.,  388480.,  459200.,\n",
       "         529920.,  600640.,  671360.,  742080.,  812800.,  883520.,\n",
       "         954240., 1024960., 1095680., 1166400., 1237120., 1307840.,\n",
       "        1378560., 1449280., 1520000.]),\n",
       " <BarContainer object of 20 artists>)"
      ]
     },
     "execution_count": 250,
     "metadata": {},
     "output_type": "execute_result"
    },
    {
     "data": {
      "image/png": "[encoded data removed]",
      "text/plain": [
       "<Figure size 640x480 with 1 Axes>"
      ]
     },
     "metadata": {},
     "output_type": "display_data"
    }
   ],
   "source": [
    "plt.hist(df_4n5d[df_4n5d.num_seat <= 7].price, bins = 20)"
   ]
  },
  {
   "attachments": {},
   "cell_type": "markdown",
   "metadata": {},
   "source": [
    "## CSV 파일 저장"
   ]
  },
  {
   "cell_type": "code",
   "execution_count": 251,
   "metadata": {},
   "outputs": [],
   "source": [
    "df_2n3d.to_csv(base_path + '/db_car_2n3d.csv', index=False)\n",
    "df_3n4d.to_csv(base_path + '/db_car_3n4d.csv', index=False)\n",
    "df_4n5d.to_csv(base_path + '/db_car_4n5d.csv', index=False)\n",
    "df_car_total.to_csv(base_path + '/db_car_total.csv', index=False)"
   ]
  },
  {
   "attachments": {},
   "cell_type": "markdown",
   "metadata": {},
   "source": [
    "## DB 연결"
   ]
  },
  {
   "cell_type": "code",
   "execution_count": 252,
   "metadata": {},
   "outputs": [],
   "source": [
    "import psycopg2\n",
    "import csv\n",
    "\n",
    "host = 'drona.db.elephantsql.com'\n",
    "user = 'bnwptvqk'\n",
    "password = 'RWLldWbYTfneg_E7-NYZ0YeUH75vKq1d'\n",
    "database = 'bnwptvqk'\n",
    "\n",
    "conn = psycopg2.connect(\n",
    "    host=host,\n",
    "    user=user,\n",
    "    password=password,\n",
    "    database=database)\n",
    "\n",
    "cur = conn.cursor()\n",
    "\n",
    "## 2박 3일\n",
    "cur.execute(\"DROP TABLE IF EXISTS car_2n3d;\")\n",
    "cur.execute(\"\"\"CREATE TABLE IF NOT EXISTS car_2n3d(\n",
    "                rent_date INTEGER,\n",
    "                rent_day VARCHAR(200),\n",
    "                return_date INTEGER,\n",
    "                return_day VARCHAR(200),\n",
    "                car_name VARCHAR(200),\n",
    "                oiltype VARCHAR(200),\n",
    "                num_seat INTEGER,\n",
    "                price INTEGER,\n",
    "                reserve_avail INTEGER,\n",
    "                rent_period VARCHAR(200),\n",
    "                img_url VARCHAR(200)\n",
    "                \n",
    ");\"\"\")\n",
    "\n",
    "with open(base_path +'/db_car_2n3d.csv', 'r', newline='') as f:\n",
    "    r = csv.reader(f)\n",
    "    next(r)\n",
    "    for row in r:\n",
    "        cur.execute(\"\"\"INSERT INTO car_2n3d VALUES(\n",
    "                    %s, %s, %s, %s, %s, %s, %s, %s, %s, %s, %s);\"\"\", tuple(row))\n",
    "        \n",
    "conn.commit()"
   ]
  },
  {
   "cell_type": "code",
   "execution_count": null,
   "metadata": {},
   "outputs": [],
   "source": [
    "## 3박 4일\n",
    "cur.execute(\"DROP TABLE IF EXISTS car_3n4d;\")\n",
    "cur.execute(\"\"\"CREATE TABLE IF NOT EXISTS car_3n4d(\n",
    "                rent_date INTEGER,\n",
    "                rent_day VARCHAR(200),\n",
    "                return_date INTEGER,\n",
    "                return_day VARCHAR(200),\n",
    "                car_name VARCHAR(200),\n",
    "                oiltype VARCHAR(200),\n",
    "                num_seat INTEGER,\n",
    "                price INTEGER,\n",
    "                reserve_avail INTEGER,\n",
    "                rent_period VARCHAR(200),\n",
    "                img_url VARCHAR(200)\n",
    "                \n",
    ");\"\"\")\n",
    "\n",
    "with open(base_path +'/db_car_3n4d.csv', 'r', newline='') as f:\n",
    "    r = csv.reader(f)\n",
    "    next(r)\n",
    "    for row in r:\n",
    "        cur.execute(\"\"\"INSERT INTO car_3n4d VALUES(\n",
    "                    %s, %s, %s, %s, %s, %s, %s, %s, %s, %s, %s);\"\"\", tuple(row))\n",
    "        \n",
    "conn.commit()"
   ]
  },
  {
   "cell_type": "code",
   "execution_count": null,
   "metadata": {},
   "outputs": [],
   "source": [
    "## 4박 5일\n",
    "cur.execute(\"DROP TABLE IF EXISTS car_4n4d;\")\n",
    "cur.execute(\"\"\"CREATE TABLE IF NOT EXISTS car_4n4d(\n",
    "                rent_date INTEGER,\n",
    "                rent_day VARCHAR(200),\n",
    "                return_date INTEGER,\n",
    "                return_day VARCHAR(200),\n",
    "                car_name VARCHAR(200),\n",
    "                oiltype VARCHAR(200),\n",
    "                num_seat INTEGER,\n",
    "                price INTEGER,\n",
    "                reserve_avail INTEGER,\n",
    "                rent_period VARCHAR(200),\n",
    "                img_url VARCHAR(200)\n",
    "                \n",
    ");\"\"\")\n",
    "\n",
    "with open(base_path +'/db_car_4n5d.csv', 'r', newline='') as f:\n",
    "    r = csv.reader(f)\n",
    "    next(r)\n",
    "    for row in r:\n",
    "        cur.execute(\"\"\"INSERT INTO car_4n4d VALUES(\n",
    "                    %s, %s, %s, %s, %s, %s, %s, %s, %s, %s, %s);\"\"\", tuple(row))\n",
    "        \n",
    "conn.commit()"
   ]
  },
  {
   "cell_type": "code",
   "execution_count": null,
   "metadata": {},
   "outputs": [],
   "source": [
    "## 전체 데이터\n",
    "conn = psycopg2.connect(\n",
    "    host=host,\n",
    "    user=user,\n",
    "    password=password,\n",
    "    database=database)\n",
    "\n",
    "cur = conn.cursor()\n",
    "cur.execute(\"DROP TABLE IF EXISTS car_total;\")\n",
    "cur.execute(\"\"\"CREATE TABLE IF NOT EXISTS car_total(\n",
    "                rent_date INTEGER,\n",
    "                rent_day VARCHAR(200),\n",
    "                return_date INTEGER,\n",
    "                return_day VARCHAR(200),\n",
    "                car_name VARCHAR(200),\n",
    "                oiltype VARCHAR(200),\n",
    "                num_seat INTEGER,\n",
    "                price INTEGER,\n",
    "                reserve_avail INTEGER,\n",
    "                rent_period VARCHAR(200),\n",
    "                img_url VARCHAR(200)\n",
    "                \n",
    ");\"\"\")\n",
    "\n",
    "with open(base_path +'/db_car_total.csv', 'r', newline='') as f:\n",
    "    r = csv.reader(f)\n",
    "    next(r)\n",
    "    for row in r:\n",
    "        cur.execute(\"\"\"INSERT INTO car_total VALUES(\n",
    "                    %s, %s, %s, %s, %s, %s, %s, %s, %s, %s, %s);\"\"\", tuple(row))\n",
    "        \n",
    "conn.commit()\n",
    "conn.close()\n",
    "cur.close()"
   ]
  }
 ],
 "metadata": {
  "kernelspec": {
   "display_name": "t1project",
   "language": "python",
   "name": "python3"
  },
  "language_info": {
   "codemirror_mode": {
    "name": "ipython",
    "version": 3
   },
   "file_extension": ".py",
   "mimetype": "text/x-python",
   "name": "python",
   "nbconvert_exporter": "python",
   "pygments_lexer": "ipython3",
   "version": "3.8.16"
  },
  "orig_nbformat": 4
 },
 "nbformat": 4,
 "nbformat_minor": 2
}
