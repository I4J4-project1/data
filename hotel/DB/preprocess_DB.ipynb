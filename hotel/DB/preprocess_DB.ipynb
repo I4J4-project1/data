{
  "nbformat": 4,
  "nbformat_minor": 0,
  "metadata": {
    "colab": {
      "provenance": [],
      "collapsed_sections": [
        "f6jgaaiQiw8u",
        "cXCQgGk0iSBZ",
        "q7PoCpfWim1g",
        "7gj6kKKWUFhz",
        "yATytC7gvuYi",
        "q6IUMU0dWBT4"
      ],
      "gpuType": "T4"
    },
    "kernelspec": {
      "name": "python3",
      "display_name": "Python 3"
    },
    "language_info": {
      "name": "python"
    },
    "gpuClass": "standard"
  },
  "cells": [
    {
      "cell_type": "markdown",
      "source": [
        "### data preprocessing"
      ],
      "metadata": {
        "id": "CM1fM1AIzxxJ"
      }
    },
    {
      "cell_type": "code",
      "execution_count": 1,
      "metadata": {
        "id": "rxHJ89LOEYn2",
        "colab": {
          "base_uri": "https://localhost:8080/"
        },
        "outputId": "9738f6f9-2826-41c7-fa55-1f1167138b5e"
      },
      "outputs": [
        {
          "output_type": "stream",
          "name": "stdout",
          "text": [
            "Mounted at /content/drive\n"
          ]
        }
      ],
      "source": [
        "#colab에서 작업\n",
        "from google.colab import drive\n",
        "drive.mount('/content/drive')"
      ]
    },
    {
      "cell_type": "code",
      "source": [
        "import pandas as pd\n",
        "import numpy as np\n",
        "import re"
      ],
      "metadata": {
        "id": "x63PtOKQsDjq"
      },
      "execution_count": 2,
      "outputs": []
    },
    {
      "cell_type": "code",
      "source": [
        "\"\"\"\n",
        "name23 = pd.read_csv('/content/drive/MyDrive/AIB17/project1/2_name_23.csv', names=['name','location','sg','memo'], encoding='cp949')\n",
        "price23 = pd.read_csv('/content/drive/MyDrive/AIB17/project1/2_price_23.csv', names=['price','checkin_date','checkin_day','checkout_date','checkout_day'], encoding='cp949')\n",
        "name34 = pd.read_csv('/content/drive/MyDrive/AIB17/project1/2_name_34.csv', names=['name','location','sg','memo'], encoding='cp949')\n",
        "price34 = pd.read_csv('/content/drive/MyDrive/AIB17/project1/2_price_34.csv', names=['price','checkin_date','checkin_day','checkout_date','checkout_day'], encoding='cp949')\n",
        "name45 = pd.read_csv('/content/drive/MyDrive/AIB17/project1/2_name_45.csv', names=['name','location','sg','memo'], encoding='cp949')\n",
        "price45 = pd.read_csv('/content/drive/MyDrive/AIB17/project1/2_price_45.csv', names=['price','checkin_date','checkin_day','checkout_date','checkout_day'], encoding='cp949')\n",
        "\n",
        "name23 = pd.read_csv('/content/drive/MyDrive/AIB17/project1/3_name_23.csv', names=['name','location','sg','memo'], encoding='cp949')\n",
        "price23 = pd.read_csv('/content/drive/MyDrive/AIB17/project1/3_price_23.csv', names=['price','checkin_date','checkin_day','checkout_date','checkout_day'], encoding='cp949')\n",
        "name34 = pd.read_csv('/content/drive/MyDrive/AIB17/project1/3_name_34.csv', names=['name','location','sg','memo'], encoding='cp949')\n",
        "price34 = pd.read_csv('/content/drive/MyDrive/AIB17/project1/3_price_34.csv', names=['price','checkin_date','checkin_day','checkout_date','checkout_day'], encoding='cp949')\n",
        "name45 = pd.read_csv('/content/drive/MyDrive/AIB17/project1/3_name_45.csv', names=['name','location','sg','memo'], encoding='cp949')\n",
        "price45 = pd.read_csv('/content/drive/MyDrive/AIB17/project1/3_price_45.csv', names=['price','checkin_date','checkin_day','checkout_date','checkout_day'], encoding='cp949')\n",
        "\"\"\"\n",
        "name23 = pd.read_csv('/content/drive/MyDrive/AIB17/project1/4_name_23.csv', names=['name','location','sg','memo'], encoding='cp949')\n",
        "price23 = pd.read_csv('/content/drive/MyDrive/AIB17/project1/4_price_23.csv', names=['price','checkin_date','checkin_day','checkout_date','checkout_day'], encoding='cp949')\n",
        "name34 = pd.read_csv('/content/drive/MyDrive/AIB17/project1/4_name_34.csv', names=['name','location','sg','memo'], encoding='cp949')\n",
        "price34 = pd.read_csv('/content/drive/MyDrive/AIB17/project1/4_price_34.csv', names=['price','checkin_date','checkin_day','checkout_date','checkout_day'], encoding='cp949')\n",
        "name45 = pd.read_csv('/content/drive/MyDrive/AIB17/project1/4_name_45.csv', names=['name','location','sg','memo'], encoding='cp949')\n",
        "price45 = pd.read_csv('/content/drive/MyDrive/AIB17/project1/4_price_45.csv', names=['price','checkin_date','checkin_day','checkout_date','checkout_day'], encoding='cp949')\n"
      ],
      "metadata": {
        "id": "sagTdSiTr5U9"
      },
      "execution_count": null,
      "outputs": []
    },
    {
      "cell_type": "code",
      "source": [
        "name23.head(5)"
      ],
      "metadata": {
        "colab": {
          "base_uri": "https://localhost:8080/",
          "height": 206
        },
        "id": "q7HsaJUVsVQv",
        "outputId": "56de4de3-7713-4412-c8ed-ac24eecf571c"
      },
      "execution_count": null,
      "outputs": [
        {
          "output_type": "execute_result",
          "data": {
            "text/plain": [
              "                name   location      sg      memo\n",
              "0         파르나스 호텔 제주  서귀포, 대한민국  9.25성급       NaN\n",
              "1           제주 신라 호텔  서귀포, 대한민국  9.05성급  직원들이 친절함\n",
              "2  랜딩관 제주신화월드 호텔앤리조트  서귀포, 대한민국  8.35성급       NaN\n",
              "3          메종 글래드 제주   제주, 대한민국  8.15성급  위치 아주 좋음\n",
              "4      라마다 프라자 제주 호텔   제주, 대한민국  8.25성급  직원들이 친절함"
            ],
            "text/html": [
              "\n",
              "  <div id=\"df-f73f24da-e466-40db-bac8-1d2a58a7cefa\">\n",
              "    <div class=\"colab-df-container\">\n",
              "      <div>\n",
              "<style scoped>\n",
              "    .dataframe tbody tr th:only-of-type {\n",
              "        vertical-align: middle;\n",
              "    }\n",
              "\n",
              "    .dataframe tbody tr th {\n",
              "        vertical-align: top;\n",
              "    }\n",
              "\n",
              "    .dataframe thead th {\n",
              "        text-align: right;\n",
              "    }\n",
              "</style>\n",
              "<table border=\"1\" class=\"dataframe\">\n",
              "  <thead>\n",
              "    <tr style=\"text-align: right;\">\n",
              "      <th></th>\n",
              "      <th>name</th>\n",
              "      <th>location</th>\n",
              "      <th>sg</th>\n",
              "      <th>memo</th>\n",
              "    </tr>\n",
              "  </thead>\n",
              "  <tbody>\n",
              "    <tr>\n",
              "      <th>0</th>\n",
              "      <td>파르나스 호텔 제주</td>\n",
              "      <td>서귀포, 대한민국</td>\n",
              "      <td>9.25성급</td>\n",
              "      <td>NaN</td>\n",
              "    </tr>\n",
              "    <tr>\n",
              "      <th>1</th>\n",
              "      <td>제주 신라 호텔</td>\n",
              "      <td>서귀포, 대한민국</td>\n",
              "      <td>9.05성급</td>\n",
              "      <td>직원들이 친절함</td>\n",
              "    </tr>\n",
              "    <tr>\n",
              "      <th>2</th>\n",
              "      <td>랜딩관 제주신화월드 호텔앤리조트</td>\n",
              "      <td>서귀포, 대한민국</td>\n",
              "      <td>8.35성급</td>\n",
              "      <td>NaN</td>\n",
              "    </tr>\n",
              "    <tr>\n",
              "      <th>3</th>\n",
              "      <td>메종 글래드 제주</td>\n",
              "      <td>제주, 대한민국</td>\n",
              "      <td>8.15성급</td>\n",
              "      <td>위치 아주 좋음</td>\n",
              "    </tr>\n",
              "    <tr>\n",
              "      <th>4</th>\n",
              "      <td>라마다 프라자 제주 호텔</td>\n",
              "      <td>제주, 대한민국</td>\n",
              "      <td>8.25성급</td>\n",
              "      <td>직원들이 친절함</td>\n",
              "    </tr>\n",
              "  </tbody>\n",
              "</table>\n",
              "</div>\n",
              "      <button class=\"colab-df-convert\" onclick=\"convertToInteractive('df-f73f24da-e466-40db-bac8-1d2a58a7cefa')\"\n",
              "              title=\"Convert this dataframe to an interactive table.\"\n",
              "              style=\"display:none;\">\n",
              "        \n",
              "  <svg xmlns=\"http://www.w3.org/2000/svg\" height=\"24px\"viewBox=\"0 0 24 24\"\n",
              "       width=\"24px\">\n",
              "    <path d=\"M0 0h24v24H0V0z\" fill=\"none\"/>\n",
              "    <path d=\"M18.56 5.44l.94 2.06.94-2.06 2.06-.94-2.06-.94-.94-2.06-.94 2.06-2.06.94zm-11 1L8.5 8.5l.94-2.06 2.06-.94-2.06-.94L8.5 2.5l-.94 2.06-2.06.94zm10 10l.94 2.06.94-2.06 2.06-.94-2.06-.94-.94-2.06-.94 2.06-2.06.94z\"/><path d=\"M17.41 7.96l-1.37-1.37c-.4-.4-.92-.59-1.43-.59-.52 0-1.04.2-1.43.59L10.3 9.45l-7.72 7.72c-.78.78-.78 2.05 0 2.83L4 21.41c.39.39.9.59 1.41.59.51 0 1.02-.2 1.41-.59l7.78-7.78 2.81-2.81c.8-.78.8-2.07 0-2.86zM5.41 20L4 18.59l7.72-7.72 1.47 1.35L5.41 20z\"/>\n",
              "  </svg>\n",
              "      </button>\n",
              "      \n",
              "  <style>\n",
              "    .colab-df-container {\n",
              "      display:flex;\n",
              "      flex-wrap:wrap;\n",
              "      gap: 12px;\n",
              "    }\n",
              "\n",
              "    .colab-df-convert {\n",
              "      background-color: #E8F0FE;\n",
              "      border: none;\n",
              "      border-radius: 50%;\n",
              "      cursor: pointer;\n",
              "      display: none;\n",
              "      fill: #1967D2;\n",
              "      height: 32px;\n",
              "      padding: 0 0 0 0;\n",
              "      width: 32px;\n",
              "    }\n",
              "\n",
              "    .colab-df-convert:hover {\n",
              "      background-color: #E2EBFA;\n",
              "      box-shadow: 0px 1px 2px rgba(60, 64, 67, 0.3), 0px 1px 3px 1px rgba(60, 64, 67, 0.15);\n",
              "      fill: #174EA6;\n",
              "    }\n",
              "\n",
              "    [theme=dark] .colab-df-convert {\n",
              "      background-color: #3B4455;\n",
              "      fill: #D2E3FC;\n",
              "    }\n",
              "\n",
              "    [theme=dark] .colab-df-convert:hover {\n",
              "      background-color: #434B5C;\n",
              "      box-shadow: 0px 1px 3px 1px rgba(0, 0, 0, 0.15);\n",
              "      filter: drop-shadow(0px 1px 2px rgba(0, 0, 0, 0.3));\n",
              "      fill: #FFFFFF;\n",
              "    }\n",
              "  </style>\n",
              "\n",
              "      <script>\n",
              "        const buttonEl =\n",
              "          document.querySelector('#df-f73f24da-e466-40db-bac8-1d2a58a7cefa button.colab-df-convert');\n",
              "        buttonEl.style.display =\n",
              "          google.colab.kernel.accessAllowed ? 'block' : 'none';\n",
              "\n",
              "        async function convertToInteractive(key) {\n",
              "          const element = document.querySelector('#df-f73f24da-e466-40db-bac8-1d2a58a7cefa');\n",
              "          const dataTable =\n",
              "            await google.colab.kernel.invokeFunction('convertToInteractive',\n",
              "                                                     [key], {});\n",
              "          if (!dataTable) return;\n",
              "\n",
              "          const docLinkHtml = 'Like what you see? Visit the ' +\n",
              "            '<a target=\"_blank\" href=https://colab.research.google.com/notebooks/data_table.ipynb>data table notebook</a>'\n",
              "            + ' to learn more about interactive tables.';\n",
              "          element.innerHTML = '';\n",
              "          dataTable['output_type'] = 'display_data';\n",
              "          await google.colab.output.renderOutput(dataTable, element);\n",
              "          const docLink = document.createElement('div');\n",
              "          docLink.innerHTML = docLinkHtml;\n",
              "          element.appendChild(docLink);\n",
              "        }\n",
              "      </script>\n",
              "    </div>\n",
              "  </div>\n",
              "  "
            ]
          },
          "metadata": {},
          "execution_count": 82
        }
      ]
    },
    {
      "cell_type": "code",
      "source": [
        "price45.head(5)"
      ],
      "metadata": {
        "colab": {
          "base_uri": "https://localhost:8080/",
          "height": 206
        },
        "id": "0aIVnoiasois",
        "outputId": "3537cde8-e09f-4b78-d770-a38504fb9582"
      },
      "execution_count": null,
      "outputs": [
        {
          "output_type": "execute_result",
          "data": {
            "text/plain": [
              "          price  checkin_date checkin_day  checkout_date checkout_day\n",
              "0  21,560,000원~          6.01           목           6.05            월\n",
              "1     708,992원~          6.01           목           6.05            월\n",
              "2     595,044원~          6.01           목           6.05            월\n",
              "3   1,889,259원~          6.01           목           6.05            월\n",
              "4     314,650원~          6.01           목           6.05            월"
            ],
            "text/html": [
              "\n",
              "  <div id=\"df-735a8d26-1075-4a87-9bac-394cdf41e7fe\">\n",
              "    <div class=\"colab-df-container\">\n",
              "      <div>\n",
              "<style scoped>\n",
              "    .dataframe tbody tr th:only-of-type {\n",
              "        vertical-align: middle;\n",
              "    }\n",
              "\n",
              "    .dataframe tbody tr th {\n",
              "        vertical-align: top;\n",
              "    }\n",
              "\n",
              "    .dataframe thead th {\n",
              "        text-align: right;\n",
              "    }\n",
              "</style>\n",
              "<table border=\"1\" class=\"dataframe\">\n",
              "  <thead>\n",
              "    <tr style=\"text-align: right;\">\n",
              "      <th></th>\n",
              "      <th>price</th>\n",
              "      <th>checkin_date</th>\n",
              "      <th>checkin_day</th>\n",
              "      <th>checkout_date</th>\n",
              "      <th>checkout_day</th>\n",
              "    </tr>\n",
              "  </thead>\n",
              "  <tbody>\n",
              "    <tr>\n",
              "      <th>0</th>\n",
              "      <td>21,560,000원~</td>\n",
              "      <td>6.01</td>\n",
              "      <td>목</td>\n",
              "      <td>6.05</td>\n",
              "      <td>월</td>\n",
              "    </tr>\n",
              "    <tr>\n",
              "      <th>1</th>\n",
              "      <td>708,992원~</td>\n",
              "      <td>6.01</td>\n",
              "      <td>목</td>\n",
              "      <td>6.05</td>\n",
              "      <td>월</td>\n",
              "    </tr>\n",
              "    <tr>\n",
              "      <th>2</th>\n",
              "      <td>595,044원~</td>\n",
              "      <td>6.01</td>\n",
              "      <td>목</td>\n",
              "      <td>6.05</td>\n",
              "      <td>월</td>\n",
              "    </tr>\n",
              "    <tr>\n",
              "      <th>3</th>\n",
              "      <td>1,889,259원~</td>\n",
              "      <td>6.01</td>\n",
              "      <td>목</td>\n",
              "      <td>6.05</td>\n",
              "      <td>월</td>\n",
              "    </tr>\n",
              "    <tr>\n",
              "      <th>4</th>\n",
              "      <td>314,650원~</td>\n",
              "      <td>6.01</td>\n",
              "      <td>목</td>\n",
              "      <td>6.05</td>\n",
              "      <td>월</td>\n",
              "    </tr>\n",
              "  </tbody>\n",
              "</table>\n",
              "</div>\n",
              "      <button class=\"colab-df-convert\" onclick=\"convertToInteractive('df-735a8d26-1075-4a87-9bac-394cdf41e7fe')\"\n",
              "              title=\"Convert this dataframe to an interactive table.\"\n",
              "              style=\"display:none;\">\n",
              "        \n",
              "  <svg xmlns=\"http://www.w3.org/2000/svg\" height=\"24px\"viewBox=\"0 0 24 24\"\n",
              "       width=\"24px\">\n",
              "    <path d=\"M0 0h24v24H0V0z\" fill=\"none\"/>\n",
              "    <path d=\"M18.56 5.44l.94 2.06.94-2.06 2.06-.94-2.06-.94-.94-2.06-.94 2.06-2.06.94zm-11 1L8.5 8.5l.94-2.06 2.06-.94-2.06-.94L8.5 2.5l-.94 2.06-2.06.94zm10 10l.94 2.06.94-2.06 2.06-.94-2.06-.94-.94-2.06-.94 2.06-2.06.94z\"/><path d=\"M17.41 7.96l-1.37-1.37c-.4-.4-.92-.59-1.43-.59-.52 0-1.04.2-1.43.59L10.3 9.45l-7.72 7.72c-.78.78-.78 2.05 0 2.83L4 21.41c.39.39.9.59 1.41.59.51 0 1.02-.2 1.41-.59l7.78-7.78 2.81-2.81c.8-.78.8-2.07 0-2.86zM5.41 20L4 18.59l7.72-7.72 1.47 1.35L5.41 20z\"/>\n",
              "  </svg>\n",
              "      </button>\n",
              "      \n",
              "  <style>\n",
              "    .colab-df-container {\n",
              "      display:flex;\n",
              "      flex-wrap:wrap;\n",
              "      gap: 12px;\n",
              "    }\n",
              "\n",
              "    .colab-df-convert {\n",
              "      background-color: #E8F0FE;\n",
              "      border: none;\n",
              "      border-radius: 50%;\n",
              "      cursor: pointer;\n",
              "      display: none;\n",
              "      fill: #1967D2;\n",
              "      height: 32px;\n",
              "      padding: 0 0 0 0;\n",
              "      width: 32px;\n",
              "    }\n",
              "\n",
              "    .colab-df-convert:hover {\n",
              "      background-color: #E2EBFA;\n",
              "      box-shadow: 0px 1px 2px rgba(60, 64, 67, 0.3), 0px 1px 3px 1px rgba(60, 64, 67, 0.15);\n",
              "      fill: #174EA6;\n",
              "    }\n",
              "\n",
              "    [theme=dark] .colab-df-convert {\n",
              "      background-color: #3B4455;\n",
              "      fill: #D2E3FC;\n",
              "    }\n",
              "\n",
              "    [theme=dark] .colab-df-convert:hover {\n",
              "      background-color: #434B5C;\n",
              "      box-shadow: 0px 1px 3px 1px rgba(0, 0, 0, 0.15);\n",
              "      filter: drop-shadow(0px 1px 2px rgba(0, 0, 0, 0.3));\n",
              "      fill: #FFFFFF;\n",
              "    }\n",
              "  </style>\n",
              "\n",
              "      <script>\n",
              "        const buttonEl =\n",
              "          document.querySelector('#df-735a8d26-1075-4a87-9bac-394cdf41e7fe button.colab-df-convert');\n",
              "        buttonEl.style.display =\n",
              "          google.colab.kernel.accessAllowed ? 'block' : 'none';\n",
              "\n",
              "        async function convertToInteractive(key) {\n",
              "          const element = document.querySelector('#df-735a8d26-1075-4a87-9bac-394cdf41e7fe');\n",
              "          const dataTable =\n",
              "            await google.colab.kernel.invokeFunction('convertToInteractive',\n",
              "                                                     [key], {});\n",
              "          if (!dataTable) return;\n",
              "\n",
              "          const docLinkHtml = 'Like what you see? Visit the ' +\n",
              "            '<a target=\"_blank\" href=https://colab.research.google.com/notebooks/data_table.ipynb>data table notebook</a>'\n",
              "            + ' to learn more about interactive tables.';\n",
              "          element.innerHTML = '';\n",
              "          dataTable['output_type'] = 'display_data';\n",
              "          await google.colab.output.renderOutput(dataTable, element);\n",
              "          const docLink = document.createElement('div');\n",
              "          docLink.innerHTML = docLinkHtml;\n",
              "          element.appendChild(docLink);\n",
              "        }\n",
              "      </script>\n",
              "    </div>\n",
              "  </div>\n",
              "  "
            ]
          },
          "metadata": {},
          "execution_count": 83
        }
      ]
    },
    {
      "cell_type": "markdown",
      "source": [
        "##### name data"
      ],
      "metadata": {
        "id": "f6jgaaiQiw8u"
      }
    },
    {
      "cell_type": "code",
      "source": [
        "name23 = name23.iloc[:,0:3]\n",
        "name34 = name34.iloc[:,0:3]\n",
        "name45 = name45.iloc[:,0:3]"
      ],
      "metadata": {
        "id": "Oe4xpo7Vsvty"
      },
      "execution_count": null,
      "outputs": []
    },
    {
      "cell_type": "code",
      "source": [
        "name45"
      ],
      "metadata": {
        "colab": {
          "base_uri": "https://localhost:8080/",
          "height": 424
        },
        "id": "ZUoxXOg9AkVz",
        "outputId": "29f0d93c-2a6b-4481-d8e9-5995a71fb65e"
      },
      "execution_count": null,
      "outputs": [
        {
          "output_type": "execute_result",
          "data": {
            "text/plain": [
              "                name   location      sg\n",
              "0           제주 신라 호텔  서귀포, 대한민국  9.05성급\n",
              "1      라마다 프라자 제주 호텔   제주, 대한민국  8.25성급\n",
              "2       라마다 제주 시티 호텔   제주, 대한민국  8.14성급\n",
              "3        휘닉스 제주 섭지코지  서귀포, 대한민국  7.84성급\n",
              "4         더큐브 리조트 제주  서귀포, 대한민국  8.24성급\n",
              "...              ...        ...     ...\n",
              "2595     라온 호텔 앤 리조트   제주, 대한민국  6.83성급\n",
              "2596          에벤에셀호텔   제주, 대한민국     8.5\n",
              "2597      골드원 호텔&스위트  서귀포, 대한민국  8.64성급\n",
              "2598  제주 샹그릴라 호텔앤리조트   제주, 대한민국  7.83성급\n",
              "2599      제주 마레보 리조트   제주, 대한민국  7.63성급\n",
              "\n",
              "[2600 rows x 3 columns]"
            ],
            "text/html": [
              "\n",
              "  <div id=\"df-7904625f-d452-4e00-b8df-2a80eaf60629\">\n",
              "    <div class=\"colab-df-container\">\n",
              "      <div>\n",
              "<style scoped>\n",
              "    .dataframe tbody tr th:only-of-type {\n",
              "        vertical-align: middle;\n",
              "    }\n",
              "\n",
              "    .dataframe tbody tr th {\n",
              "        vertical-align: top;\n",
              "    }\n",
              "\n",
              "    .dataframe thead th {\n",
              "        text-align: right;\n",
              "    }\n",
              "</style>\n",
              "<table border=\"1\" class=\"dataframe\">\n",
              "  <thead>\n",
              "    <tr style=\"text-align: right;\">\n",
              "      <th></th>\n",
              "      <th>name</th>\n",
              "      <th>location</th>\n",
              "      <th>sg</th>\n",
              "    </tr>\n",
              "  </thead>\n",
              "  <tbody>\n",
              "    <tr>\n",
              "      <th>0</th>\n",
              "      <td>제주 신라 호텔</td>\n",
              "      <td>서귀포, 대한민국</td>\n",
              "      <td>9.05성급</td>\n",
              "    </tr>\n",
              "    <tr>\n",
              "      <th>1</th>\n",
              "      <td>라마다 프라자 제주 호텔</td>\n",
              "      <td>제주, 대한민국</td>\n",
              "      <td>8.25성급</td>\n",
              "    </tr>\n",
              "    <tr>\n",
              "      <th>2</th>\n",
              "      <td>라마다 제주 시티 호텔</td>\n",
              "      <td>제주, 대한민국</td>\n",
              "      <td>8.14성급</td>\n",
              "    </tr>\n",
              "    <tr>\n",
              "      <th>3</th>\n",
              "      <td>휘닉스 제주 섭지코지</td>\n",
              "      <td>서귀포, 대한민국</td>\n",
              "      <td>7.84성급</td>\n",
              "    </tr>\n",
              "    <tr>\n",
              "      <th>4</th>\n",
              "      <td>더큐브 리조트 제주</td>\n",
              "      <td>서귀포, 대한민국</td>\n",
              "      <td>8.24성급</td>\n",
              "    </tr>\n",
              "    <tr>\n",
              "      <th>...</th>\n",
              "      <td>...</td>\n",
              "      <td>...</td>\n",
              "      <td>...</td>\n",
              "    </tr>\n",
              "    <tr>\n",
              "      <th>2595</th>\n",
              "      <td>라온 호텔 앤 리조트</td>\n",
              "      <td>제주, 대한민국</td>\n",
              "      <td>6.83성급</td>\n",
              "    </tr>\n",
              "    <tr>\n",
              "      <th>2596</th>\n",
              "      <td>에벤에셀호텔</td>\n",
              "      <td>제주, 대한민국</td>\n",
              "      <td>8.5</td>\n",
              "    </tr>\n",
              "    <tr>\n",
              "      <th>2597</th>\n",
              "      <td>골드원 호텔&amp;스위트</td>\n",
              "      <td>서귀포, 대한민국</td>\n",
              "      <td>8.64성급</td>\n",
              "    </tr>\n",
              "    <tr>\n",
              "      <th>2598</th>\n",
              "      <td>제주 샹그릴라 호텔앤리조트</td>\n",
              "      <td>제주, 대한민국</td>\n",
              "      <td>7.83성급</td>\n",
              "    </tr>\n",
              "    <tr>\n",
              "      <th>2599</th>\n",
              "      <td>제주 마레보 리조트</td>\n",
              "      <td>제주, 대한민국</td>\n",
              "      <td>7.63성급</td>\n",
              "    </tr>\n",
              "  </tbody>\n",
              "</table>\n",
              "<p>2600 rows × 3 columns</p>\n",
              "</div>\n",
              "      <button class=\"colab-df-convert\" onclick=\"convertToInteractive('df-7904625f-d452-4e00-b8df-2a80eaf60629')\"\n",
              "              title=\"Convert this dataframe to an interactive table.\"\n",
              "              style=\"display:none;\">\n",
              "        \n",
              "  <svg xmlns=\"http://www.w3.org/2000/svg\" height=\"24px\"viewBox=\"0 0 24 24\"\n",
              "       width=\"24px\">\n",
              "    <path d=\"M0 0h24v24H0V0z\" fill=\"none\"/>\n",
              "    <path d=\"M18.56 5.44l.94 2.06.94-2.06 2.06-.94-2.06-.94-.94-2.06-.94 2.06-2.06.94zm-11 1L8.5 8.5l.94-2.06 2.06-.94-2.06-.94L8.5 2.5l-.94 2.06-2.06.94zm10 10l.94 2.06.94-2.06 2.06-.94-2.06-.94-.94-2.06-.94 2.06-2.06.94z\"/><path d=\"M17.41 7.96l-1.37-1.37c-.4-.4-.92-.59-1.43-.59-.52 0-1.04.2-1.43.59L10.3 9.45l-7.72 7.72c-.78.78-.78 2.05 0 2.83L4 21.41c.39.39.9.59 1.41.59.51 0 1.02-.2 1.41-.59l7.78-7.78 2.81-2.81c.8-.78.8-2.07 0-2.86zM5.41 20L4 18.59l7.72-7.72 1.47 1.35L5.41 20z\"/>\n",
              "  </svg>\n",
              "      </button>\n",
              "      \n",
              "  <style>\n",
              "    .colab-df-container {\n",
              "      display:flex;\n",
              "      flex-wrap:wrap;\n",
              "      gap: 12px;\n",
              "    }\n",
              "\n",
              "    .colab-df-convert {\n",
              "      background-color: #E8F0FE;\n",
              "      border: none;\n",
              "      border-radius: 50%;\n",
              "      cursor: pointer;\n",
              "      display: none;\n",
              "      fill: #1967D2;\n",
              "      height: 32px;\n",
              "      padding: 0 0 0 0;\n",
              "      width: 32px;\n",
              "    }\n",
              "\n",
              "    .colab-df-convert:hover {\n",
              "      background-color: #E2EBFA;\n",
              "      box-shadow: 0px 1px 2px rgba(60, 64, 67, 0.3), 0px 1px 3px 1px rgba(60, 64, 67, 0.15);\n",
              "      fill: #174EA6;\n",
              "    }\n",
              "\n",
              "    [theme=dark] .colab-df-convert {\n",
              "      background-color: #3B4455;\n",
              "      fill: #D2E3FC;\n",
              "    }\n",
              "\n",
              "    [theme=dark] .colab-df-convert:hover {\n",
              "      background-color: #434B5C;\n",
              "      box-shadow: 0px 1px 3px 1px rgba(0, 0, 0, 0.15);\n",
              "      filter: drop-shadow(0px 1px 2px rgba(0, 0, 0, 0.3));\n",
              "      fill: #FFFFFF;\n",
              "    }\n",
              "  </style>\n",
              "\n",
              "      <script>\n",
              "        const buttonEl =\n",
              "          document.querySelector('#df-7904625f-d452-4e00-b8df-2a80eaf60629 button.colab-df-convert');\n",
              "        buttonEl.style.display =\n",
              "          google.colab.kernel.accessAllowed ? 'block' : 'none';\n",
              "\n",
              "        async function convertToInteractive(key) {\n",
              "          const element = document.querySelector('#df-7904625f-d452-4e00-b8df-2a80eaf60629');\n",
              "          const dataTable =\n",
              "            await google.colab.kernel.invokeFunction('convertToInteractive',\n",
              "                                                     [key], {});\n",
              "          if (!dataTable) return;\n",
              "\n",
              "          const docLinkHtml = 'Like what you see? Visit the ' +\n",
              "            '<a target=\"_blank\" href=https://colab.research.google.com/notebooks/data_table.ipynb>data table notebook</a>'\n",
              "            + ' to learn more about interactive tables.';\n",
              "          element.innerHTML = '';\n",
              "          dataTable['output_type'] = 'display_data';\n",
              "          await google.colab.output.renderOutput(dataTable, element);\n",
              "          const docLink = document.createElement('div');\n",
              "          docLink.innerHTML = docLinkHtml;\n",
              "          element.appendChild(docLink);\n",
              "        }\n",
              "      </script>\n",
              "    </div>\n",
              "  </div>\n",
              "  "
            ]
          },
          "metadata": {},
          "execution_count": 85
        }
      ]
    },
    {
      "cell_type": "code",
      "source": [
        "#필요없는 문자, 특수기호 제거\n",
        "name23 = name23.apply(lambda x: x.astype(str).str.replace('\"', ''))\n",
        "name23 = name23.apply(lambda x: x.astype(str).str.replace(', 대한민국',''))\n",
        "name23 = name23.apply(lambda x: x.astype(str).str.replace('성급',''))\n",
        "price23 = price23.apply(lambda x: x.astype(str).str.replace('\"', ''))\n",
        "price23 = price23.apply(lambda x: x.astype(str).str.replace('원~',''))\n",
        "price23 = price23.apply(lambda x: x.astype(str).str.replace(',',''))\n",
        "price23 = price23.apply(lambda x: x.astype(str).str.replace('.',''))"
      ],
      "metadata": {
        "id": "1yt0AmSCRXkU",
        "colab": {
          "base_uri": "https://localhost:8080/"
        },
        "outputId": "20c02028-ce77-412e-c3be-0c93fe560c6e"
      },
      "execution_count": null,
      "outputs": [
        {
          "output_type": "stream",
          "name": "stderr",
          "text": [
            "<ipython-input-86-4f8e2a97a8c8>:8: FutureWarning: The default value of regex will change from True to False in a future version. In addition, single character regular expressions will *not* be treated as literal strings when regex=True.\n",
            "  price23 = price23.apply(lambda x: x.astype(str).str.replace('.',''))\n"
          ]
        }
      ]
    },
    {
      "cell_type": "code",
      "source": [
        "#필요없는 문자, 특수기호 제거\n",
        "name34 = name34.apply(lambda x: x.astype(str).str.replace('\"', ''))\n",
        "name34 = name34.apply(lambda x: x.astype(str).str.replace(', 대한민국',''))\n",
        "name34 = name34.apply(lambda x: x.astype(str).str.replace('성급',''))\n",
        "price34 = price34.apply(lambda x: x.astype(str).str.replace('\"', ''))\n",
        "price34 = price34.apply(lambda x: x.astype(str).str.replace('원~',''))\n",
        "price34 = price34.apply(lambda x: x.astype(str).str.replace(',',''))\n",
        "price34 = price34.apply(lambda x: x.astype(str).str.replace('.',''))"
      ],
      "metadata": {
        "colab": {
          "base_uri": "https://localhost:8080/"
        },
        "id": "uJljps3xQGIZ",
        "outputId": "569c1c2e-14b9-48a7-e74d-2ce7b0d56951"
      },
      "execution_count": null,
      "outputs": [
        {
          "output_type": "stream",
          "name": "stderr",
          "text": [
            "<ipython-input-87-66fab3af04aa>:8: FutureWarning: The default value of regex will change from True to False in a future version. In addition, single character regular expressions will *not* be treated as literal strings when regex=True.\n",
            "  price34 = price34.apply(lambda x: x.astype(str).str.replace('.',''))\n"
          ]
        }
      ]
    },
    {
      "cell_type": "code",
      "source": [
        "#필요없는 문자, 특수기호 제거\n",
        "name45 = name45.apply(lambda x: x.astype(str).str.replace('\"', ''))\n",
        "name45 = name45.apply(lambda x: x.astype(str).str.replace(', 대한민국',''))\n",
        "name45 = name45.apply(lambda x: x.astype(str).str.replace('성급',''))\n",
        "price45 = price45.apply(lambda x: x.astype(str).str.replace('\"', ''))\n",
        "price45 = price45.apply(lambda x: x.astype(str).str.replace('원~',''))\n",
        "price45 = price45.apply(lambda x: x.astype(str).str.replace(',',''))\n",
        "price45 = price45.apply(lambda x: x.astype(str).str.replace('.',''))"
      ],
      "metadata": {
        "colab": {
          "base_uri": "https://localhost:8080/"
        },
        "id": "EypaU5fnQ_wf",
        "outputId": "bd5868c6-a802-4d8d-f562-3d1a54478ec3"
      },
      "execution_count": null,
      "outputs": [
        {
          "output_type": "stream",
          "name": "stderr",
          "text": [
            "<ipython-input-88-364e4bf4d549>:8: FutureWarning: The default value of regex will change from True to False in a future version. In addition, single character regular expressions will *not* be treated as literal strings when regex=True.\n",
            "  price45 = price45.apply(lambda x: x.astype(str).str.replace('.',''))\n"
          ]
        }
      ]
    },
    {
      "cell_type": "code",
      "source": [
        "#sg column의 맨 뒤 숫자 = grade(x성급)\n",
        "#sg column의 앞 3자리 = score(평점 x.x)\n",
        "name23['sg'].unique()"
      ],
      "metadata": {
        "colab": {
          "base_uri": "https://localhost:8080/"
        },
        "id": "BJtslcIITfru",
        "outputId": "d4952689-d576-4e49-d2d0-66af672fe446"
      },
      "execution_count": null,
      "outputs": [
        {
          "output_type": "execute_result",
          "data": {
            "text/plain": [
              "array(['9.25', '9.05', '8.35', '8.15', '8.25', '8.95', '8.6', '7.64',\n",
              "       '7.74', '8.14', '8.65', '7.34', '7.84', '8.24', '8.64', '7.94',\n",
              "       '8.8', '8.45', '8.44', '8.2', '8.43', '8.34', '평점없음', '7.73',\n",
              "       '7.93', '8.83', '8.53', '8.85', '7.53', '8.04', '7.23', '7.44',\n",
              "       '7.83', '8.62', '8.5', '8.33', '9.24', '8.54', '10.03', '8.1',\n",
              "       '7.54', '8.03', '7.03', '9.2', '평점없음3', '6.83', '7.63', '9.43',\n",
              "       '7.13', '8.23', '9.04', '6.93', '8.13', '7.22', '8.9', '7.33',\n",
              "       '7.7', '7.02', '9.83', '9.13', '8.0', '8.4', '8.92', '6.63',\n",
              "       '5.64', '7.32', '10.0', '8.55', '7.2', '평점없음2', '8.7', '8.93',\n",
              "       '9.03', '8.94'], dtype=object)"
            ]
          },
          "metadata": {},
          "execution_count": 89
        }
      ]
    },
    {
      "cell_type": "code",
      "source": [
        "#2박3일 자료 갯수 = 2800\n",
        "for i in range(2800):\n",
        "  if len(name23.iloc[i,2]) == 1:\n",
        "    name23.loc[i,'grade']= name23.loc[i,'sg']\n",
        "    name23.loc[i,'score']= 0\n",
        "  elif len(name23.iloc[i,2]) == 3:\n",
        "    name23.loc[i,'grade']= 0\n",
        "    name23.loc[i,'score']= name23.loc[i,'sg']\n",
        "  elif len(name23.iloc[i,2]) > 3 :\n",
        "    name23['grade'] = name23['sg'].str[-1]\n",
        "    name23['score'] = name23['sg'].str[:-1]"
      ],
      "metadata": {
        "id": "3fHwUAkgTJIt"
      },
      "execution_count": null,
      "outputs": []
    },
    {
      "cell_type": "code",
      "source": [
        "#3박4일 자료 갯수 = 2700\n",
        "for i in range(2700):\n",
        "  if len(name34.iloc[i,2]) == 1:\n",
        "    name34.loc[i,'grade']= name34.loc[i,'sg']\n",
        "    name34.loc[i,'score']= 0\n",
        "  elif len(name34.iloc[i,2]) == 3:\n",
        "    name34.loc[i,'grade']= 0\n",
        "    name34.loc[i,'score']= name34.loc[i,'sg']\n",
        "  elif len(name34.iloc[i,2]) > 3 :\n",
        "    name34['grade'] = name34['sg'].str[-1]\n",
        "    name34['score'] = name34['sg'].str[:-1]"
      ],
      "metadata": {
        "id": "niNWtWg8RKWM"
      },
      "execution_count": null,
      "outputs": []
    },
    {
      "cell_type": "code",
      "source": [
        "#4박5일 자료 갯수 = 2600\n",
        "for i in range(2600):\n",
        "  if len(name45.iloc[i,2]) == 1:\n",
        "    name45.loc[i,'grade']= name45.loc[i,'sg']\n",
        "    name45.loc[i,'score']= 0\n",
        "  elif len(name45.iloc[i,2]) == 3:\n",
        "    name45.loc[i,'grade']= 0\n",
        "    name45.loc[i,'score']= name45.loc[i,'sg']\n",
        "  elif len(name45.iloc[i,2]) > 3 :\n",
        "    name45['grade'] = name45['sg'].str[-1]\n",
        "    name45['score'] = name45['sg'].str[:-1]"
      ],
      "metadata": {
        "id": "bm2JAWKFRKLq"
      },
      "execution_count": null,
      "outputs": []
    },
    {
      "cell_type": "code",
      "source": [
        "name34"
      ],
      "metadata": {
        "colab": {
          "base_uri": "https://localhost:8080/",
          "height": 424
        },
        "id": "TIGTllLhTVFK",
        "outputId": "1c7a13c9-4ec7-4b16-ebc1-21a7c10826e3"
      },
      "execution_count": null,
      "outputs": [
        {
          "output_type": "execute_result",
          "data": {
            "text/plain": [
              "               name location     sg grade score\n",
              "0          제주 신라 호텔      서귀포   9.05     5   9.0\n",
              "1         메종 글래드 제주       제주   8.15     5   8.1\n",
              "2     라마다 프라자 제주 호텔       제주   8.25     5   8.2\n",
              "3           에코랜드 호텔       제주    8.6     6    8.\n",
              "4      라마다 제주 시티 호텔       제주   8.14     4   8.1\n",
              "...             ...      ...    ...   ...   ...\n",
              "2695        BK호텔 제주      서귀포   8.53     3   8.5\n",
              "2696       스테이 인 제주      서귀포  평점없음3     3  평점없음\n",
              "2697     코업시티호텔 하버뷰      서귀포   8.14     4   8.1\n",
              "2698    라온 호텔 앤 리조트       제주   6.83     3   6.8\n",
              "2699         에벤에셀호텔       제주    8.5     0   8.5\n",
              "\n",
              "[2700 rows x 5 columns]"
            ],
            "text/html": [
              "\n",
              "  <div id=\"df-81758181-c900-4c66-9819-b1a562d46788\">\n",
              "    <div class=\"colab-df-container\">\n",
              "      <div>\n",
              "<style scoped>\n",
              "    .dataframe tbody tr th:only-of-type {\n",
              "        vertical-align: middle;\n",
              "    }\n",
              "\n",
              "    .dataframe tbody tr th {\n",
              "        vertical-align: top;\n",
              "    }\n",
              "\n",
              "    .dataframe thead th {\n",
              "        text-align: right;\n",
              "    }\n",
              "</style>\n",
              "<table border=\"1\" class=\"dataframe\">\n",
              "  <thead>\n",
              "    <tr style=\"text-align: right;\">\n",
              "      <th></th>\n",
              "      <th>name</th>\n",
              "      <th>location</th>\n",
              "      <th>sg</th>\n",
              "      <th>grade</th>\n",
              "      <th>score</th>\n",
              "    </tr>\n",
              "  </thead>\n",
              "  <tbody>\n",
              "    <tr>\n",
              "      <th>0</th>\n",
              "      <td>제주 신라 호텔</td>\n",
              "      <td>서귀포</td>\n",
              "      <td>9.05</td>\n",
              "      <td>5</td>\n",
              "      <td>9.0</td>\n",
              "    </tr>\n",
              "    <tr>\n",
              "      <th>1</th>\n",
              "      <td>메종 글래드 제주</td>\n",
              "      <td>제주</td>\n",
              "      <td>8.15</td>\n",
              "      <td>5</td>\n",
              "      <td>8.1</td>\n",
              "    </tr>\n",
              "    <tr>\n",
              "      <th>2</th>\n",
              "      <td>라마다 프라자 제주 호텔</td>\n",
              "      <td>제주</td>\n",
              "      <td>8.25</td>\n",
              "      <td>5</td>\n",
              "      <td>8.2</td>\n",
              "    </tr>\n",
              "    <tr>\n",
              "      <th>3</th>\n",
              "      <td>에코랜드 호텔</td>\n",
              "      <td>제주</td>\n",
              "      <td>8.6</td>\n",
              "      <td>6</td>\n",
              "      <td>8.</td>\n",
              "    </tr>\n",
              "    <tr>\n",
              "      <th>4</th>\n",
              "      <td>라마다 제주 시티 호텔</td>\n",
              "      <td>제주</td>\n",
              "      <td>8.14</td>\n",
              "      <td>4</td>\n",
              "      <td>8.1</td>\n",
              "    </tr>\n",
              "    <tr>\n",
              "      <th>...</th>\n",
              "      <td>...</td>\n",
              "      <td>...</td>\n",
              "      <td>...</td>\n",
              "      <td>...</td>\n",
              "      <td>...</td>\n",
              "    </tr>\n",
              "    <tr>\n",
              "      <th>2695</th>\n",
              "      <td>BK호텔 제주</td>\n",
              "      <td>서귀포</td>\n",
              "      <td>8.53</td>\n",
              "      <td>3</td>\n",
              "      <td>8.5</td>\n",
              "    </tr>\n",
              "    <tr>\n",
              "      <th>2696</th>\n",
              "      <td>스테이 인 제주</td>\n",
              "      <td>서귀포</td>\n",
              "      <td>평점없음3</td>\n",
              "      <td>3</td>\n",
              "      <td>평점없음</td>\n",
              "    </tr>\n",
              "    <tr>\n",
              "      <th>2697</th>\n",
              "      <td>코업시티호텔 하버뷰</td>\n",
              "      <td>서귀포</td>\n",
              "      <td>8.14</td>\n",
              "      <td>4</td>\n",
              "      <td>8.1</td>\n",
              "    </tr>\n",
              "    <tr>\n",
              "      <th>2698</th>\n",
              "      <td>라온 호텔 앤 리조트</td>\n",
              "      <td>제주</td>\n",
              "      <td>6.83</td>\n",
              "      <td>3</td>\n",
              "      <td>6.8</td>\n",
              "    </tr>\n",
              "    <tr>\n",
              "      <th>2699</th>\n",
              "      <td>에벤에셀호텔</td>\n",
              "      <td>제주</td>\n",
              "      <td>8.5</td>\n",
              "      <td>0</td>\n",
              "      <td>8.5</td>\n",
              "    </tr>\n",
              "  </tbody>\n",
              "</table>\n",
              "<p>2700 rows × 5 columns</p>\n",
              "</div>\n",
              "      <button class=\"colab-df-convert\" onclick=\"convertToInteractive('df-81758181-c900-4c66-9819-b1a562d46788')\"\n",
              "              title=\"Convert this dataframe to an interactive table.\"\n",
              "              style=\"display:none;\">\n",
              "        \n",
              "  <svg xmlns=\"http://www.w3.org/2000/svg\" height=\"24px\"viewBox=\"0 0 24 24\"\n",
              "       width=\"24px\">\n",
              "    <path d=\"M0 0h24v24H0V0z\" fill=\"none\"/>\n",
              "    <path d=\"M18.56 5.44l.94 2.06.94-2.06 2.06-.94-2.06-.94-.94-2.06-.94 2.06-2.06.94zm-11 1L8.5 8.5l.94-2.06 2.06-.94-2.06-.94L8.5 2.5l-.94 2.06-2.06.94zm10 10l.94 2.06.94-2.06 2.06-.94-2.06-.94-.94-2.06-.94 2.06-2.06.94z\"/><path d=\"M17.41 7.96l-1.37-1.37c-.4-.4-.92-.59-1.43-.59-.52 0-1.04.2-1.43.59L10.3 9.45l-7.72 7.72c-.78.78-.78 2.05 0 2.83L4 21.41c.39.39.9.59 1.41.59.51 0 1.02-.2 1.41-.59l7.78-7.78 2.81-2.81c.8-.78.8-2.07 0-2.86zM5.41 20L4 18.59l7.72-7.72 1.47 1.35L5.41 20z\"/>\n",
              "  </svg>\n",
              "      </button>\n",
              "      \n",
              "  <style>\n",
              "    .colab-df-container {\n",
              "      display:flex;\n",
              "      flex-wrap:wrap;\n",
              "      gap: 12px;\n",
              "    }\n",
              "\n",
              "    .colab-df-convert {\n",
              "      background-color: #E8F0FE;\n",
              "      border: none;\n",
              "      border-radius: 50%;\n",
              "      cursor: pointer;\n",
              "      display: none;\n",
              "      fill: #1967D2;\n",
              "      height: 32px;\n",
              "      padding: 0 0 0 0;\n",
              "      width: 32px;\n",
              "    }\n",
              "\n",
              "    .colab-df-convert:hover {\n",
              "      background-color: #E2EBFA;\n",
              "      box-shadow: 0px 1px 2px rgba(60, 64, 67, 0.3), 0px 1px 3px 1px rgba(60, 64, 67, 0.15);\n",
              "      fill: #174EA6;\n",
              "    }\n",
              "\n",
              "    [theme=dark] .colab-df-convert {\n",
              "      background-color: #3B4455;\n",
              "      fill: #D2E3FC;\n",
              "    }\n",
              "\n",
              "    [theme=dark] .colab-df-convert:hover {\n",
              "      background-color: #434B5C;\n",
              "      box-shadow: 0px 1px 3px 1px rgba(0, 0, 0, 0.15);\n",
              "      filter: drop-shadow(0px 1px 2px rgba(0, 0, 0, 0.3));\n",
              "      fill: #FFFFFF;\n",
              "    }\n",
              "  </style>\n",
              "\n",
              "      <script>\n",
              "        const buttonEl =\n",
              "          document.querySelector('#df-81758181-c900-4c66-9819-b1a562d46788 button.colab-df-convert');\n",
              "        buttonEl.style.display =\n",
              "          google.colab.kernel.accessAllowed ? 'block' : 'none';\n",
              "\n",
              "        async function convertToInteractive(key) {\n",
              "          const element = document.querySelector('#df-81758181-c900-4c66-9819-b1a562d46788');\n",
              "          const dataTable =\n",
              "            await google.colab.kernel.invokeFunction('convertToInteractive',\n",
              "                                                     [key], {});\n",
              "          if (!dataTable) return;\n",
              "\n",
              "          const docLinkHtml = 'Like what you see? Visit the ' +\n",
              "            '<a target=\"_blank\" href=https://colab.research.google.com/notebooks/data_table.ipynb>data table notebook</a>'\n",
              "            + ' to learn more about interactive tables.';\n",
              "          element.innerHTML = '';\n",
              "          dataTable['output_type'] = 'display_data';\n",
              "          await google.colab.output.renderOutput(dataTable, element);\n",
              "          const docLink = document.createElement('div');\n",
              "          docLink.innerHTML = docLinkHtml;\n",
              "          element.appendChild(docLink);\n",
              "        }\n",
              "      </script>\n",
              "    </div>\n",
              "  </div>\n",
              "  "
            ]
          },
          "metadata": {},
          "execution_count": 94
        }
      ]
    },
    {
      "cell_type": "code",
      "source": [
        "name23['grade'].unique()"
      ],
      "metadata": {
        "colab": {
          "base_uri": "https://localhost:8080/"
        },
        "id": "g05npY9_TUa6",
        "outputId": "90c289f7-9fc1-440e-fc3f-b727c8ed6ce5"
      },
      "execution_count": null,
      "outputs": [
        {
          "output_type": "execute_result",
          "data": {
            "text/plain": [
              "array(['5', '6', '4', '8', '2', '3', '음', '1', '9', '7', '0'],\n",
              "      dtype=object)"
            ]
          },
          "metadata": {},
          "execution_count": 95
        }
      ]
    },
    {
      "cell_type": "code",
      "source": [
        "name34['grade'].unique()"
      ],
      "metadata": {
        "colab": {
          "base_uri": "https://localhost:8080/"
        },
        "id": "RuPnFXyTOe2m",
        "outputId": "ced08d11-1d4f-4053-9925-98c8cad9922a"
      },
      "execution_count": null,
      "outputs": [
        {
          "output_type": "execute_result",
          "data": {
            "text/plain": [
              "array(['5', '6', '4', '8', '2', '3', '음', '1', '9', '0', '7', 0],\n",
              "      dtype=object)"
            ]
          },
          "metadata": {},
          "execution_count": 96
        }
      ]
    },
    {
      "cell_type": "code",
      "source": [
        "name45['grade'].unique()"
      ],
      "metadata": {
        "colab": {
          "base_uri": "https://localhost:8080/"
        },
        "id": "Kmx499IWOgEK",
        "outputId": "c558aa30-e206-4516-b01d-ff0fdc6f920e"
      },
      "execution_count": null,
      "outputs": [
        {
          "output_type": "execute_result",
          "data": {
            "text/plain": [
              "array(['5', '4', '8', '3', '음', '1', '2', '0', '9', '6', '7'],\n",
              "      dtype=object)"
            ]
          },
          "metadata": {},
          "execution_count": 97
        }
      ]
    },
    {
      "cell_type": "code",
      "source": [
        "name23['score'].unique()"
      ],
      "metadata": {
        "colab": {
          "base_uri": "https://localhost:8080/"
        },
        "id": "6NJ4gcswUhvE",
        "outputId": "1d831f15-0b2b-4c64-ccc1-5a55b1d688b9"
      },
      "execution_count": null,
      "outputs": [
        {
          "output_type": "execute_result",
          "data": {
            "text/plain": [
              "array(['9.2', '9.0', '8.3', '8.1', '8.2', '8.9', '8.', '7.6', '7.7',\n",
              "       '8.6', '7.3', '7.8', '7.9', '8.4', '평점없', '8.8', '8.5', '7.5',\n",
              "       '8.0', '7.2', '7.4', '10.0', '7.0', '9.', '평점없음', '6.8', '9.4',\n",
              "       '7.1', '6.9', '7.', '9.8', '9.1', '6.6', '5.6', '10.'],\n",
              "      dtype=object)"
            ]
          },
          "metadata": {},
          "execution_count": 98
        }
      ]
    },
    {
      "cell_type": "code",
      "source": [
        "name34['score'].unique()"
      ],
      "metadata": {
        "colab": {
          "base_uri": "https://localhost:8080/"
        },
        "id": "BXeqqaUZO0LG",
        "outputId": "d21d1f1f-e194-4fca-a15a-d92248e9c41d"
      },
      "execution_count": null,
      "outputs": [
        {
          "output_type": "execute_result",
          "data": {
            "text/plain": [
              "array(['9.0', '8.1', '8.2', '8.', '8.6', '7.8', '7.9', '8.4', '평점없',\n",
              "       '7.7', '8.3', '9.2', '7.5', '8.0', '7.2', '7.4', '8.8', '8.5',\n",
              "       '10.0', '7.0', '9.', '7.6', '6.9', '7.1', '9.8', '9.1', '6.8',\n",
              "       '8.9', '6.6', '5.6', '7.3', '10.', '평점없음', '8.7', '7.', '6.',\n",
              "       '9.4'], dtype=object)"
            ]
          },
          "metadata": {},
          "execution_count": 99
        }
      ]
    },
    {
      "cell_type": "code",
      "source": [
        "name45['score'].unique()"
      ],
      "metadata": {
        "colab": {
          "base_uri": "https://localhost:8080/"
        },
        "id": "DGizYi4eO1t5",
        "outputId": "ad1c7403-6aed-444e-8bfc-0c1f4dd8ff45"
      },
      "execution_count": null,
      "outputs": [
        {
          "output_type": "execute_result",
          "data": {
            "text/plain": [
              "array(['9.0', '8.2', '8.1', '7.8', '8.6', '7.9', '8.', '8.4', '평점없',\n",
              "       '7.7', '8.3', '7.5', '8.0', '7.2', '7.4', '8.8', '9.2', '8.5',\n",
              "       '10.0', '7.0', '9.', '7.6', '6.9', '7.1', '9.8', '9.1', '6.8',\n",
              "       '8.9', '6.6', '5.6', '7.3', '10.', '평점없음', '8.7', '7.', '6.',\n",
              "       '9.7', '4.9', '9.4'], dtype=object)"
            ]
          },
          "metadata": {},
          "execution_count": 100
        }
      ]
    },
    {
      "cell_type": "code",
      "source": [
        "for i in range(2800):\n",
        "  if name23.iloc[i,3] == '음':\n",
        "    name23.iloc[i,3] = 0\n",
        "  if name23.iloc[i,4] == '평점없':\n",
        "    name23.iloc[i,4] = 0\n",
        "  if name23.iloc[i,4] == '평점없음':\n",
        "    name23.iloc[i,4] = 0\n",
        "name23 = name23.astype({'grade': 'int','score':'float'})"
      ],
      "metadata": {
        "id": "O4SRfgG0c4BP"
      },
      "execution_count": null,
      "outputs": []
    },
    {
      "cell_type": "code",
      "source": [
        "for i in range(2700):\n",
        "  if name34.iloc[i,3] == '음':\n",
        "    name34.iloc[i,3] = 0\n",
        "  if name34.iloc[i,4] == '평점없':\n",
        "    name34.iloc[i,4] = 0\n",
        "  if name34.iloc[i,4] == '평점없음':\n",
        "    name34.iloc[i,4] = 0\n",
        "name34 = name34.astype({'grade': 'int','score':'float'})"
      ],
      "metadata": {
        "id": "8UYtPwMkRV1S"
      },
      "execution_count": null,
      "outputs": []
    },
    {
      "cell_type": "code",
      "source": [
        "for i in range(2600):\n",
        "  if name45.iloc[i,3] == '음':\n",
        "    name45.iloc[i,3] = 0\n",
        "  if name45.iloc[i,4] == '평점없':\n",
        "    name45.iloc[i,4] = 0\n",
        "  if name45.iloc[i,4] == '평점없음':\n",
        "    name45.iloc[i,4] = 0\n",
        "name45 = name45.astype({'grade': 'int','score':'float'})"
      ],
      "metadata": {
        "id": "Ydh3nS3GRVop"
      },
      "execution_count": null,
      "outputs": []
    },
    {
      "cell_type": "code",
      "source": [
        "for i in range(2800):\n",
        "  if name23.iloc[i,3] > 5:\n",
        "    name23.iloc[i,4] = str(name23.iloc[i,4] + name23.iloc[i,3])\n",
        "    name23.iloc[i,3] = 0\n",
        "  if float(name23.iloc[i,4]) > 10:\n",
        "    name23.iloc[i,4] = 0"
      ],
      "metadata": {
        "id": "vXrFu1lRUhJW"
      },
      "execution_count": null,
      "outputs": []
    },
    {
      "cell_type": "code",
      "source": [
        "for i in range(2700):\n",
        "  if name34.iloc[i,3] > 5:\n",
        "    name34.iloc[i,4] = str(name34.iloc[i,4] + name34.iloc[i,3])\n",
        "    name34.iloc[i,3] = 0\n",
        "  if float(name34.iloc[i,4]) > 10:\n",
        "    name34.iloc[i,4] = 0"
      ],
      "metadata": {
        "id": "SzQrbN_vRgPt"
      },
      "execution_count": null,
      "outputs": []
    },
    {
      "cell_type": "code",
      "source": [
        "for i in range(2600):\n",
        "  if name45.iloc[i,3] > 5:\n",
        "    name45.iloc[i,4] = str(name45.iloc[i,4] + name45.iloc[i,3])\n",
        "    name45.iloc[i,3] = 0\n",
        "  if float(name45.iloc[i,4]) > 10:\n",
        "    name45.iloc[i,4] = 0"
      ],
      "metadata": {
        "id": "IiJdoSvjRgJn"
      },
      "execution_count": null,
      "outputs": []
    },
    {
      "cell_type": "code",
      "source": [
        "name23['grade'].unique()"
      ],
      "metadata": {
        "colab": {
          "base_uri": "https://localhost:8080/"
        },
        "id": "WQOXL1a_duRa",
        "outputId": "2cdf5e44-a6a8-4ae8-d511-f5f246afe1e7"
      },
      "execution_count": null,
      "outputs": [
        {
          "output_type": "execute_result",
          "data": {
            "text/plain": [
              "array([5, 0, 4, 2, 3, 1])"
            ]
          },
          "metadata": {},
          "execution_count": 107
        }
      ]
    },
    {
      "cell_type": "code",
      "source": [
        "name34['grade'].unique()"
      ],
      "metadata": {
        "colab": {
          "base_uri": "https://localhost:8080/"
        },
        "id": "1q5-xI3MPJIC",
        "outputId": "80b601da-2b00-468e-9246-6c2711bdba0d"
      },
      "execution_count": null,
      "outputs": [
        {
          "output_type": "execute_result",
          "data": {
            "text/plain": [
              "array([5, 0, 4, 2, 3, 1])"
            ]
          },
          "metadata": {},
          "execution_count": 108
        }
      ]
    },
    {
      "cell_type": "code",
      "source": [
        "name45['grade'].unique()"
      ],
      "metadata": {
        "colab": {
          "base_uri": "https://localhost:8080/"
        },
        "id": "dDqvn2e1PJAP",
        "outputId": "796bb24c-822a-4e10-ccf4-fddd0c1f89db"
      },
      "execution_count": null,
      "outputs": [
        {
          "output_type": "execute_result",
          "data": {
            "text/plain": [
              "array([5, 4, 0, 3, 1, 2])"
            ]
          },
          "metadata": {},
          "execution_count": 109
        }
      ]
    },
    {
      "cell_type": "code",
      "source": [
        "name23['score'].unique()"
      ],
      "metadata": {
        "id": "seAcP3xGUghz",
        "colab": {
          "base_uri": "https://localhost:8080/"
        },
        "outputId": "5f60f391-c2a3-43f3-e1b6-575aafd1314f"
      },
      "execution_count": null,
      "outputs": [
        {
          "output_type": "execute_result",
          "data": {
            "text/plain": [
              "array([9.2, 9.0, 8.3, 8.1, 8.2, 8.9, 0, 7.6, 7.7, 8.6, 7.3, 7.8, 7.9, 8.4,\n",
              "       8.0, 8.8, 8.5, 7.5, 7.2, 7.4, 10.0, 7.0, 6.8, 9.4, 7.1, 6.9, 9.8,\n",
              "       9.1, 6.6, 5.6], dtype=object)"
            ]
          },
          "metadata": {},
          "execution_count": 110
        }
      ]
    },
    {
      "cell_type": "code",
      "source": [
        "name34['score'].unique()"
      ],
      "metadata": {
        "colab": {
          "base_uri": "https://localhost:8080/"
        },
        "id": "-xC6WxWUPOQX",
        "outputId": "2fb21f36-a400-4980-f20d-80e8e0d49e68"
      },
      "execution_count": null,
      "outputs": [
        {
          "output_type": "execute_result",
          "data": {
            "text/plain": [
              "array([9.0, 8.1, 8.2, 0, 8.6, 7.8, 7.9, 8.4, 8.0, 7.7, 8.3, 9.2, 7.5, 7.2,\n",
              "       7.4, 8.8, 8.5, 10.0, 7.0, 7.6, 6.9, 7.1, 9.8, 9.1, 6.8, 8.9, 6.6,\n",
              "       5.6, 7.3, 8.7, 9.4], dtype=object)"
            ]
          },
          "metadata": {},
          "execution_count": 111
        }
      ]
    },
    {
      "cell_type": "code",
      "source": [
        "name45['score'].unique()"
      ],
      "metadata": {
        "colab": {
          "base_uri": "https://localhost:8080/"
        },
        "id": "5sgYNNIkPONg",
        "outputId": "b239f9e8-803f-42aa-f595-4fd37791e6fc"
      },
      "execution_count": null,
      "outputs": [
        {
          "output_type": "execute_result",
          "data": {
            "text/plain": [
              "array([9.0, 8.2, 8.1, 7.8, 8.6, 7.9, 0, 8.4, 7.7, 8.3, 7.5, 8.0, 7.2, 7.4,\n",
              "       8.8, 9.2, 8.5, 10.0, 7.0, 7.6, 6.9, 7.1, 9.8, 9.1, 6.8, 8.9, 6.6,\n",
              "       5.6, 7.3, 8.7, 6.0, 9.7, 4.9, 9.4], dtype=object)"
            ]
          },
          "metadata": {},
          "execution_count": 112
        }
      ]
    },
    {
      "cell_type": "code",
      "source": [
        "name23 = name23.astype({'grade': 'int','score':'float'})\n",
        "name23.dtypes\n",
        "name34 = name34.astype({'grade': 'int','score':'float'})\n",
        "name34.dtypes\n",
        "name45 = name45.astype({'grade': 'int','score':'float'})\n",
        "name45.dtypes"
      ],
      "metadata": {
        "colab": {
          "base_uri": "https://localhost:8080/"
        },
        "id": "8ibeVcNBdXDM",
        "outputId": "10e9984f-578b-4041-b115-37125e4b5c85"
      },
      "execution_count": null,
      "outputs": [
        {
          "output_type": "execute_result",
          "data": {
            "text/plain": [
              "name         object\n",
              "location     object\n",
              "sg           object\n",
              "grade         int64\n",
              "score       float64\n",
              "dtype: object"
            ]
          },
          "metadata": {},
          "execution_count": 113
        }
      ]
    },
    {
      "cell_type": "code",
      "source": [
        "#sg column 삭제\n",
        "name23 = name23.drop(['sg'], axis=1)\n",
        "name34 = name34.drop(['sg'], axis=1)\n",
        "name45 = name45.drop(['sg'], axis=1)"
      ],
      "metadata": {
        "id": "BOxfmbXFd0wJ"
      },
      "execution_count": null,
      "outputs": []
    },
    {
      "cell_type": "markdown",
      "source": [
        "- customer_num 설정"
      ],
      "metadata": {
        "id": "jYQYn8jgYFbJ"
      }
    },
    {
      "cell_type": "code",
      "source": [
        "\"\"\"\n",
        "#2people\n",
        "name23['customer_num'] = 2\n",
        "name34['customer_num'] = 2\n",
        "name45['customer_num'] = 2\n",
        "#3people\n",
        "name23['customer_num'] = 3\n",
        "name34['customer_num'] = 3\n",
        "name45['customer_num'] = 3\n",
        "\"\"\"\n",
        "#4people\n",
        "name23['customer_num'] = 4\n",
        "name34['customer_num'] = 4\n",
        "name45['customer_num'] = 4\n"
      ],
      "metadata": {
        "id": "bCIqMwodRyvT"
      },
      "execution_count": null,
      "outputs": []
    },
    {
      "cell_type": "code",
      "source": [
        "name45"
      ],
      "metadata": {
        "colab": {
          "base_uri": "https://localhost:8080/",
          "height": 424
        },
        "id": "QveWce4TYVBP",
        "outputId": "b243386f-663d-4a73-af32-b37b54c4c54e"
      },
      "execution_count": null,
      "outputs": [
        {
          "output_type": "execute_result",
          "data": {
            "text/plain": [
              "                name location  grade  score  customer_num\n",
              "0           제주 신라 호텔      서귀포      5    9.0             4\n",
              "1      라마다 프라자 제주 호텔       제주      5    8.2             4\n",
              "2       라마다 제주 시티 호텔       제주      4    8.1             4\n",
              "3        휘닉스 제주 섭지코지      서귀포      4    7.8             4\n",
              "4         더큐브 리조트 제주      서귀포      4    8.2             4\n",
              "...              ...      ...    ...    ...           ...\n",
              "2595     라온 호텔 앤 리조트       제주      3    6.8             4\n",
              "2596          에벤에셀호텔       제주      5    8.0             4\n",
              "2597      골드원 호텔&스위트      서귀포      4    8.6             4\n",
              "2598  제주 샹그릴라 호텔앤리조트       제주      3    7.8             4\n",
              "2599      제주 마레보 리조트       제주      3    7.6             4\n",
              "\n",
              "[2600 rows x 5 columns]"
            ],
            "text/html": [
              "\n",
              "  <div id=\"df-a3ce7542-100d-4537-9024-036e13e3d8ee\">\n",
              "    <div class=\"colab-df-container\">\n",
              "      <div>\n",
              "<style scoped>\n",
              "    .dataframe tbody tr th:only-of-type {\n",
              "        vertical-align: middle;\n",
              "    }\n",
              "\n",
              "    .dataframe tbody tr th {\n",
              "        vertical-align: top;\n",
              "    }\n",
              "\n",
              "    .dataframe thead th {\n",
              "        text-align: right;\n",
              "    }\n",
              "</style>\n",
              "<table border=\"1\" class=\"dataframe\">\n",
              "  <thead>\n",
              "    <tr style=\"text-align: right;\">\n",
              "      <th></th>\n",
              "      <th>name</th>\n",
              "      <th>location</th>\n",
              "      <th>grade</th>\n",
              "      <th>score</th>\n",
              "      <th>customer_num</th>\n",
              "    </tr>\n",
              "  </thead>\n",
              "  <tbody>\n",
              "    <tr>\n",
              "      <th>0</th>\n",
              "      <td>제주 신라 호텔</td>\n",
              "      <td>서귀포</td>\n",
              "      <td>5</td>\n",
              "      <td>9.0</td>\n",
              "      <td>4</td>\n",
              "    </tr>\n",
              "    <tr>\n",
              "      <th>1</th>\n",
              "      <td>라마다 프라자 제주 호텔</td>\n",
              "      <td>제주</td>\n",
              "      <td>5</td>\n",
              "      <td>8.2</td>\n",
              "      <td>4</td>\n",
              "    </tr>\n",
              "    <tr>\n",
              "      <th>2</th>\n",
              "      <td>라마다 제주 시티 호텔</td>\n",
              "      <td>제주</td>\n",
              "      <td>4</td>\n",
              "      <td>8.1</td>\n",
              "      <td>4</td>\n",
              "    </tr>\n",
              "    <tr>\n",
              "      <th>3</th>\n",
              "      <td>휘닉스 제주 섭지코지</td>\n",
              "      <td>서귀포</td>\n",
              "      <td>4</td>\n",
              "      <td>7.8</td>\n",
              "      <td>4</td>\n",
              "    </tr>\n",
              "    <tr>\n",
              "      <th>4</th>\n",
              "      <td>더큐브 리조트 제주</td>\n",
              "      <td>서귀포</td>\n",
              "      <td>4</td>\n",
              "      <td>8.2</td>\n",
              "      <td>4</td>\n",
              "    </tr>\n",
              "    <tr>\n",
              "      <th>...</th>\n",
              "      <td>...</td>\n",
              "      <td>...</td>\n",
              "      <td>...</td>\n",
              "      <td>...</td>\n",
              "      <td>...</td>\n",
              "    </tr>\n",
              "    <tr>\n",
              "      <th>2595</th>\n",
              "      <td>라온 호텔 앤 리조트</td>\n",
              "      <td>제주</td>\n",
              "      <td>3</td>\n",
              "      <td>6.8</td>\n",
              "      <td>4</td>\n",
              "    </tr>\n",
              "    <tr>\n",
              "      <th>2596</th>\n",
              "      <td>에벤에셀호텔</td>\n",
              "      <td>제주</td>\n",
              "      <td>5</td>\n",
              "      <td>8.0</td>\n",
              "      <td>4</td>\n",
              "    </tr>\n",
              "    <tr>\n",
              "      <th>2597</th>\n",
              "      <td>골드원 호텔&amp;스위트</td>\n",
              "      <td>서귀포</td>\n",
              "      <td>4</td>\n",
              "      <td>8.6</td>\n",
              "      <td>4</td>\n",
              "    </tr>\n",
              "    <tr>\n",
              "      <th>2598</th>\n",
              "      <td>제주 샹그릴라 호텔앤리조트</td>\n",
              "      <td>제주</td>\n",
              "      <td>3</td>\n",
              "      <td>7.8</td>\n",
              "      <td>4</td>\n",
              "    </tr>\n",
              "    <tr>\n",
              "      <th>2599</th>\n",
              "      <td>제주 마레보 리조트</td>\n",
              "      <td>제주</td>\n",
              "      <td>3</td>\n",
              "      <td>7.6</td>\n",
              "      <td>4</td>\n",
              "    </tr>\n",
              "  </tbody>\n",
              "</table>\n",
              "<p>2600 rows × 5 columns</p>\n",
              "</div>\n",
              "      <button class=\"colab-df-convert\" onclick=\"convertToInteractive('df-a3ce7542-100d-4537-9024-036e13e3d8ee')\"\n",
              "              title=\"Convert this dataframe to an interactive table.\"\n",
              "              style=\"display:none;\">\n",
              "        \n",
              "  <svg xmlns=\"http://www.w3.org/2000/svg\" height=\"24px\"viewBox=\"0 0 24 24\"\n",
              "       width=\"24px\">\n",
              "    <path d=\"M0 0h24v24H0V0z\" fill=\"none\"/>\n",
              "    <path d=\"M18.56 5.44l.94 2.06.94-2.06 2.06-.94-2.06-.94-.94-2.06-.94 2.06-2.06.94zm-11 1L8.5 8.5l.94-2.06 2.06-.94-2.06-.94L8.5 2.5l-.94 2.06-2.06.94zm10 10l.94 2.06.94-2.06 2.06-.94-2.06-.94-.94-2.06-.94 2.06-2.06.94z\"/><path d=\"M17.41 7.96l-1.37-1.37c-.4-.4-.92-.59-1.43-.59-.52 0-1.04.2-1.43.59L10.3 9.45l-7.72 7.72c-.78.78-.78 2.05 0 2.83L4 21.41c.39.39.9.59 1.41.59.51 0 1.02-.2 1.41-.59l7.78-7.78 2.81-2.81c.8-.78.8-2.07 0-2.86zM5.41 20L4 18.59l7.72-7.72 1.47 1.35L5.41 20z\"/>\n",
              "  </svg>\n",
              "      </button>\n",
              "      \n",
              "  <style>\n",
              "    .colab-df-container {\n",
              "      display:flex;\n",
              "      flex-wrap:wrap;\n",
              "      gap: 12px;\n",
              "    }\n",
              "\n",
              "    .colab-df-convert {\n",
              "      background-color: #E8F0FE;\n",
              "      border: none;\n",
              "      border-radius: 50%;\n",
              "      cursor: pointer;\n",
              "      display: none;\n",
              "      fill: #1967D2;\n",
              "      height: 32px;\n",
              "      padding: 0 0 0 0;\n",
              "      width: 32px;\n",
              "    }\n",
              "\n",
              "    .colab-df-convert:hover {\n",
              "      background-color: #E2EBFA;\n",
              "      box-shadow: 0px 1px 2px rgba(60, 64, 67, 0.3), 0px 1px 3px 1px rgba(60, 64, 67, 0.15);\n",
              "      fill: #174EA6;\n",
              "    }\n",
              "\n",
              "    [theme=dark] .colab-df-convert {\n",
              "      background-color: #3B4455;\n",
              "      fill: #D2E3FC;\n",
              "    }\n",
              "\n",
              "    [theme=dark] .colab-df-convert:hover {\n",
              "      background-color: #434B5C;\n",
              "      box-shadow: 0px 1px 3px 1px rgba(0, 0, 0, 0.15);\n",
              "      filter: drop-shadow(0px 1px 2px rgba(0, 0, 0, 0.3));\n",
              "      fill: #FFFFFF;\n",
              "    }\n",
              "  </style>\n",
              "\n",
              "      <script>\n",
              "        const buttonEl =\n",
              "          document.querySelector('#df-a3ce7542-100d-4537-9024-036e13e3d8ee button.colab-df-convert');\n",
              "        buttonEl.style.display =\n",
              "          google.colab.kernel.accessAllowed ? 'block' : 'none';\n",
              "\n",
              "        async function convertToInteractive(key) {\n",
              "          const element = document.querySelector('#df-a3ce7542-100d-4537-9024-036e13e3d8ee');\n",
              "          const dataTable =\n",
              "            await google.colab.kernel.invokeFunction('convertToInteractive',\n",
              "                                                     [key], {});\n",
              "          if (!dataTable) return;\n",
              "\n",
              "          const docLinkHtml = 'Like what you see? Visit the ' +\n",
              "            '<a target=\"_blank\" href=https://colab.research.google.com/notebooks/data_table.ipynb>data table notebook</a>'\n",
              "            + ' to learn more about interactive tables.';\n",
              "          element.innerHTML = '';\n",
              "          dataTable['output_type'] = 'display_data';\n",
              "          await google.colab.output.renderOutput(dataTable, element);\n",
              "          const docLink = document.createElement('div');\n",
              "          docLink.innerHTML = docLinkHtml;\n",
              "          element.appendChild(docLink);\n",
              "        }\n",
              "      </script>\n",
              "    </div>\n",
              "  </div>\n",
              "  "
            ]
          },
          "metadata": {},
          "execution_count": 120
        }
      ]
    },
    {
      "cell_type": "code",
      "source": [
        "name45.info()"
      ],
      "metadata": {
        "colab": {
          "base_uri": "https://localhost:8080/"
        },
        "id": "wNu1GXS_YYAC",
        "outputId": "36f17aa7-fa95-45bf-ca46-51283665ee05"
      },
      "execution_count": null,
      "outputs": [
        {
          "output_type": "stream",
          "name": "stdout",
          "text": [
            "<class 'pandas.core.frame.DataFrame'>\n",
            "RangeIndex: 2600 entries, 0 to 2599\n",
            "Data columns (total 5 columns):\n",
            " #   Column        Non-Null Count  Dtype  \n",
            "---  ------        --------------  -----  \n",
            " 0   name          2600 non-null   object \n",
            " 1   location      2600 non-null   object \n",
            " 2   grade         2600 non-null   int64  \n",
            " 3   score         2600 non-null   float64\n",
            " 4   customer_num  2600 non-null   int64  \n",
            "dtypes: float64(1), int64(2), object(2)\n",
            "memory usage: 101.7+ KB\n"
          ]
        }
      ]
    },
    {
      "cell_type": "markdown",
      "source": [
        "##### price data"
      ],
      "metadata": {
        "id": "cXCQgGk0iSBZ"
      }
    },
    {
      "cell_type": "code",
      "source": [
        "price45"
      ],
      "metadata": {
        "id": "YAogs-EUNrlq",
        "colab": {
          "base_uri": "https://localhost:8080/",
          "height": 424
        },
        "outputId": "b7fef2a1-18e1-4531-f134-375f39bb710e"
      },
      "execution_count": null,
      "outputs": [
        {
          "output_type": "execute_result",
          "data": {
            "text/plain": [
              "         price checkin_date checkin_day checkout_date checkout_day\n",
              "0     21560000          601           목           605            월\n",
              "1       708992          601           목           605            월\n",
              "2       595044          601           목           605            월\n",
              "3      1889259          601           목           605            월\n",
              "4       314650          601           목           605            월\n",
              "...        ...          ...         ...           ...          ...\n",
              "2595    360000          626           월            63            금\n",
              "2596    306000          626           월            63            금\n",
              "2597    843636          626           월            63            금\n",
              "2598    245580          626           월            63            금\n",
              "2599    314348          626           월            63            금\n",
              "\n",
              "[2600 rows x 5 columns]"
            ],
            "text/html": [
              "\n",
              "  <div id=\"df-262fc6c6-a62e-487f-8766-02ae10fa4cff\">\n",
              "    <div class=\"colab-df-container\">\n",
              "      <div>\n",
              "<style scoped>\n",
              "    .dataframe tbody tr th:only-of-type {\n",
              "        vertical-align: middle;\n",
              "    }\n",
              "\n",
              "    .dataframe tbody tr th {\n",
              "        vertical-align: top;\n",
              "    }\n",
              "\n",
              "    .dataframe thead th {\n",
              "        text-align: right;\n",
              "    }\n",
              "</style>\n",
              "<table border=\"1\" class=\"dataframe\">\n",
              "  <thead>\n",
              "    <tr style=\"text-align: right;\">\n",
              "      <th></th>\n",
              "      <th>price</th>\n",
              "      <th>checkin_date</th>\n",
              "      <th>checkin_day</th>\n",
              "      <th>checkout_date</th>\n",
              "      <th>checkout_day</th>\n",
              "    </tr>\n",
              "  </thead>\n",
              "  <tbody>\n",
              "    <tr>\n",
              "      <th>0</th>\n",
              "      <td>21560000</td>\n",
              "      <td>601</td>\n",
              "      <td>목</td>\n",
              "      <td>605</td>\n",
              "      <td>월</td>\n",
              "    </tr>\n",
              "    <tr>\n",
              "      <th>1</th>\n",
              "      <td>708992</td>\n",
              "      <td>601</td>\n",
              "      <td>목</td>\n",
              "      <td>605</td>\n",
              "      <td>월</td>\n",
              "    </tr>\n",
              "    <tr>\n",
              "      <th>2</th>\n",
              "      <td>595044</td>\n",
              "      <td>601</td>\n",
              "      <td>목</td>\n",
              "      <td>605</td>\n",
              "      <td>월</td>\n",
              "    </tr>\n",
              "    <tr>\n",
              "      <th>3</th>\n",
              "      <td>1889259</td>\n",
              "      <td>601</td>\n",
              "      <td>목</td>\n",
              "      <td>605</td>\n",
              "      <td>월</td>\n",
              "    </tr>\n",
              "    <tr>\n",
              "      <th>4</th>\n",
              "      <td>314650</td>\n",
              "      <td>601</td>\n",
              "      <td>목</td>\n",
              "      <td>605</td>\n",
              "      <td>월</td>\n",
              "    </tr>\n",
              "    <tr>\n",
              "      <th>...</th>\n",
              "      <td>...</td>\n",
              "      <td>...</td>\n",
              "      <td>...</td>\n",
              "      <td>...</td>\n",
              "      <td>...</td>\n",
              "    </tr>\n",
              "    <tr>\n",
              "      <th>2595</th>\n",
              "      <td>360000</td>\n",
              "      <td>626</td>\n",
              "      <td>월</td>\n",
              "      <td>63</td>\n",
              "      <td>금</td>\n",
              "    </tr>\n",
              "    <tr>\n",
              "      <th>2596</th>\n",
              "      <td>306000</td>\n",
              "      <td>626</td>\n",
              "      <td>월</td>\n",
              "      <td>63</td>\n",
              "      <td>금</td>\n",
              "    </tr>\n",
              "    <tr>\n",
              "      <th>2597</th>\n",
              "      <td>843636</td>\n",
              "      <td>626</td>\n",
              "      <td>월</td>\n",
              "      <td>63</td>\n",
              "      <td>금</td>\n",
              "    </tr>\n",
              "    <tr>\n",
              "      <th>2598</th>\n",
              "      <td>245580</td>\n",
              "      <td>626</td>\n",
              "      <td>월</td>\n",
              "      <td>63</td>\n",
              "      <td>금</td>\n",
              "    </tr>\n",
              "    <tr>\n",
              "      <th>2599</th>\n",
              "      <td>314348</td>\n",
              "      <td>626</td>\n",
              "      <td>월</td>\n",
              "      <td>63</td>\n",
              "      <td>금</td>\n",
              "    </tr>\n",
              "  </tbody>\n",
              "</table>\n",
              "<p>2600 rows × 5 columns</p>\n",
              "</div>\n",
              "      <button class=\"colab-df-convert\" onclick=\"convertToInteractive('df-262fc6c6-a62e-487f-8766-02ae10fa4cff')\"\n",
              "              title=\"Convert this dataframe to an interactive table.\"\n",
              "              style=\"display:none;\">\n",
              "        \n",
              "  <svg xmlns=\"http://www.w3.org/2000/svg\" height=\"24px\"viewBox=\"0 0 24 24\"\n",
              "       width=\"24px\">\n",
              "    <path d=\"M0 0h24v24H0V0z\" fill=\"none\"/>\n",
              "    <path d=\"M18.56 5.44l.94 2.06.94-2.06 2.06-.94-2.06-.94-.94-2.06-.94 2.06-2.06.94zm-11 1L8.5 8.5l.94-2.06 2.06-.94-2.06-.94L8.5 2.5l-.94 2.06-2.06.94zm10 10l.94 2.06.94-2.06 2.06-.94-2.06-.94-.94-2.06-.94 2.06-2.06.94z\"/><path d=\"M17.41 7.96l-1.37-1.37c-.4-.4-.92-.59-1.43-.59-.52 0-1.04.2-1.43.59L10.3 9.45l-7.72 7.72c-.78.78-.78 2.05 0 2.83L4 21.41c.39.39.9.59 1.41.59.51 0 1.02-.2 1.41-.59l7.78-7.78 2.81-2.81c.8-.78.8-2.07 0-2.86zM5.41 20L4 18.59l7.72-7.72 1.47 1.35L5.41 20z\"/>\n",
              "  </svg>\n",
              "      </button>\n",
              "      \n",
              "  <style>\n",
              "    .colab-df-container {\n",
              "      display:flex;\n",
              "      flex-wrap:wrap;\n",
              "      gap: 12px;\n",
              "    }\n",
              "\n",
              "    .colab-df-convert {\n",
              "      background-color: #E8F0FE;\n",
              "      border: none;\n",
              "      border-radius: 50%;\n",
              "      cursor: pointer;\n",
              "      display: none;\n",
              "      fill: #1967D2;\n",
              "      height: 32px;\n",
              "      padding: 0 0 0 0;\n",
              "      width: 32px;\n",
              "    }\n",
              "\n",
              "    .colab-df-convert:hover {\n",
              "      background-color: #E2EBFA;\n",
              "      box-shadow: 0px 1px 2px rgba(60, 64, 67, 0.3), 0px 1px 3px 1px rgba(60, 64, 67, 0.15);\n",
              "      fill: #174EA6;\n",
              "    }\n",
              "\n",
              "    [theme=dark] .colab-df-convert {\n",
              "      background-color: #3B4455;\n",
              "      fill: #D2E3FC;\n",
              "    }\n",
              "\n",
              "    [theme=dark] .colab-df-convert:hover {\n",
              "      background-color: #434B5C;\n",
              "      box-shadow: 0px 1px 3px 1px rgba(0, 0, 0, 0.15);\n",
              "      filter: drop-shadow(0px 1px 2px rgba(0, 0, 0, 0.3));\n",
              "      fill: #FFFFFF;\n",
              "    }\n",
              "  </style>\n",
              "\n",
              "      <script>\n",
              "        const buttonEl =\n",
              "          document.querySelector('#df-262fc6c6-a62e-487f-8766-02ae10fa4cff button.colab-df-convert');\n",
              "        buttonEl.style.display =\n",
              "          google.colab.kernel.accessAllowed ? 'block' : 'none';\n",
              "\n",
              "        async function convertToInteractive(key) {\n",
              "          const element = document.querySelector('#df-262fc6c6-a62e-487f-8766-02ae10fa4cff');\n",
              "          const dataTable =\n",
              "            await google.colab.kernel.invokeFunction('convertToInteractive',\n",
              "                                                     [key], {});\n",
              "          if (!dataTable) return;\n",
              "\n",
              "          const docLinkHtml = 'Like what you see? Visit the ' +\n",
              "            '<a target=\"_blank\" href=https://colab.research.google.com/notebooks/data_table.ipynb>data table notebook</a>'\n",
              "            + ' to learn more about interactive tables.';\n",
              "          element.innerHTML = '';\n",
              "          dataTable['output_type'] = 'display_data';\n",
              "          await google.colab.output.renderOutput(dataTable, element);\n",
              "          const docLink = document.createElement('div');\n",
              "          docLink.innerHTML = docLinkHtml;\n",
              "          element.appendChild(docLink);\n",
              "        }\n",
              "      </script>\n",
              "    </div>\n",
              "  </div>\n",
              "  "
            ]
          },
          "metadata": {},
          "execution_count": 124
        }
      ]
    },
    {
      "cell_type": "code",
      "source": [
        "#610 -> 61 / 620 -> 62 / 630 -> 63으로 출력되는 문제 해결\n",
        "for i in range(2800):\n",
        "  if len(price23.iloc[i,1]) == 2:\n",
        "    price23.iloc[i,1] = str(price23.iloc[i,1] + '0')\n",
        "  if len(price23.iloc[i,3]) == 2:\n",
        "    price23.iloc[i,3] = str(price23.iloc[i,3] + '0')"
      ],
      "metadata": {
        "id": "w5XqxSPxfEHj"
      },
      "execution_count": null,
      "outputs": []
    },
    {
      "cell_type": "code",
      "source": [
        "#610 -> 61 / 620 -> 62 / 630 -> 63으로 출력되는 문제 해결\n",
        "for i in range(2700):\n",
        "  if len(price34.iloc[i,1]) == 2:\n",
        "    price34.iloc[i,1] = str(price34.iloc[i,1] + '0')\n",
        "  if len(price34.iloc[i,3]) == 2:\n",
        "    price34.iloc[i,3] = str(price34.iloc[i,3] + '0')"
      ],
      "metadata": {
        "id": "ry1K76yiR8E-"
      },
      "execution_count": null,
      "outputs": []
    },
    {
      "cell_type": "code",
      "source": [
        "#610 -> 61 / 620 -> 62 / 630 -> 63으로 출력되는 문제 해결\n",
        "for i in range(2600):\n",
        "  if len(price45.iloc[i,1]) == 2:\n",
        "    price45.iloc[i,1] = str(price45.iloc[i,1] + '0')\n",
        "  if len(price45.iloc[i,3]) == 2:\n",
        "    price45.iloc[i,3] = str(price45.iloc[i,3] + '0')"
      ],
      "metadata": {
        "id": "DBk3VnXsR77y"
      },
      "execution_count": null,
      "outputs": []
    },
    {
      "cell_type": "code",
      "source": [
        "price23 = price23.astype({'price':'int','checkin_date':'int', 'checkout_date':'int'})\n",
        "price34 = price34.astype({'price':'int','checkin_date':'int', 'checkout_date':'int'})\n",
        "price45 = price45.astype({'price':'int','checkin_date':'int', 'checkout_date':'int'})\n",
        "price23.dtypes"
      ],
      "metadata": {
        "colab": {
          "base_uri": "https://localhost:8080/"
        },
        "id": "gjcl1hGQfRsE",
        "outputId": "ec5da47c-8d43-4eda-b3ae-1eddcb6ab48f"
      },
      "execution_count": null,
      "outputs": [
        {
          "output_type": "execute_result",
          "data": {
            "text/plain": [
              "price             int64\n",
              "checkin_date      int64\n",
              "checkin_day      object\n",
              "checkout_date     int64\n",
              "checkout_day     object\n",
              "dtype: object"
            ]
          },
          "metadata": {},
          "execution_count": 128
        }
      ]
    },
    {
      "cell_type": "code",
      "source": [
        "price45"
      ],
      "metadata": {
        "colab": {
          "base_uri": "https://localhost:8080/",
          "height": 424
        },
        "id": "3c-R6zeigJ6r",
        "outputId": "4c444bf4-6897-4058-d55b-f7669fa2f01c"
      },
      "execution_count": null,
      "outputs": [
        {
          "output_type": "execute_result",
          "data": {
            "text/plain": [
              "         price  checkin_date checkin_day  checkout_date checkout_day\n",
              "0     21560000           601           목            605            월\n",
              "1       708992           601           목            605            월\n",
              "2       595044           601           목            605            월\n",
              "3      1889259           601           목            605            월\n",
              "4       314650           601           목            605            월\n",
              "...        ...           ...         ...            ...          ...\n",
              "2595    360000           626           월            630            금\n",
              "2596    306000           626           월            630            금\n",
              "2597    843636           626           월            630            금\n",
              "2598    245580           626           월            630            금\n",
              "2599    314348           626           월            630            금\n",
              "\n",
              "[2600 rows x 5 columns]"
            ],
            "text/html": [
              "\n",
              "  <div id=\"df-4ffa7406-bde4-4612-b06b-bfc471787116\">\n",
              "    <div class=\"colab-df-container\">\n",
              "      <div>\n",
              "<style scoped>\n",
              "    .dataframe tbody tr th:only-of-type {\n",
              "        vertical-align: middle;\n",
              "    }\n",
              "\n",
              "    .dataframe tbody tr th {\n",
              "        vertical-align: top;\n",
              "    }\n",
              "\n",
              "    .dataframe thead th {\n",
              "        text-align: right;\n",
              "    }\n",
              "</style>\n",
              "<table border=\"1\" class=\"dataframe\">\n",
              "  <thead>\n",
              "    <tr style=\"text-align: right;\">\n",
              "      <th></th>\n",
              "      <th>price</th>\n",
              "      <th>checkin_date</th>\n",
              "      <th>checkin_day</th>\n",
              "      <th>checkout_date</th>\n",
              "      <th>checkout_day</th>\n",
              "    </tr>\n",
              "  </thead>\n",
              "  <tbody>\n",
              "    <tr>\n",
              "      <th>0</th>\n",
              "      <td>21560000</td>\n",
              "      <td>601</td>\n",
              "      <td>목</td>\n",
              "      <td>605</td>\n",
              "      <td>월</td>\n",
              "    </tr>\n",
              "    <tr>\n",
              "      <th>1</th>\n",
              "      <td>708992</td>\n",
              "      <td>601</td>\n",
              "      <td>목</td>\n",
              "      <td>605</td>\n",
              "      <td>월</td>\n",
              "    </tr>\n",
              "    <tr>\n",
              "      <th>2</th>\n",
              "      <td>595044</td>\n",
              "      <td>601</td>\n",
              "      <td>목</td>\n",
              "      <td>605</td>\n",
              "      <td>월</td>\n",
              "    </tr>\n",
              "    <tr>\n",
              "      <th>3</th>\n",
              "      <td>1889259</td>\n",
              "      <td>601</td>\n",
              "      <td>목</td>\n",
              "      <td>605</td>\n",
              "      <td>월</td>\n",
              "    </tr>\n",
              "    <tr>\n",
              "      <th>4</th>\n",
              "      <td>314650</td>\n",
              "      <td>601</td>\n",
              "      <td>목</td>\n",
              "      <td>605</td>\n",
              "      <td>월</td>\n",
              "    </tr>\n",
              "    <tr>\n",
              "      <th>...</th>\n",
              "      <td>...</td>\n",
              "      <td>...</td>\n",
              "      <td>...</td>\n",
              "      <td>...</td>\n",
              "      <td>...</td>\n",
              "    </tr>\n",
              "    <tr>\n",
              "      <th>2595</th>\n",
              "      <td>360000</td>\n",
              "      <td>626</td>\n",
              "      <td>월</td>\n",
              "      <td>630</td>\n",
              "      <td>금</td>\n",
              "    </tr>\n",
              "    <tr>\n",
              "      <th>2596</th>\n",
              "      <td>306000</td>\n",
              "      <td>626</td>\n",
              "      <td>월</td>\n",
              "      <td>630</td>\n",
              "      <td>금</td>\n",
              "    </tr>\n",
              "    <tr>\n",
              "      <th>2597</th>\n",
              "      <td>843636</td>\n",
              "      <td>626</td>\n",
              "      <td>월</td>\n",
              "      <td>630</td>\n",
              "      <td>금</td>\n",
              "    </tr>\n",
              "    <tr>\n",
              "      <th>2598</th>\n",
              "      <td>245580</td>\n",
              "      <td>626</td>\n",
              "      <td>월</td>\n",
              "      <td>630</td>\n",
              "      <td>금</td>\n",
              "    </tr>\n",
              "    <tr>\n",
              "      <th>2599</th>\n",
              "      <td>314348</td>\n",
              "      <td>626</td>\n",
              "      <td>월</td>\n",
              "      <td>630</td>\n",
              "      <td>금</td>\n",
              "    </tr>\n",
              "  </tbody>\n",
              "</table>\n",
              "<p>2600 rows × 5 columns</p>\n",
              "</div>\n",
              "      <button class=\"colab-df-convert\" onclick=\"convertToInteractive('df-4ffa7406-bde4-4612-b06b-bfc471787116')\"\n",
              "              title=\"Convert this dataframe to an interactive table.\"\n",
              "              style=\"display:none;\">\n",
              "        \n",
              "  <svg xmlns=\"http://www.w3.org/2000/svg\" height=\"24px\"viewBox=\"0 0 24 24\"\n",
              "       width=\"24px\">\n",
              "    <path d=\"M0 0h24v24H0V0z\" fill=\"none\"/>\n",
              "    <path d=\"M18.56 5.44l.94 2.06.94-2.06 2.06-.94-2.06-.94-.94-2.06-.94 2.06-2.06.94zm-11 1L8.5 8.5l.94-2.06 2.06-.94-2.06-.94L8.5 2.5l-.94 2.06-2.06.94zm10 10l.94 2.06.94-2.06 2.06-.94-2.06-.94-.94-2.06-.94 2.06-2.06.94z\"/><path d=\"M17.41 7.96l-1.37-1.37c-.4-.4-.92-.59-1.43-.59-.52 0-1.04.2-1.43.59L10.3 9.45l-7.72 7.72c-.78.78-.78 2.05 0 2.83L4 21.41c.39.39.9.59 1.41.59.51 0 1.02-.2 1.41-.59l7.78-7.78 2.81-2.81c.8-.78.8-2.07 0-2.86zM5.41 20L4 18.59l7.72-7.72 1.47 1.35L5.41 20z\"/>\n",
              "  </svg>\n",
              "      </button>\n",
              "      \n",
              "  <style>\n",
              "    .colab-df-container {\n",
              "      display:flex;\n",
              "      flex-wrap:wrap;\n",
              "      gap: 12px;\n",
              "    }\n",
              "\n",
              "    .colab-df-convert {\n",
              "      background-color: #E8F0FE;\n",
              "      border: none;\n",
              "      border-radius: 50%;\n",
              "      cursor: pointer;\n",
              "      display: none;\n",
              "      fill: #1967D2;\n",
              "      height: 32px;\n",
              "      padding: 0 0 0 0;\n",
              "      width: 32px;\n",
              "    }\n",
              "\n",
              "    .colab-df-convert:hover {\n",
              "      background-color: #E2EBFA;\n",
              "      box-shadow: 0px 1px 2px rgba(60, 64, 67, 0.3), 0px 1px 3px 1px rgba(60, 64, 67, 0.15);\n",
              "      fill: #174EA6;\n",
              "    }\n",
              "\n",
              "    [theme=dark] .colab-df-convert {\n",
              "      background-color: #3B4455;\n",
              "      fill: #D2E3FC;\n",
              "    }\n",
              "\n",
              "    [theme=dark] .colab-df-convert:hover {\n",
              "      background-color: #434B5C;\n",
              "      box-shadow: 0px 1px 3px 1px rgba(0, 0, 0, 0.15);\n",
              "      filter: drop-shadow(0px 1px 2px rgba(0, 0, 0, 0.3));\n",
              "      fill: #FFFFFF;\n",
              "    }\n",
              "  </style>\n",
              "\n",
              "      <script>\n",
              "        const buttonEl =\n",
              "          document.querySelector('#df-4ffa7406-bde4-4612-b06b-bfc471787116 button.colab-df-convert');\n",
              "        buttonEl.style.display =\n",
              "          google.colab.kernel.accessAllowed ? 'block' : 'none';\n",
              "\n",
              "        async function convertToInteractive(key) {\n",
              "          const element = document.querySelector('#df-4ffa7406-bde4-4612-b06b-bfc471787116');\n",
              "          const dataTable =\n",
              "            await google.colab.kernel.invokeFunction('convertToInteractive',\n",
              "                                                     [key], {});\n",
              "          if (!dataTable) return;\n",
              "\n",
              "          const docLinkHtml = 'Like what you see? Visit the ' +\n",
              "            '<a target=\"_blank\" href=https://colab.research.google.com/notebooks/data_table.ipynb>data table notebook</a>'\n",
              "            + ' to learn more about interactive tables.';\n",
              "          element.innerHTML = '';\n",
              "          dataTable['output_type'] = 'display_data';\n",
              "          await google.colab.output.renderOutput(dataTable, element);\n",
              "          const docLink = document.createElement('div');\n",
              "          docLink.innerHTML = docLinkHtml;\n",
              "          element.appendChild(docLink);\n",
              "        }\n",
              "      </script>\n",
              "    </div>\n",
              "  </div>\n",
              "  "
            ]
          },
          "metadata": {},
          "execution_count": 131
        }
      ]
    },
    {
      "cell_type": "code",
      "source": [
        "price45.info()"
      ],
      "metadata": {
        "colab": {
          "base_uri": "https://localhost:8080/"
        },
        "id": "CHHWaRQn6gk8",
        "outputId": "48e74fee-79d6-43cb-bc13-6f3b0295693a"
      },
      "execution_count": null,
      "outputs": [
        {
          "output_type": "stream",
          "name": "stdout",
          "text": [
            "<class 'pandas.core.frame.DataFrame'>\n",
            "RangeIndex: 2600 entries, 0 to 2599\n",
            "Data columns (total 5 columns):\n",
            " #   Column         Non-Null Count  Dtype \n",
            "---  ------         --------------  ----- \n",
            " 0   price          2600 non-null   int64 \n",
            " 1   checkin_date   2600 non-null   int64 \n",
            " 2   checkin_day    2600 non-null   object\n",
            " 3   checkout_date  2600 non-null   int64 \n",
            " 4   checkout_day   2600 non-null   object\n",
            "dtypes: int64(3), object(2)\n",
            "memory usage: 101.7+ KB\n"
          ]
        }
      ]
    },
    {
      "cell_type": "code",
      "source": [
        "date23 = price23.iloc[:,1:5]\n",
        "price23 = price23.iloc[:,0]\n",
        "date34 = price34.iloc[:,1:5]\n",
        "price34 = price34.iloc[:,0]\n",
        "date45 = price45.iloc[:,1:5]\n",
        "price45 = price45.iloc[:,0]"
      ],
      "metadata": {
        "id": "7zHj1qSWBB92"
      },
      "execution_count": null,
      "outputs": []
    },
    {
      "cell_type": "markdown",
      "source": [
        "##### name data + price data"
      ],
      "metadata": {
        "id": "q7PoCpfWim1g"
      }
    },
    {
      "cell_type": "code",
      "source": [
        "hotel_2n3d = pd.concat([date23, name23, price23], axis=1)\n",
        "hotel_3n4d = pd.concat([date34, name34, price34], axis=1)\n",
        "hotel_4n5d = pd.concat([date45, name45, price45], axis=1)"
      ],
      "metadata": {
        "id": "pOR3c9Rv49MU"
      },
      "execution_count": null,
      "outputs": []
    },
    {
      "cell_type": "code",
      "source": [
        "hotel_3n4d"
      ],
      "metadata": {
        "colab": {
          "base_uri": "https://localhost:8080/",
          "height": 424
        },
        "id": "9AWOiydN5Ttj",
        "outputId": "f0aae65f-0de6-43ff-dbaf-da90577b6411"
      },
      "execution_count": null,
      "outputs": [
        {
          "output_type": "execute_result",
          "data": {
            "text/plain": [
              "      checkin_date checkin_day  checkout_date checkout_day           name  \\\n",
              "0              601           목            604            일       제주 신라 호텔   \n",
              "1              601           목            604            일      메종 글래드 제주   \n",
              "2              601           목            604            일  라마다 프라자 제주 호텔   \n",
              "3              601           목            604            일        에코랜드 호텔   \n",
              "4              601           목            604            일   라마다 제주 시티 호텔   \n",
              "...            ...         ...            ...          ...            ...   \n",
              "2695           627           화            630            금        BK호텔 제주   \n",
              "2696           627           화            630            금       스테이 인 제주   \n",
              "2697           627           화            630            금     코업시티호텔 하버뷰   \n",
              "2698           627           화            630            금    라온 호텔 앤 리조트   \n",
              "2699           627           화            630            금         에벤에셀호텔   \n",
              "\n",
              "     location  grade  score  customer_num     price  \n",
              "0         서귀포      5    9.0             4  16170000  \n",
              "1          제주      5    8.1             4   2327353  \n",
              "2          제주      5    8.2             4    545647  \n",
              "3          제주      0    0.0             4   1409058  \n",
              "4          제주      4    8.1             4    446283  \n",
              "...       ...    ...    ...           ...       ...  \n",
              "2695      서귀포      3    8.5             4    150156  \n",
              "2696      서귀포      3    0.0             4    455244  \n",
              "2697      서귀포      4    8.1             4    173145  \n",
              "2698       제주      3    6.8             4    270000  \n",
              "2699       제주      0    8.5             4    229500  \n",
              "\n",
              "[2700 rows x 10 columns]"
            ],
            "text/html": [
              "\n",
              "  <div id=\"df-46e1aaf9-86ca-4085-a42c-fc6914b23df9\">\n",
              "    <div class=\"colab-df-container\">\n",
              "      <div>\n",
              "<style scoped>\n",
              "    .dataframe tbody tr th:only-of-type {\n",
              "        vertical-align: middle;\n",
              "    }\n",
              "\n",
              "    .dataframe tbody tr th {\n",
              "        vertical-align: top;\n",
              "    }\n",
              "\n",
              "    .dataframe thead th {\n",
              "        text-align: right;\n",
              "    }\n",
              "</style>\n",
              "<table border=\"1\" class=\"dataframe\">\n",
              "  <thead>\n",
              "    <tr style=\"text-align: right;\">\n",
              "      <th></th>\n",
              "      <th>checkin_date</th>\n",
              "      <th>checkin_day</th>\n",
              "      <th>checkout_date</th>\n",
              "      <th>checkout_day</th>\n",
              "      <th>name</th>\n",
              "      <th>location</th>\n",
              "      <th>grade</th>\n",
              "      <th>score</th>\n",
              "      <th>customer_num</th>\n",
              "      <th>price</th>\n",
              "    </tr>\n",
              "  </thead>\n",
              "  <tbody>\n",
              "    <tr>\n",
              "      <th>0</th>\n",
              "      <td>601</td>\n",
              "      <td>목</td>\n",
              "      <td>604</td>\n",
              "      <td>일</td>\n",
              "      <td>제주 신라 호텔</td>\n",
              "      <td>서귀포</td>\n",
              "      <td>5</td>\n",
              "      <td>9.0</td>\n",
              "      <td>4</td>\n",
              "      <td>16170000</td>\n",
              "    </tr>\n",
              "    <tr>\n",
              "      <th>1</th>\n",
              "      <td>601</td>\n",
              "      <td>목</td>\n",
              "      <td>604</td>\n",
              "      <td>일</td>\n",
              "      <td>메종 글래드 제주</td>\n",
              "      <td>제주</td>\n",
              "      <td>5</td>\n",
              "      <td>8.1</td>\n",
              "      <td>4</td>\n",
              "      <td>2327353</td>\n",
              "    </tr>\n",
              "    <tr>\n",
              "      <th>2</th>\n",
              "      <td>601</td>\n",
              "      <td>목</td>\n",
              "      <td>604</td>\n",
              "      <td>일</td>\n",
              "      <td>라마다 프라자 제주 호텔</td>\n",
              "      <td>제주</td>\n",
              "      <td>5</td>\n",
              "      <td>8.2</td>\n",
              "      <td>4</td>\n",
              "      <td>545647</td>\n",
              "    </tr>\n",
              "    <tr>\n",
              "      <th>3</th>\n",
              "      <td>601</td>\n",
              "      <td>목</td>\n",
              "      <td>604</td>\n",
              "      <td>일</td>\n",
              "      <td>에코랜드 호텔</td>\n",
              "      <td>제주</td>\n",
              "      <td>0</td>\n",
              "      <td>0.0</td>\n",
              "      <td>4</td>\n",
              "      <td>1409058</td>\n",
              "    </tr>\n",
              "    <tr>\n",
              "      <th>4</th>\n",
              "      <td>601</td>\n",
              "      <td>목</td>\n",
              "      <td>604</td>\n",
              "      <td>일</td>\n",
              "      <td>라마다 제주 시티 호텔</td>\n",
              "      <td>제주</td>\n",
              "      <td>4</td>\n",
              "      <td>8.1</td>\n",
              "      <td>4</td>\n",
              "      <td>446283</td>\n",
              "    </tr>\n",
              "    <tr>\n",
              "      <th>...</th>\n",
              "      <td>...</td>\n",
              "      <td>...</td>\n",
              "      <td>...</td>\n",
              "      <td>...</td>\n",
              "      <td>...</td>\n",
              "      <td>...</td>\n",
              "      <td>...</td>\n",
              "      <td>...</td>\n",
              "      <td>...</td>\n",
              "      <td>...</td>\n",
              "    </tr>\n",
              "    <tr>\n",
              "      <th>2695</th>\n",
              "      <td>627</td>\n",
              "      <td>화</td>\n",
              "      <td>630</td>\n",
              "      <td>금</td>\n",
              "      <td>BK호텔 제주</td>\n",
              "      <td>서귀포</td>\n",
              "      <td>3</td>\n",
              "      <td>8.5</td>\n",
              "      <td>4</td>\n",
              "      <td>150156</td>\n",
              "    </tr>\n",
              "    <tr>\n",
              "      <th>2696</th>\n",
              "      <td>627</td>\n",
              "      <td>화</td>\n",
              "      <td>630</td>\n",
              "      <td>금</td>\n",
              "      <td>스테이 인 제주</td>\n",
              "      <td>서귀포</td>\n",
              "      <td>3</td>\n",
              "      <td>0.0</td>\n",
              "      <td>4</td>\n",
              "      <td>455244</td>\n",
              "    </tr>\n",
              "    <tr>\n",
              "      <th>2697</th>\n",
              "      <td>627</td>\n",
              "      <td>화</td>\n",
              "      <td>630</td>\n",
              "      <td>금</td>\n",
              "      <td>코업시티호텔 하버뷰</td>\n",
              "      <td>서귀포</td>\n",
              "      <td>4</td>\n",
              "      <td>8.1</td>\n",
              "      <td>4</td>\n",
              "      <td>173145</td>\n",
              "    </tr>\n",
              "    <tr>\n",
              "      <th>2698</th>\n",
              "      <td>627</td>\n",
              "      <td>화</td>\n",
              "      <td>630</td>\n",
              "      <td>금</td>\n",
              "      <td>라온 호텔 앤 리조트</td>\n",
              "      <td>제주</td>\n",
              "      <td>3</td>\n",
              "      <td>6.8</td>\n",
              "      <td>4</td>\n",
              "      <td>270000</td>\n",
              "    </tr>\n",
              "    <tr>\n",
              "      <th>2699</th>\n",
              "      <td>627</td>\n",
              "      <td>화</td>\n",
              "      <td>630</td>\n",
              "      <td>금</td>\n",
              "      <td>에벤에셀호텔</td>\n",
              "      <td>제주</td>\n",
              "      <td>0</td>\n",
              "      <td>8.5</td>\n",
              "      <td>4</td>\n",
              "      <td>229500</td>\n",
              "    </tr>\n",
              "  </tbody>\n",
              "</table>\n",
              "<p>2700 rows × 10 columns</p>\n",
              "</div>\n",
              "      <button class=\"colab-df-convert\" onclick=\"convertToInteractive('df-46e1aaf9-86ca-4085-a42c-fc6914b23df9')\"\n",
              "              title=\"Convert this dataframe to an interactive table.\"\n",
              "              style=\"display:none;\">\n",
              "        \n",
              "  <svg xmlns=\"http://www.w3.org/2000/svg\" height=\"24px\"viewBox=\"0 0 24 24\"\n",
              "       width=\"24px\">\n",
              "    <path d=\"M0 0h24v24H0V0z\" fill=\"none\"/>\n",
              "    <path d=\"M18.56 5.44l.94 2.06.94-2.06 2.06-.94-2.06-.94-.94-2.06-.94 2.06-2.06.94zm-11 1L8.5 8.5l.94-2.06 2.06-.94-2.06-.94L8.5 2.5l-.94 2.06-2.06.94zm10 10l.94 2.06.94-2.06 2.06-.94-2.06-.94-.94-2.06-.94 2.06-2.06.94z\"/><path d=\"M17.41 7.96l-1.37-1.37c-.4-.4-.92-.59-1.43-.59-.52 0-1.04.2-1.43.59L10.3 9.45l-7.72 7.72c-.78.78-.78 2.05 0 2.83L4 21.41c.39.39.9.59 1.41.59.51 0 1.02-.2 1.41-.59l7.78-7.78 2.81-2.81c.8-.78.8-2.07 0-2.86zM5.41 20L4 18.59l7.72-7.72 1.47 1.35L5.41 20z\"/>\n",
              "  </svg>\n",
              "      </button>\n",
              "      \n",
              "  <style>\n",
              "    .colab-df-container {\n",
              "      display:flex;\n",
              "      flex-wrap:wrap;\n",
              "      gap: 12px;\n",
              "    }\n",
              "\n",
              "    .colab-df-convert {\n",
              "      background-color: #E8F0FE;\n",
              "      border: none;\n",
              "      border-radius: 50%;\n",
              "      cursor: pointer;\n",
              "      display: none;\n",
              "      fill: #1967D2;\n",
              "      height: 32px;\n",
              "      padding: 0 0 0 0;\n",
              "      width: 32px;\n",
              "    }\n",
              "\n",
              "    .colab-df-convert:hover {\n",
              "      background-color: #E2EBFA;\n",
              "      box-shadow: 0px 1px 2px rgba(60, 64, 67, 0.3), 0px 1px 3px 1px rgba(60, 64, 67, 0.15);\n",
              "      fill: #174EA6;\n",
              "    }\n",
              "\n",
              "    [theme=dark] .colab-df-convert {\n",
              "      background-color: #3B4455;\n",
              "      fill: #D2E3FC;\n",
              "    }\n",
              "\n",
              "    [theme=dark] .colab-df-convert:hover {\n",
              "      background-color: #434B5C;\n",
              "      box-shadow: 0px 1px 3px 1px rgba(0, 0, 0, 0.15);\n",
              "      filter: drop-shadow(0px 1px 2px rgba(0, 0, 0, 0.3));\n",
              "      fill: #FFFFFF;\n",
              "    }\n",
              "  </style>\n",
              "\n",
              "      <script>\n",
              "        const buttonEl =\n",
              "          document.querySelector('#df-46e1aaf9-86ca-4085-a42c-fc6914b23df9 button.colab-df-convert');\n",
              "        buttonEl.style.display =\n",
              "          google.colab.kernel.accessAllowed ? 'block' : 'none';\n",
              "\n",
              "        async function convertToInteractive(key) {\n",
              "          const element = document.querySelector('#df-46e1aaf9-86ca-4085-a42c-fc6914b23df9');\n",
              "          const dataTable =\n",
              "            await google.colab.kernel.invokeFunction('convertToInteractive',\n",
              "                                                     [key], {});\n",
              "          if (!dataTable) return;\n",
              "\n",
              "          const docLinkHtml = 'Like what you see? Visit the ' +\n",
              "            '<a target=\"_blank\" href=https://colab.research.google.com/notebooks/data_table.ipynb>data table notebook</a>'\n",
              "            + ' to learn more about interactive tables.';\n",
              "          element.innerHTML = '';\n",
              "          dataTable['output_type'] = 'display_data';\n",
              "          await google.colab.output.renderOutput(dataTable, element);\n",
              "          const docLink = document.createElement('div');\n",
              "          docLink.innerHTML = docLinkHtml;\n",
              "          element.appendChild(docLink);\n",
              "        }\n",
              "      </script>\n",
              "    </div>\n",
              "  </div>\n",
              "  "
            ]
          },
          "metadata": {},
          "execution_count": 139
        }
      ]
    },
    {
      "cell_type": "code",
      "source": [
        "hotel_4n5d['grade'].value_counts()"
      ],
      "metadata": {
        "colab": {
          "base_uri": "https://localhost:8080/"
        },
        "id": "NZ8H_sH2QIAg",
        "outputId": "ad89f8dd-8df3-408b-99cf-f3204076c1e2"
      },
      "execution_count": null,
      "outputs": [
        {
          "output_type": "execute_result",
          "data": {
            "text/plain": [
              "4    1015\n",
              "3     863\n",
              "5     406\n",
              "0     173\n",
              "2     117\n",
              "1      26\n",
              "Name: grade, dtype: int64"
            ]
          },
          "metadata": {},
          "execution_count": 142
        }
      ]
    },
    {
      "cell_type": "code",
      "source": [
        "hotel_4n5d.info()"
      ],
      "metadata": {
        "colab": {
          "base_uri": "https://localhost:8080/"
        },
        "id": "BXOJDwAMvSiB",
        "outputId": "b3f7c0ca-756b-499d-cec5-aec030b5af5d"
      },
      "execution_count": null,
      "outputs": [
        {
          "output_type": "stream",
          "name": "stdout",
          "text": [
            "<class 'pandas.core.frame.DataFrame'>\n",
            "RangeIndex: 2600 entries, 0 to 2599\n",
            "Data columns (total 10 columns):\n",
            " #   Column         Non-Null Count  Dtype  \n",
            "---  ------         --------------  -----  \n",
            " 0   checkin_date   2600 non-null   int64  \n",
            " 1   checkin_day    2600 non-null   object \n",
            " 2   checkout_date  2600 non-null   int64  \n",
            " 3   checkout_day   2600 non-null   object \n",
            " 4   name           2600 non-null   object \n",
            " 5   location       2600 non-null   object \n",
            " 6   grade          2600 non-null   int64  \n",
            " 7   score          2600 non-null   float64\n",
            " 8   customer_num   2600 non-null   int64  \n",
            " 9   price          2600 non-null   int64  \n",
            "dtypes: float64(1), int64(5), object(4)\n",
            "memory usage: 203.2+ KB\n"
          ]
        }
      ]
    },
    {
      "cell_type": "code",
      "source": [
        "#hotel_2people = pd.concat([hotel_2n3d, hotel_3n4d, hotel_4n5d], ignore_index=True)\n",
        "#hotel_3people = pd.concat([hotel_2n3d, hotel_3n4d, hotel_4n5d], ignore_index=True)\n",
        "hotel_4people = pd.concat([hotel_2n3d, hotel_3n4d, hotel_4n5d], ignore_index=True)"
      ],
      "metadata": {
        "id": "DVWj386ETHoe"
      },
      "execution_count": null,
      "outputs": []
    },
    {
      "cell_type": "code",
      "source": [
        "hotel_4people"
      ],
      "metadata": {
        "colab": {
          "base_uri": "https://localhost:8080/",
          "height": 424
        },
        "id": "L3LjNvS-rWPh",
        "outputId": "be1aa7c8-5f28-4349-940e-e1609e27082c"
      },
      "execution_count": null,
      "outputs": [
        {
          "output_type": "execute_result",
          "data": {
            "text/plain": [
              "      checkin_date checkin_day  checkout_date checkout_day               name  \\\n",
              "0              601           목            603            토         파르나스 호텔 제주   \n",
              "1              601           목            603            토           제주 신라 호텔   \n",
              "2              601           목            603            토  랜딩관 제주신화월드 호텔앤리조트   \n",
              "3              601           목            603            토          메종 글래드 제주   \n",
              "4              601           목            603            토      라마다 프라자 제주 호텔   \n",
              "...            ...         ...            ...          ...                ...   \n",
              "8095           626           월            630            금        라온 호텔 앤 리조트   \n",
              "8096           626           월            630            금             에벤에셀호텔   \n",
              "8097           626           월            630            금         골드원 호텔&스위트   \n",
              "8098           626           월            630            금     제주 샹그릴라 호텔앤리조트   \n",
              "8099           626           월            630            금         제주 마레보 리조트   \n",
              "\n",
              "     location  grade  score  customer_num     price  \n",
              "0         서귀포      5    9.2             4   1280000  \n",
              "1         서귀포      5    9.0             4  10780000  \n",
              "2         서귀포      5    8.3             4    516780  \n",
              "3          제주      5    8.1             4    369289  \n",
              "4          제주      5    8.2             4    375693  \n",
              "...       ...    ...    ...           ...       ...  \n",
              "8095       제주      3    6.8             4    360000  \n",
              "8096       제주      5    8.0             4    306000  \n",
              "8097      서귀포      4    8.6             4    843636  \n",
              "8098       제주      3    7.8             4    245580  \n",
              "8099       제주      3    7.6             4    314348  \n",
              "\n",
              "[8100 rows x 10 columns]"
            ],
            "text/html": [
              "\n",
              "  <div id=\"df-9741293b-acbf-408f-af50-6c40202f7316\">\n",
              "    <div class=\"colab-df-container\">\n",
              "      <div>\n",
              "<style scoped>\n",
              "    .dataframe tbody tr th:only-of-type {\n",
              "        vertical-align: middle;\n",
              "    }\n",
              "\n",
              "    .dataframe tbody tr th {\n",
              "        vertical-align: top;\n",
              "    }\n",
              "\n",
              "    .dataframe thead th {\n",
              "        text-align: right;\n",
              "    }\n",
              "</style>\n",
              "<table border=\"1\" class=\"dataframe\">\n",
              "  <thead>\n",
              "    <tr style=\"text-align: right;\">\n",
              "      <th></th>\n",
              "      <th>checkin_date</th>\n",
              "      <th>checkin_day</th>\n",
              "      <th>checkout_date</th>\n",
              "      <th>checkout_day</th>\n",
              "      <th>name</th>\n",
              "      <th>location</th>\n",
              "      <th>grade</th>\n",
              "      <th>score</th>\n",
              "      <th>customer_num</th>\n",
              "      <th>price</th>\n",
              "    </tr>\n",
              "  </thead>\n",
              "  <tbody>\n",
              "    <tr>\n",
              "      <th>0</th>\n",
              "      <td>601</td>\n",
              "      <td>목</td>\n",
              "      <td>603</td>\n",
              "      <td>토</td>\n",
              "      <td>파르나스 호텔 제주</td>\n",
              "      <td>서귀포</td>\n",
              "      <td>5</td>\n",
              "      <td>9.2</td>\n",
              "      <td>4</td>\n",
              "      <td>1280000</td>\n",
              "    </tr>\n",
              "    <tr>\n",
              "      <th>1</th>\n",
              "      <td>601</td>\n",
              "      <td>목</td>\n",
              "      <td>603</td>\n",
              "      <td>토</td>\n",
              "      <td>제주 신라 호텔</td>\n",
              "      <td>서귀포</td>\n",
              "      <td>5</td>\n",
              "      <td>9.0</td>\n",
              "      <td>4</td>\n",
              "      <td>10780000</td>\n",
              "    </tr>\n",
              "    <tr>\n",
              "      <th>2</th>\n",
              "      <td>601</td>\n",
              "      <td>목</td>\n",
              "      <td>603</td>\n",
              "      <td>토</td>\n",
              "      <td>랜딩관 제주신화월드 호텔앤리조트</td>\n",
              "      <td>서귀포</td>\n",
              "      <td>5</td>\n",
              "      <td>8.3</td>\n",
              "      <td>4</td>\n",
              "      <td>516780</td>\n",
              "    </tr>\n",
              "    <tr>\n",
              "      <th>3</th>\n",
              "      <td>601</td>\n",
              "      <td>목</td>\n",
              "      <td>603</td>\n",
              "      <td>토</td>\n",
              "      <td>메종 글래드 제주</td>\n",
              "      <td>제주</td>\n",
              "      <td>5</td>\n",
              "      <td>8.1</td>\n",
              "      <td>4</td>\n",
              "      <td>369289</td>\n",
              "    </tr>\n",
              "    <tr>\n",
              "      <th>4</th>\n",
              "      <td>601</td>\n",
              "      <td>목</td>\n",
              "      <td>603</td>\n",
              "      <td>토</td>\n",
              "      <td>라마다 프라자 제주 호텔</td>\n",
              "      <td>제주</td>\n",
              "      <td>5</td>\n",
              "      <td>8.2</td>\n",
              "      <td>4</td>\n",
              "      <td>375693</td>\n",
              "    </tr>\n",
              "    <tr>\n",
              "      <th>...</th>\n",
              "      <td>...</td>\n",
              "      <td>...</td>\n",
              "      <td>...</td>\n",
              "      <td>...</td>\n",
              "      <td>...</td>\n",
              "      <td>...</td>\n",
              "      <td>...</td>\n",
              "      <td>...</td>\n",
              "      <td>...</td>\n",
              "      <td>...</td>\n",
              "    </tr>\n",
              "    <tr>\n",
              "      <th>8095</th>\n",
              "      <td>626</td>\n",
              "      <td>월</td>\n",
              "      <td>630</td>\n",
              "      <td>금</td>\n",
              "      <td>라온 호텔 앤 리조트</td>\n",
              "      <td>제주</td>\n",
              "      <td>3</td>\n",
              "      <td>6.8</td>\n",
              "      <td>4</td>\n",
              "      <td>360000</td>\n",
              "    </tr>\n",
              "    <tr>\n",
              "      <th>8096</th>\n",
              "      <td>626</td>\n",
              "      <td>월</td>\n",
              "      <td>630</td>\n",
              "      <td>금</td>\n",
              "      <td>에벤에셀호텔</td>\n",
              "      <td>제주</td>\n",
              "      <td>5</td>\n",
              "      <td>8.0</td>\n",
              "      <td>4</td>\n",
              "      <td>306000</td>\n",
              "    </tr>\n",
              "    <tr>\n",
              "      <th>8097</th>\n",
              "      <td>626</td>\n",
              "      <td>월</td>\n",
              "      <td>630</td>\n",
              "      <td>금</td>\n",
              "      <td>골드원 호텔&amp;스위트</td>\n",
              "      <td>서귀포</td>\n",
              "      <td>4</td>\n",
              "      <td>8.6</td>\n",
              "      <td>4</td>\n",
              "      <td>843636</td>\n",
              "    </tr>\n",
              "    <tr>\n",
              "      <th>8098</th>\n",
              "      <td>626</td>\n",
              "      <td>월</td>\n",
              "      <td>630</td>\n",
              "      <td>금</td>\n",
              "      <td>제주 샹그릴라 호텔앤리조트</td>\n",
              "      <td>제주</td>\n",
              "      <td>3</td>\n",
              "      <td>7.8</td>\n",
              "      <td>4</td>\n",
              "      <td>245580</td>\n",
              "    </tr>\n",
              "    <tr>\n",
              "      <th>8099</th>\n",
              "      <td>626</td>\n",
              "      <td>월</td>\n",
              "      <td>630</td>\n",
              "      <td>금</td>\n",
              "      <td>제주 마레보 리조트</td>\n",
              "      <td>제주</td>\n",
              "      <td>3</td>\n",
              "      <td>7.6</td>\n",
              "      <td>4</td>\n",
              "      <td>314348</td>\n",
              "    </tr>\n",
              "  </tbody>\n",
              "</table>\n",
              "<p>8100 rows × 10 columns</p>\n",
              "</div>\n",
              "      <button class=\"colab-df-convert\" onclick=\"convertToInteractive('df-9741293b-acbf-408f-af50-6c40202f7316')\"\n",
              "              title=\"Convert this dataframe to an interactive table.\"\n",
              "              style=\"display:none;\">\n",
              "        \n",
              "  <svg xmlns=\"http://www.w3.org/2000/svg\" height=\"24px\"viewBox=\"0 0 24 24\"\n",
              "       width=\"24px\">\n",
              "    <path d=\"M0 0h24v24H0V0z\" fill=\"none\"/>\n",
              "    <path d=\"M18.56 5.44l.94 2.06.94-2.06 2.06-.94-2.06-.94-.94-2.06-.94 2.06-2.06.94zm-11 1L8.5 8.5l.94-2.06 2.06-.94-2.06-.94L8.5 2.5l-.94 2.06-2.06.94zm10 10l.94 2.06.94-2.06 2.06-.94-2.06-.94-.94-2.06-.94 2.06-2.06.94z\"/><path d=\"M17.41 7.96l-1.37-1.37c-.4-.4-.92-.59-1.43-.59-.52 0-1.04.2-1.43.59L10.3 9.45l-7.72 7.72c-.78.78-.78 2.05 0 2.83L4 21.41c.39.39.9.59 1.41.59.51 0 1.02-.2 1.41-.59l7.78-7.78 2.81-2.81c.8-.78.8-2.07 0-2.86zM5.41 20L4 18.59l7.72-7.72 1.47 1.35L5.41 20z\"/>\n",
              "  </svg>\n",
              "      </button>\n",
              "      \n",
              "  <style>\n",
              "    .colab-df-container {\n",
              "      display:flex;\n",
              "      flex-wrap:wrap;\n",
              "      gap: 12px;\n",
              "    }\n",
              "\n",
              "    .colab-df-convert {\n",
              "      background-color: #E8F0FE;\n",
              "      border: none;\n",
              "      border-radius: 50%;\n",
              "      cursor: pointer;\n",
              "      display: none;\n",
              "      fill: #1967D2;\n",
              "      height: 32px;\n",
              "      padding: 0 0 0 0;\n",
              "      width: 32px;\n",
              "    }\n",
              "\n",
              "    .colab-df-convert:hover {\n",
              "      background-color: #E2EBFA;\n",
              "      box-shadow: 0px 1px 2px rgba(60, 64, 67, 0.3), 0px 1px 3px 1px rgba(60, 64, 67, 0.15);\n",
              "      fill: #174EA6;\n",
              "    }\n",
              "\n",
              "    [theme=dark] .colab-df-convert {\n",
              "      background-color: #3B4455;\n",
              "      fill: #D2E3FC;\n",
              "    }\n",
              "\n",
              "    [theme=dark] .colab-df-convert:hover {\n",
              "      background-color: #434B5C;\n",
              "      box-shadow: 0px 1px 3px 1px rgba(0, 0, 0, 0.15);\n",
              "      filter: drop-shadow(0px 1px 2px rgba(0, 0, 0, 0.3));\n",
              "      fill: #FFFFFF;\n",
              "    }\n",
              "  </style>\n",
              "\n",
              "      <script>\n",
              "        const buttonEl =\n",
              "          document.querySelector('#df-9741293b-acbf-408f-af50-6c40202f7316 button.colab-df-convert');\n",
              "        buttonEl.style.display =\n",
              "          google.colab.kernel.accessAllowed ? 'block' : 'none';\n",
              "\n",
              "        async function convertToInteractive(key) {\n",
              "          const element = document.querySelector('#df-9741293b-acbf-408f-af50-6c40202f7316');\n",
              "          const dataTable =\n",
              "            await google.colab.kernel.invokeFunction('convertToInteractive',\n",
              "                                                     [key], {});\n",
              "          if (!dataTable) return;\n",
              "\n",
              "          const docLinkHtml = 'Like what you see? Visit the ' +\n",
              "            '<a target=\"_blank\" href=https://colab.research.google.com/notebooks/data_table.ipynb>data table notebook</a>'\n",
              "            + ' to learn more about interactive tables.';\n",
              "          element.innerHTML = '';\n",
              "          dataTable['output_type'] = 'display_data';\n",
              "          await google.colab.output.renderOutput(dataTable, element);\n",
              "          const docLink = document.createElement('div');\n",
              "          docLink.innerHTML = docLinkHtml;\n",
              "          element.appendChild(docLink);\n",
              "        }\n",
              "      </script>\n",
              "    </div>\n",
              "  </div>\n",
              "  "
            ]
          },
          "metadata": {},
          "execution_count": 148
        }
      ]
    },
    {
      "cell_type": "code",
      "source": [
        "#hotel_2people.info()\n",
        "#hotel_3people.info()\n",
        "hotel_4people.info()"
      ],
      "metadata": {
        "colab": {
          "base_uri": "https://localhost:8080/"
        },
        "id": "JCT-1lkWTzAL",
        "outputId": "03d8dfa4-5beb-4722-f0fc-298ee8bd6725"
      },
      "execution_count": null,
      "outputs": [
        {
          "output_type": "stream",
          "name": "stdout",
          "text": [
            "<class 'pandas.core.frame.DataFrame'>\n",
            "RangeIndex: 8100 entries, 0 to 8099\n",
            "Data columns (total 10 columns):\n",
            " #   Column         Non-Null Count  Dtype  \n",
            "---  ------         --------------  -----  \n",
            " 0   checkin_date   8100 non-null   int64  \n",
            " 1   checkin_day    8100 non-null   object \n",
            " 2   checkout_date  8100 non-null   int64  \n",
            " 3   checkout_day   8100 non-null   object \n",
            " 4   name           8100 non-null   object \n",
            " 5   location       8100 non-null   object \n",
            " 6   grade          8100 non-null   int64  \n",
            " 7   score          8100 non-null   float64\n",
            " 8   customer_num   8100 non-null   int64  \n",
            " 9   price          8100 non-null   int64  \n",
            "dtypes: float64(1), int64(5), object(4)\n",
            "memory usage: 632.9+ KB\n"
          ]
        }
      ]
    },
    {
      "cell_type": "code",
      "source": [
        "#hotel_2people.to_csv('hotel_2people.csv',index= None)\n",
        "#hotel_3people.to_csv('hotel_3people.csv',index= None)\n",
        "hotel_4people.to_csv('hotel_4people.csv',index= None)"
      ],
      "metadata": {
        "id": "IRqUWMAM5ZUO"
      },
      "execution_count": null,
      "outputs": []
    },
    {
      "cell_type": "markdown",
      "source": [
        "##### 2인 + 3인 + 4인"
      ],
      "metadata": {
        "id": "7gj6kKKWUFhz"
      }
    },
    {
      "cell_type": "code",
      "source": [
        "hotel_2people = pd.read_csv('/content/drive/MyDrive/AIB17/project1/hotel_2people.csv', encoding='UTF8')\n",
        "hotel_3people = pd.read_csv('/content/drive/MyDrive/AIB17/project1/hotel_3people.csv', encoding='UTF8')\n",
        "hotel_4people = pd.read_csv('/content/drive/MyDrive/AIB17/project1/hotel_4people.csv', encoding='UTF8')"
      ],
      "metadata": {
        "id": "Je9EAucBUDxp"
      },
      "execution_count": null,
      "outputs": []
    },
    {
      "cell_type": "code",
      "source": [
        "hotel_2people"
      ],
      "metadata": {
        "colab": {
          "base_uri": "https://localhost:8080/",
          "height": 502
        },
        "id": "Zg1-cI3XwKgX",
        "outputId": "dfd7f92c-38d9-4a71-99e4-5225c441a462"
      },
      "execution_count": null,
      "outputs": [
        {
          "output_type": "execute_result",
          "data": {
            "text/plain": [
              "      checkin_date checkin_day  ckeckout_date checkout_day         hotel_name  \\\n",
              "0              601           목            603            토         파르나스 호텔 제주   \n",
              "1              601           목            603            토           제주 신라 호텔   \n",
              "2              601           목            603            토  랜딩관 제주신화월드 호텔앤리조트   \n",
              "3              601           목            603            토          메종 글래드 제주   \n",
              "4              601           목            603            토           롯데 호텔 제주   \n",
              "...            ...         ...            ...          ...                ...   \n",
              "8095           626           월            630            금           디 아넥스 호텔   \n",
              "8096           626           월            630            금        머큐어 앰배서더 제주   \n",
              "8097           626           월            630            금              블룸 호텔   \n",
              "8098           626           월            630            금           호텔 화인 제주   \n",
              "8099           626           월            630            금    호텔 스카이파크 제주 1호점   \n",
              "\n",
              "     location  grade  score  customer_num   price  \n",
              "0         서귀포      5    9.2             2  727500  \n",
              "1         서귀포      5    9.0             2  772750  \n",
              "2         서귀포      5    8.3             2  303040  \n",
              "3          제주      5    8.1             2  332259  \n",
              "4         서귀포      5    8.8             2  630000  \n",
              "...       ...    ...    ...           ...     ...  \n",
              "8095      서귀포      3    9.0             2  695927  \n",
              "8096      서귀포      5    8.0             2  748000  \n",
              "8097      서귀포      3    8.3             2  419305  \n",
              "8098      서귀포      4    9.2             2  198348  \n",
              "8099       제주      3    7.8             2  201375  \n",
              "\n",
              "[8100 rows x 10 columns]"
            ],
            "text/html": [
              "\n",
              "  <div id=\"df-123a73bf-74f1-4199-980d-9c00a1e4aacb\">\n",
              "    <div class=\"colab-df-container\">\n",
              "      <div>\n",
              "<style scoped>\n",
              "    .dataframe tbody tr th:only-of-type {\n",
              "        vertical-align: middle;\n",
              "    }\n",
              "\n",
              "    .dataframe tbody tr th {\n",
              "        vertical-align: top;\n",
              "    }\n",
              "\n",
              "    .dataframe thead th {\n",
              "        text-align: right;\n",
              "    }\n",
              "</style>\n",
              "<table border=\"1\" class=\"dataframe\">\n",
              "  <thead>\n",
              "    <tr style=\"text-align: right;\">\n",
              "      <th></th>\n",
              "      <th>checkin_date</th>\n",
              "      <th>checkin_day</th>\n",
              "      <th>ckeckout_date</th>\n",
              "      <th>checkout_day</th>\n",
              "      <th>hotel_name</th>\n",
              "      <th>location</th>\n",
              "      <th>grade</th>\n",
              "      <th>score</th>\n",
              "      <th>customer_num</th>\n",
              "      <th>price</th>\n",
              "    </tr>\n",
              "  </thead>\n",
              "  <tbody>\n",
              "    <tr>\n",
              "      <th>0</th>\n",
              "      <td>601</td>\n",
              "      <td>목</td>\n",
              "      <td>603</td>\n",
              "      <td>토</td>\n",
              "      <td>파르나스 호텔 제주</td>\n",
              "      <td>서귀포</td>\n",
              "      <td>5</td>\n",
              "      <td>9.2</td>\n",
              "      <td>2</td>\n",
              "      <td>727500</td>\n",
              "    </tr>\n",
              "    <tr>\n",
              "      <th>1</th>\n",
              "      <td>601</td>\n",
              "      <td>목</td>\n",
              "      <td>603</td>\n",
              "      <td>토</td>\n",
              "      <td>제주 신라 호텔</td>\n",
              "      <td>서귀포</td>\n",
              "      <td>5</td>\n",
              "      <td>9.0</td>\n",
              "      <td>2</td>\n",
              "      <td>772750</td>\n",
              "    </tr>\n",
              "    <tr>\n",
              "      <th>2</th>\n",
              "      <td>601</td>\n",
              "      <td>목</td>\n",
              "      <td>603</td>\n",
              "      <td>토</td>\n",
              "      <td>랜딩관 제주신화월드 호텔앤리조트</td>\n",
              "      <td>서귀포</td>\n",
              "      <td>5</td>\n",
              "      <td>8.3</td>\n",
              "      <td>2</td>\n",
              "      <td>303040</td>\n",
              "    </tr>\n",
              "    <tr>\n",
              "      <th>3</th>\n",
              "      <td>601</td>\n",
              "      <td>목</td>\n",
              "      <td>603</td>\n",
              "      <td>토</td>\n",
              "      <td>메종 글래드 제주</td>\n",
              "      <td>제주</td>\n",
              "      <td>5</td>\n",
              "      <td>8.1</td>\n",
              "      <td>2</td>\n",
              "      <td>332259</td>\n",
              "    </tr>\n",
              "    <tr>\n",
              "      <th>4</th>\n",
              "      <td>601</td>\n",
              "      <td>목</td>\n",
              "      <td>603</td>\n",
              "      <td>토</td>\n",
              "      <td>롯데 호텔 제주</td>\n",
              "      <td>서귀포</td>\n",
              "      <td>5</td>\n",
              "      <td>8.8</td>\n",
              "      <td>2</td>\n",
              "      <td>630000</td>\n",
              "    </tr>\n",
              "    <tr>\n",
              "      <th>...</th>\n",
              "      <td>...</td>\n",
              "      <td>...</td>\n",
              "      <td>...</td>\n",
              "      <td>...</td>\n",
              "      <td>...</td>\n",
              "      <td>...</td>\n",
              "      <td>...</td>\n",
              "      <td>...</td>\n",
              "      <td>...</td>\n",
              "      <td>...</td>\n",
              "    </tr>\n",
              "    <tr>\n",
              "      <th>8095</th>\n",
              "      <td>626</td>\n",
              "      <td>월</td>\n",
              "      <td>630</td>\n",
              "      <td>금</td>\n",
              "      <td>디 아넥스 호텔</td>\n",
              "      <td>서귀포</td>\n",
              "      <td>3</td>\n",
              "      <td>9.0</td>\n",
              "      <td>2</td>\n",
              "      <td>695927</td>\n",
              "    </tr>\n",
              "    <tr>\n",
              "      <th>8096</th>\n",
              "      <td>626</td>\n",
              "      <td>월</td>\n",
              "      <td>630</td>\n",
              "      <td>금</td>\n",
              "      <td>머큐어 앰배서더 제주</td>\n",
              "      <td>서귀포</td>\n",
              "      <td>5</td>\n",
              "      <td>8.0</td>\n",
              "      <td>2</td>\n",
              "      <td>748000</td>\n",
              "    </tr>\n",
              "    <tr>\n",
              "      <th>8097</th>\n",
              "      <td>626</td>\n",
              "      <td>월</td>\n",
              "      <td>630</td>\n",
              "      <td>금</td>\n",
              "      <td>블룸 호텔</td>\n",
              "      <td>서귀포</td>\n",
              "      <td>3</td>\n",
              "      <td>8.3</td>\n",
              "      <td>2</td>\n",
              "      <td>419305</td>\n",
              "    </tr>\n",
              "    <tr>\n",
              "      <th>8098</th>\n",
              "      <td>626</td>\n",
              "      <td>월</td>\n",
              "      <td>630</td>\n",
              "      <td>금</td>\n",
              "      <td>호텔 화인 제주</td>\n",
              "      <td>서귀포</td>\n",
              "      <td>4</td>\n",
              "      <td>9.2</td>\n",
              "      <td>2</td>\n",
              "      <td>198348</td>\n",
              "    </tr>\n",
              "    <tr>\n",
              "      <th>8099</th>\n",
              "      <td>626</td>\n",
              "      <td>월</td>\n",
              "      <td>630</td>\n",
              "      <td>금</td>\n",
              "      <td>호텔 스카이파크 제주 1호점</td>\n",
              "      <td>제주</td>\n",
              "      <td>3</td>\n",
              "      <td>7.8</td>\n",
              "      <td>2</td>\n",
              "      <td>201375</td>\n",
              "    </tr>\n",
              "  </tbody>\n",
              "</table>\n",
              "<p>8100 rows × 10 columns</p>\n",
              "</div>\n",
              "      <button class=\"colab-df-convert\" onclick=\"convertToInteractive('df-123a73bf-74f1-4199-980d-9c00a1e4aacb')\"\n",
              "              title=\"Convert this dataframe to an interactive table.\"\n",
              "              style=\"display:none;\">\n",
              "        \n",
              "  <svg xmlns=\"http://www.w3.org/2000/svg\" height=\"24px\"viewBox=\"0 0 24 24\"\n",
              "       width=\"24px\">\n",
              "    <path d=\"M0 0h24v24H0V0z\" fill=\"none\"/>\n",
              "    <path d=\"M18.56 5.44l.94 2.06.94-2.06 2.06-.94-2.06-.94-.94-2.06-.94 2.06-2.06.94zm-11 1L8.5 8.5l.94-2.06 2.06-.94-2.06-.94L8.5 2.5l-.94 2.06-2.06.94zm10 10l.94 2.06.94-2.06 2.06-.94-2.06-.94-.94-2.06-.94 2.06-2.06.94z\"/><path d=\"M17.41 7.96l-1.37-1.37c-.4-.4-.92-.59-1.43-.59-.52 0-1.04.2-1.43.59L10.3 9.45l-7.72 7.72c-.78.78-.78 2.05 0 2.83L4 21.41c.39.39.9.59 1.41.59.51 0 1.02-.2 1.41-.59l7.78-7.78 2.81-2.81c.8-.78.8-2.07 0-2.86zM5.41 20L4 18.59l7.72-7.72 1.47 1.35L5.41 20z\"/>\n",
              "  </svg>\n",
              "      </button>\n",
              "      \n",
              "  <style>\n",
              "    .colab-df-container {\n",
              "      display:flex;\n",
              "      flex-wrap:wrap;\n",
              "      gap: 12px;\n",
              "    }\n",
              "\n",
              "    .colab-df-convert {\n",
              "      background-color: #E8F0FE;\n",
              "      border: none;\n",
              "      border-radius: 50%;\n",
              "      cursor: pointer;\n",
              "      display: none;\n",
              "      fill: #1967D2;\n",
              "      height: 32px;\n",
              "      padding: 0 0 0 0;\n",
              "      width: 32px;\n",
              "    }\n",
              "\n",
              "    .colab-df-convert:hover {\n",
              "      background-color: #E2EBFA;\n",
              "      box-shadow: 0px 1px 2px rgba(60, 64, 67, 0.3), 0px 1px 3px 1px rgba(60, 64, 67, 0.15);\n",
              "      fill: #174EA6;\n",
              "    }\n",
              "\n",
              "    [theme=dark] .colab-df-convert {\n",
              "      background-color: #3B4455;\n",
              "      fill: #D2E3FC;\n",
              "    }\n",
              "\n",
              "    [theme=dark] .colab-df-convert:hover {\n",
              "      background-color: #434B5C;\n",
              "      box-shadow: 0px 1px 3px 1px rgba(0, 0, 0, 0.15);\n",
              "      filter: drop-shadow(0px 1px 2px rgba(0, 0, 0, 0.3));\n",
              "      fill: #FFFFFF;\n",
              "    }\n",
              "  </style>\n",
              "\n",
              "      <script>\n",
              "        const buttonEl =\n",
              "          document.querySelector('#df-123a73bf-74f1-4199-980d-9c00a1e4aacb button.colab-df-convert');\n",
              "        buttonEl.style.display =\n",
              "          google.colab.kernel.accessAllowed ? 'block' : 'none';\n",
              "\n",
              "        async function convertToInteractive(key) {\n",
              "          const element = document.querySelector('#df-123a73bf-74f1-4199-980d-9c00a1e4aacb');\n",
              "          const dataTable =\n",
              "            await google.colab.kernel.invokeFunction('convertToInteractive',\n",
              "                                                     [key], {});\n",
              "          if (!dataTable) return;\n",
              "\n",
              "          const docLinkHtml = 'Like what you see? Visit the ' +\n",
              "            '<a target=\"_blank\" href=https://colab.research.google.com/notebooks/data_table.ipynb>data table notebook</a>'\n",
              "            + ' to learn more about interactive tables.';\n",
              "          element.innerHTML = '';\n",
              "          dataTable['output_type'] = 'display_data';\n",
              "          await google.colab.output.renderOutput(dataTable, element);\n",
              "          const docLink = document.createElement('div');\n",
              "          docLink.innerHTML = docLinkHtml;\n",
              "          element.appendChild(docLink);\n",
              "        }\n",
              "      </script>\n",
              "    </div>\n",
              "  </div>\n",
              "  "
            ]
          },
          "metadata": {},
          "execution_count": 22
        }
      ]
    },
    {
      "cell_type": "code",
      "source": [
        "print(hotel_2people.info())\n",
        "print(hotel_3people.info())\n",
        "print(hotel_4people.info())"
      ],
      "metadata": {
        "colab": {
          "base_uri": "https://localhost:8080/"
        },
        "id": "BF5GpmiyY7vA",
        "outputId": "17588987-c441-4120-e95c-e6f0fff39f1d"
      },
      "execution_count": null,
      "outputs": [
        {
          "output_type": "stream",
          "name": "stdout",
          "text": [
            "<class 'pandas.core.frame.DataFrame'>\n",
            "RangeIndex: 8100 entries, 0 to 8099\n",
            "Data columns (total 10 columns):\n",
            " #   Column         Non-Null Count  Dtype  \n",
            "---  ------         --------------  -----  \n",
            " 0   checkin_date   8100 non-null   int64  \n",
            " 1   checkin_day    8100 non-null   object \n",
            " 2   ckeckout_date  8100 non-null   int64  \n",
            " 3   checkout_day   8100 non-null   object \n",
            " 4   hotel_name     8100 non-null   object \n",
            " 5   location       8100 non-null   object \n",
            " 6   grade          8100 non-null   int64  \n",
            " 7   score          8100 non-null   float64\n",
            " 8   customer_num   8100 non-null   int64  \n",
            " 9   price          8100 non-null   int64  \n",
            "dtypes: float64(1), int64(5), object(4)\n",
            "memory usage: 632.9+ KB\n",
            "None\n",
            "<class 'pandas.core.frame.DataFrame'>\n",
            "RangeIndex: 8100 entries, 0 to 8099\n",
            "Data columns (total 10 columns):\n",
            " #   Column         Non-Null Count  Dtype  \n",
            "---  ------         --------------  -----  \n",
            " 0   checkin_date   8100 non-null   int64  \n",
            " 1   checkin_day    8100 non-null   object \n",
            " 2   checkout_date  8100 non-null   int64  \n",
            " 3   checkout_day   8100 non-null   object \n",
            " 4   name           8100 non-null   object \n",
            " 5   location       8100 non-null   object \n",
            " 6   grade          8100 non-null   int64  \n",
            " 7   score          8100 non-null   float64\n",
            " 8   customer_num   8100 non-null   int64  \n",
            " 9   price          8100 non-null   int64  \n",
            "dtypes: float64(1), int64(5), object(4)\n",
            "memory usage: 632.9+ KB\n",
            "None\n",
            "<class 'pandas.core.frame.DataFrame'>\n",
            "RangeIndex: 8100 entries, 0 to 8099\n",
            "Data columns (total 10 columns):\n",
            " #   Column         Non-Null Count  Dtype  \n",
            "---  ------         --------------  -----  \n",
            " 0   checkin_date   8100 non-null   int64  \n",
            " 1   checkin_day    8100 non-null   object \n",
            " 2   checkout_date  8100 non-null   int64  \n",
            " 3   checkout_day   8100 non-null   object \n",
            " 4   name           8100 non-null   object \n",
            " 5   location       8100 non-null   object \n",
            " 6   grade          8100 non-null   int64  \n",
            " 7   score          8100 non-null   float64\n",
            " 8   customer_num   8100 non-null   int64  \n",
            " 9   price          8100 non-null   int64  \n",
            "dtypes: float64(1), int64(5), object(4)\n",
            "memory usage: 632.9+ KB\n",
            "None\n"
          ]
        }
      ]
    },
    {
      "cell_type": "code",
      "source": [
        "hotel_2people.rename(columns={'ckeckout_date':'checkout_date'}, inplace=True)\n",
        "hotel_3people.rename(columns={'name':'hotel_name'},inplace=True)\n",
        "hotel_4people.rename(columns={'name':'hotel_name'},inplace=True)"
      ],
      "metadata": {
        "id": "VAEvkfjrxCIV"
      },
      "execution_count": null,
      "outputs": []
    },
    {
      "cell_type": "code",
      "source": [
        "hotel_2people.info()"
      ],
      "metadata": {
        "colab": {
          "base_uri": "https://localhost:8080/"
        },
        "id": "32DLHLPTxhT0",
        "outputId": "8fa5b00f-fc56-43c9-b7e3-f4d4fc025981"
      },
      "execution_count": null,
      "outputs": [
        {
          "output_type": "stream",
          "name": "stdout",
          "text": [
            "<class 'pandas.core.frame.DataFrame'>\n",
            "RangeIndex: 8100 entries, 0 to 8099\n",
            "Data columns (total 10 columns):\n",
            " #   Column         Non-Null Count  Dtype  \n",
            "---  ------         --------------  -----  \n",
            " 0   checkin_date   8100 non-null   int64  \n",
            " 1   checkin_day    8100 non-null   object \n",
            " 2   checkout_date  8100 non-null   int64  \n",
            " 3   checkout_day   8100 non-null   object \n",
            " 4   hotel_name     8100 non-null   object \n",
            " 5   location       8100 non-null   object \n",
            " 6   grade          8100 non-null   int64  \n",
            " 7   score          8100 non-null   float64\n",
            " 8   customer_num   8100 non-null   int64  \n",
            " 9   price          8100 non-null   int64  \n",
            "dtypes: float64(1), int64(5), object(4)\n",
            "memory usage: 632.9+ KB\n"
          ]
        }
      ]
    },
    {
      "cell_type": "code",
      "source": [
        "hotel_total = pd.concat([hotel_2people, hotel_3people, hotel_4people], ignore_index=True)"
      ],
      "metadata": {
        "id": "KeYe5TH8WZFU"
      },
      "execution_count": null,
      "outputs": []
    },
    {
      "cell_type": "code",
      "source": [
        "hotel_total"
      ],
      "metadata": {
        "colab": {
          "base_uri": "https://localhost:8080/",
          "height": 502
        },
        "id": "_sVnk90Or0nT",
        "outputId": "7074695f-24fa-4c77-cba6-0d0ea9df1580"
      },
      "execution_count": null,
      "outputs": [
        {
          "output_type": "execute_result",
          "data": {
            "text/plain": [
              "       checkin_date checkin_day  checkout_date checkout_day  \\\n",
              "0               601           목            603            토   \n",
              "1               601           목            603            토   \n",
              "2               601           목            603            토   \n",
              "3               601           목            603            토   \n",
              "4               601           목            603            토   \n",
              "...             ...         ...            ...          ...   \n",
              "24295           626           월            630            금   \n",
              "24296           626           월            630            금   \n",
              "24297           626           월            630            금   \n",
              "24298           626           월            630            금   \n",
              "24299           626           월            630            금   \n",
              "\n",
              "              hotel_name location  grade  score  customer_num   price  \n",
              "0             파르나스 호텔 제주      서귀포      5    9.2             2  727500  \n",
              "1               제주 신라 호텔      서귀포      5    9.0             2  772750  \n",
              "2      랜딩관 제주신화월드 호텔앤리조트      서귀포      5    8.3             2  303040  \n",
              "3              메종 글래드 제주       제주      5    8.1             2  332259  \n",
              "4               롯데 호텔 제주      서귀포      5    8.8             2  630000  \n",
              "...                  ...      ...    ...    ...           ...     ...  \n",
              "24295        라온 호텔 앤 리조트       제주      3    6.8             4  360000  \n",
              "24296             에벤에셀호텔       제주      5    8.0             4  306000  \n",
              "24297         골드원 호텔&스위트      서귀포      4    8.6             4  843636  \n",
              "24298     제주 샹그릴라 호텔앤리조트       제주      3    7.8             4  245580  \n",
              "24299         제주 마레보 리조트       제주      3    7.6             4  314348  \n",
              "\n",
              "[24300 rows x 10 columns]"
            ],
            "text/html": [
              "\n",
              "  <div id=\"df-ead9f689-3f1a-49f2-ab8a-31eb011b5db4\">\n",
              "    <div class=\"colab-df-container\">\n",
              "      <div>\n",
              "<style scoped>\n",
              "    .dataframe tbody tr th:only-of-type {\n",
              "        vertical-align: middle;\n",
              "    }\n",
              "\n",
              "    .dataframe tbody tr th {\n",
              "        vertical-align: top;\n",
              "    }\n",
              "\n",
              "    .dataframe thead th {\n",
              "        text-align: right;\n",
              "    }\n",
              "</style>\n",
              "<table border=\"1\" class=\"dataframe\">\n",
              "  <thead>\n",
              "    <tr style=\"text-align: right;\">\n",
              "      <th></th>\n",
              "      <th>checkin_date</th>\n",
              "      <th>checkin_day</th>\n",
              "      <th>checkout_date</th>\n",
              "      <th>checkout_day</th>\n",
              "      <th>hotel_name</th>\n",
              "      <th>location</th>\n",
              "      <th>grade</th>\n",
              "      <th>score</th>\n",
              "      <th>customer_num</th>\n",
              "      <th>price</th>\n",
              "    </tr>\n",
              "  </thead>\n",
              "  <tbody>\n",
              "    <tr>\n",
              "      <th>0</th>\n",
              "      <td>601</td>\n",
              "      <td>목</td>\n",
              "      <td>603</td>\n",
              "      <td>토</td>\n",
              "      <td>파르나스 호텔 제주</td>\n",
              "      <td>서귀포</td>\n",
              "      <td>5</td>\n",
              "      <td>9.2</td>\n",
              "      <td>2</td>\n",
              "      <td>727500</td>\n",
              "    </tr>\n",
              "    <tr>\n",
              "      <th>1</th>\n",
              "      <td>601</td>\n",
              "      <td>목</td>\n",
              "      <td>603</td>\n",
              "      <td>토</td>\n",
              "      <td>제주 신라 호텔</td>\n",
              "      <td>서귀포</td>\n",
              "      <td>5</td>\n",
              "      <td>9.0</td>\n",
              "      <td>2</td>\n",
              "      <td>772750</td>\n",
              "    </tr>\n",
              "    <tr>\n",
              "      <th>2</th>\n",
              "      <td>601</td>\n",
              "      <td>목</td>\n",
              "      <td>603</td>\n",
              "      <td>토</td>\n",
              "      <td>랜딩관 제주신화월드 호텔앤리조트</td>\n",
              "      <td>서귀포</td>\n",
              "      <td>5</td>\n",
              "      <td>8.3</td>\n",
              "      <td>2</td>\n",
              "      <td>303040</td>\n",
              "    </tr>\n",
              "    <tr>\n",
              "      <th>3</th>\n",
              "      <td>601</td>\n",
              "      <td>목</td>\n",
              "      <td>603</td>\n",
              "      <td>토</td>\n",
              "      <td>메종 글래드 제주</td>\n",
              "      <td>제주</td>\n",
              "      <td>5</td>\n",
              "      <td>8.1</td>\n",
              "      <td>2</td>\n",
              "      <td>332259</td>\n",
              "    </tr>\n",
              "    <tr>\n",
              "      <th>4</th>\n",
              "      <td>601</td>\n",
              "      <td>목</td>\n",
              "      <td>603</td>\n",
              "      <td>토</td>\n",
              "      <td>롯데 호텔 제주</td>\n",
              "      <td>서귀포</td>\n",
              "      <td>5</td>\n",
              "      <td>8.8</td>\n",
              "      <td>2</td>\n",
              "      <td>630000</td>\n",
              "    </tr>\n",
              "    <tr>\n",
              "      <th>...</th>\n",
              "      <td>...</td>\n",
              "      <td>...</td>\n",
              "      <td>...</td>\n",
              "      <td>...</td>\n",
              "      <td>...</td>\n",
              "      <td>...</td>\n",
              "      <td>...</td>\n",
              "      <td>...</td>\n",
              "      <td>...</td>\n",
              "      <td>...</td>\n",
              "    </tr>\n",
              "    <tr>\n",
              "      <th>24295</th>\n",
              "      <td>626</td>\n",
              "      <td>월</td>\n",
              "      <td>630</td>\n",
              "      <td>금</td>\n",
              "      <td>라온 호텔 앤 리조트</td>\n",
              "      <td>제주</td>\n",
              "      <td>3</td>\n",
              "      <td>6.8</td>\n",
              "      <td>4</td>\n",
              "      <td>360000</td>\n",
              "    </tr>\n",
              "    <tr>\n",
              "      <th>24296</th>\n",
              "      <td>626</td>\n",
              "      <td>월</td>\n",
              "      <td>630</td>\n",
              "      <td>금</td>\n",
              "      <td>에벤에셀호텔</td>\n",
              "      <td>제주</td>\n",
              "      <td>5</td>\n",
              "      <td>8.0</td>\n",
              "      <td>4</td>\n",
              "      <td>306000</td>\n",
              "    </tr>\n",
              "    <tr>\n",
              "      <th>24297</th>\n",
              "      <td>626</td>\n",
              "      <td>월</td>\n",
              "      <td>630</td>\n",
              "      <td>금</td>\n",
              "      <td>골드원 호텔&amp;스위트</td>\n",
              "      <td>서귀포</td>\n",
              "      <td>4</td>\n",
              "      <td>8.6</td>\n",
              "      <td>4</td>\n",
              "      <td>843636</td>\n",
              "    </tr>\n",
              "    <tr>\n",
              "      <th>24298</th>\n",
              "      <td>626</td>\n",
              "      <td>월</td>\n",
              "      <td>630</td>\n",
              "      <td>금</td>\n",
              "      <td>제주 샹그릴라 호텔앤리조트</td>\n",
              "      <td>제주</td>\n",
              "      <td>3</td>\n",
              "      <td>7.8</td>\n",
              "      <td>4</td>\n",
              "      <td>245580</td>\n",
              "    </tr>\n",
              "    <tr>\n",
              "      <th>24299</th>\n",
              "      <td>626</td>\n",
              "      <td>월</td>\n",
              "      <td>630</td>\n",
              "      <td>금</td>\n",
              "      <td>제주 마레보 리조트</td>\n",
              "      <td>제주</td>\n",
              "      <td>3</td>\n",
              "      <td>7.6</td>\n",
              "      <td>4</td>\n",
              "      <td>314348</td>\n",
              "    </tr>\n",
              "  </tbody>\n",
              "</table>\n",
              "<p>24300 rows × 10 columns</p>\n",
              "</div>\n",
              "      <button class=\"colab-df-convert\" onclick=\"convertToInteractive('df-ead9f689-3f1a-49f2-ab8a-31eb011b5db4')\"\n",
              "              title=\"Convert this dataframe to an interactive table.\"\n",
              "              style=\"display:none;\">\n",
              "        \n",
              "  <svg xmlns=\"http://www.w3.org/2000/svg\" height=\"24px\"viewBox=\"0 0 24 24\"\n",
              "       width=\"24px\">\n",
              "    <path d=\"M0 0h24v24H0V0z\" fill=\"none\"/>\n",
              "    <path d=\"M18.56 5.44l.94 2.06.94-2.06 2.06-.94-2.06-.94-.94-2.06-.94 2.06-2.06.94zm-11 1L8.5 8.5l.94-2.06 2.06-.94-2.06-.94L8.5 2.5l-.94 2.06-2.06.94zm10 10l.94 2.06.94-2.06 2.06-.94-2.06-.94-.94-2.06-.94 2.06-2.06.94z\"/><path d=\"M17.41 7.96l-1.37-1.37c-.4-.4-.92-.59-1.43-.59-.52 0-1.04.2-1.43.59L10.3 9.45l-7.72 7.72c-.78.78-.78 2.05 0 2.83L4 21.41c.39.39.9.59 1.41.59.51 0 1.02-.2 1.41-.59l7.78-7.78 2.81-2.81c.8-.78.8-2.07 0-2.86zM5.41 20L4 18.59l7.72-7.72 1.47 1.35L5.41 20z\"/>\n",
              "  </svg>\n",
              "      </button>\n",
              "      \n",
              "  <style>\n",
              "    .colab-df-container {\n",
              "      display:flex;\n",
              "      flex-wrap:wrap;\n",
              "      gap: 12px;\n",
              "    }\n",
              "\n",
              "    .colab-df-convert {\n",
              "      background-color: #E8F0FE;\n",
              "      border: none;\n",
              "      border-radius: 50%;\n",
              "      cursor: pointer;\n",
              "      display: none;\n",
              "      fill: #1967D2;\n",
              "      height: 32px;\n",
              "      padding: 0 0 0 0;\n",
              "      width: 32px;\n",
              "    }\n",
              "\n",
              "    .colab-df-convert:hover {\n",
              "      background-color: #E2EBFA;\n",
              "      box-shadow: 0px 1px 2px rgba(60, 64, 67, 0.3), 0px 1px 3px 1px rgba(60, 64, 67, 0.15);\n",
              "      fill: #174EA6;\n",
              "    }\n",
              "\n",
              "    [theme=dark] .colab-df-convert {\n",
              "      background-color: #3B4455;\n",
              "      fill: #D2E3FC;\n",
              "    }\n",
              "\n",
              "    [theme=dark] .colab-df-convert:hover {\n",
              "      background-color: #434B5C;\n",
              "      box-shadow: 0px 1px 3px 1px rgba(0, 0, 0, 0.15);\n",
              "      filter: drop-shadow(0px 1px 2px rgba(0, 0, 0, 0.3));\n",
              "      fill: #FFFFFF;\n",
              "    }\n",
              "  </style>\n",
              "\n",
              "      <script>\n",
              "        const buttonEl =\n",
              "          document.querySelector('#df-ead9f689-3f1a-49f2-ab8a-31eb011b5db4 button.colab-df-convert');\n",
              "        buttonEl.style.display =\n",
              "          google.colab.kernel.accessAllowed ? 'block' : 'none';\n",
              "\n",
              "        async function convertToInteractive(key) {\n",
              "          const element = document.querySelector('#df-ead9f689-3f1a-49f2-ab8a-31eb011b5db4');\n",
              "          const dataTable =\n",
              "            await google.colab.kernel.invokeFunction('convertToInteractive',\n",
              "                                                     [key], {});\n",
              "          if (!dataTable) return;\n",
              "\n",
              "          const docLinkHtml = 'Like what you see? Visit the ' +\n",
              "            '<a target=\"_blank\" href=https://colab.research.google.com/notebooks/data_table.ipynb>data table notebook</a>'\n",
              "            + ' to learn more about interactive tables.';\n",
              "          element.innerHTML = '';\n",
              "          dataTable['output_type'] = 'display_data';\n",
              "          await google.colab.output.renderOutput(dataTable, element);\n",
              "          const docLink = document.createElement('div');\n",
              "          docLink.innerHTML = docLinkHtml;\n",
              "          element.appendChild(docLink);\n",
              "        }\n",
              "      </script>\n",
              "    </div>\n",
              "  </div>\n",
              "  "
            ]
          },
          "metadata": {},
          "execution_count": 27
        }
      ]
    },
    {
      "cell_type": "code",
      "source": [
        "hotel_total.info()"
      ],
      "metadata": {
        "colab": {
          "base_uri": "https://localhost:8080/"
        },
        "id": "zQnK_IpQWa_o",
        "outputId": "04f55466-55a5-403b-d6a6-83b43c9ae8fe"
      },
      "execution_count": null,
      "outputs": [
        {
          "output_type": "stream",
          "name": "stdout",
          "text": [
            "<class 'pandas.core.frame.DataFrame'>\n",
            "RangeIndex: 24300 entries, 0 to 24299\n",
            "Data columns (total 10 columns):\n",
            " #   Column         Non-Null Count  Dtype  \n",
            "---  ------         --------------  -----  \n",
            " 0   checkin_date   24300 non-null  int64  \n",
            " 1   checkin_day    24300 non-null  object \n",
            " 2   checkout_date  24300 non-null  int64  \n",
            " 3   checkout_day   24300 non-null  object \n",
            " 4   hotel_name     24300 non-null  object \n",
            " 5   location       24300 non-null  object \n",
            " 6   grade          24300 non-null  int64  \n",
            " 7   score          24300 non-null  float64\n",
            " 8   customer_num   24300 non-null  int64  \n",
            " 9   price          24300 non-null  int64  \n",
            "dtypes: float64(1), int64(5), object(4)\n",
            "memory usage: 1.9+ MB\n"
          ]
        }
      ]
    },
    {
      "cell_type": "code",
      "source": [
        "hotel_total.to_csv('hotel_total.csv', index=None)"
      ],
      "metadata": {
        "id": "CXV61JydZcwI"
      },
      "execution_count": null,
      "outputs": []
    },
    {
      "cell_type": "markdown",
      "source": [
        "##### hotel_total_final"
      ],
      "metadata": {
        "id": "yATytC7gvuYi"
      }
    },
    {
      "cell_type": "code",
      "source": [
        "hotel_total = pd.read_csv('/content/drive/MyDrive/AIB17/project1/hotel_total.csv', encoding='UTF8')"
      ],
      "metadata": {
        "id": "5-ReGiWbv9o7"
      },
      "execution_count": null,
      "outputs": []
    },
    {
      "cell_type": "code",
      "source": [
        "hotel_total.shape"
      ],
      "metadata": {
        "colab": {
          "base_uri": "https://localhost:8080/"
        },
        "id": "t0Qw2jcIwBag",
        "outputId": "44aadb2e-7117-44cb-8062-bcb03707e78c"
      },
      "execution_count": null,
      "outputs": [
        {
          "output_type": "execute_result",
          "data": {
            "text/plain": [
              "(24300, 10)"
            ]
          },
          "metadata": {},
          "execution_count": 4
        }
      ]
    },
    {
      "cell_type": "code",
      "source": [
        "hotel_total.info()"
      ],
      "metadata": {
        "colab": {
          "base_uri": "https://localhost:8080/"
        },
        "id": "jf_rohbVwDjc",
        "outputId": "06abf9b1-83f4-4180-f698-0491ae88bed4"
      },
      "execution_count": null,
      "outputs": [
        {
          "output_type": "stream",
          "name": "stdout",
          "text": [
            "<class 'pandas.core.frame.DataFrame'>\n",
            "RangeIndex: 24300 entries, 0 to 24299\n",
            "Data columns (total 10 columns):\n",
            " #   Column         Non-Null Count  Dtype  \n",
            "---  ------         --------------  -----  \n",
            " 0   checkin_date   24300 non-null  int64  \n",
            " 1   checkin_day    24300 non-null  object \n",
            " 2   checkout_date  24300 non-null  int64  \n",
            " 3   checkout_day   24300 non-null  object \n",
            " 4   hotel_name     24300 non-null  object \n",
            " 5   location       24300 non-null  object \n",
            " 6   grade          24300 non-null  int64  \n",
            " 7   score          24300 non-null  float64\n",
            " 8   customer_num   24300 non-null  int64  \n",
            " 9   price          24300 non-null  int64  \n",
            "dtypes: float64(1), int64(5), object(4)\n",
            "memory usage: 1.9+ MB\n"
          ]
        }
      ]
    },
    {
      "cell_type": "code",
      "source": [
        "hotel_total_final = hotel_total.copy()"
      ],
      "metadata": {
        "id": "WrLdrpzowF7m"
      },
      "execution_count": null,
      "outputs": []
    },
    {
      "cell_type": "code",
      "source": [
        "hotel_total_final['stay_period'] = 0"
      ],
      "metadata": {
        "id": "XYwgisidxCTF"
      },
      "execution_count": null,
      "outputs": []
    },
    {
      "cell_type": "code",
      "source": [
        "hotel_total_final"
      ],
      "metadata": {
        "colab": {
          "base_uri": "https://localhost:8080/",
          "height": 424
        },
        "id": "fQCo4T1uxGQQ",
        "outputId": "af74d64d-faf4-46c9-aaba-bfb271c46c81"
      },
      "execution_count": null,
      "outputs": [
        {
          "output_type": "execute_result",
          "data": {
            "text/plain": [
              "       checkin_date checkin_day  checkout_date checkout_day  \\\n",
              "0               601           목            603            토   \n",
              "1               601           목            603            토   \n",
              "2               601           목            603            토   \n",
              "3               601           목            603            토   \n",
              "4               601           목            603            토   \n",
              "...             ...         ...            ...          ...   \n",
              "24295           626           월            630            금   \n",
              "24296           626           월            630            금   \n",
              "24297           626           월            630            금   \n",
              "24298           626           월            630            금   \n",
              "24299           626           월            630            금   \n",
              "\n",
              "              hotel_name location  grade  score  customer_num   price  \\\n",
              "0             파르나스 호텔 제주      서귀포      5    9.2             2  727500   \n",
              "1               제주 신라 호텔      서귀포      5    9.0             2  772750   \n",
              "2      랜딩관 제주신화월드 호텔앤리조트      서귀포      5    8.3             2  303040   \n",
              "3              메종 글래드 제주       제주      5    8.1             2  332259   \n",
              "4               롯데 호텔 제주      서귀포      5    8.8             2  630000   \n",
              "...                  ...      ...    ...    ...           ...     ...   \n",
              "24295        라온 호텔 앤 리조트       제주      3    6.8             4  360000   \n",
              "24296             에벤에셀호텔       제주      5    8.0             4  306000   \n",
              "24297         골드원 호텔&스위트      서귀포      4    8.6             4  843636   \n",
              "24298     제주 샹그릴라 호텔앤리조트       제주      3    7.8             4  245580   \n",
              "24299         제주 마레보 리조트       제주      3    7.6             4  314348   \n",
              "\n",
              "       stay_period  \n",
              "0                0  \n",
              "1                0  \n",
              "2                0  \n",
              "3                0  \n",
              "4                0  \n",
              "...            ...  \n",
              "24295            0  \n",
              "24296            0  \n",
              "24297            0  \n",
              "24298            0  \n",
              "24299            0  \n",
              "\n",
              "[24300 rows x 11 columns]"
            ],
            "text/html": [
              "\n",
              "  <div id=\"df-7d317cd1-e90e-4f0e-886c-81baa1719b00\">\n",
              "    <div class=\"colab-df-container\">\n",
              "      <div>\n",
              "<style scoped>\n",
              "    .dataframe tbody tr th:only-of-type {\n",
              "        vertical-align: middle;\n",
              "    }\n",
              "\n",
              "    .dataframe tbody tr th {\n",
              "        vertical-align: top;\n",
              "    }\n",
              "\n",
              "    .dataframe thead th {\n",
              "        text-align: right;\n",
              "    }\n",
              "</style>\n",
              "<table border=\"1\" class=\"dataframe\">\n",
              "  <thead>\n",
              "    <tr style=\"text-align: right;\">\n",
              "      <th></th>\n",
              "      <th>checkin_date</th>\n",
              "      <th>checkin_day</th>\n",
              "      <th>checkout_date</th>\n",
              "      <th>checkout_day</th>\n",
              "      <th>hotel_name</th>\n",
              "      <th>location</th>\n",
              "      <th>grade</th>\n",
              "      <th>score</th>\n",
              "      <th>customer_num</th>\n",
              "      <th>price</th>\n",
              "      <th>stay_period</th>\n",
              "    </tr>\n",
              "  </thead>\n",
              "  <tbody>\n",
              "    <tr>\n",
              "      <th>0</th>\n",
              "      <td>601</td>\n",
              "      <td>목</td>\n",
              "      <td>603</td>\n",
              "      <td>토</td>\n",
              "      <td>파르나스 호텔 제주</td>\n",
              "      <td>서귀포</td>\n",
              "      <td>5</td>\n",
              "      <td>9.2</td>\n",
              "      <td>2</td>\n",
              "      <td>727500</td>\n",
              "      <td>0</td>\n",
              "    </tr>\n",
              "    <tr>\n",
              "      <th>1</th>\n",
              "      <td>601</td>\n",
              "      <td>목</td>\n",
              "      <td>603</td>\n",
              "      <td>토</td>\n",
              "      <td>제주 신라 호텔</td>\n",
              "      <td>서귀포</td>\n",
              "      <td>5</td>\n",
              "      <td>9.0</td>\n",
              "      <td>2</td>\n",
              "      <td>772750</td>\n",
              "      <td>0</td>\n",
              "    </tr>\n",
              "    <tr>\n",
              "      <th>2</th>\n",
              "      <td>601</td>\n",
              "      <td>목</td>\n",
              "      <td>603</td>\n",
              "      <td>토</td>\n",
              "      <td>랜딩관 제주신화월드 호텔앤리조트</td>\n",
              "      <td>서귀포</td>\n",
              "      <td>5</td>\n",
              "      <td>8.3</td>\n",
              "      <td>2</td>\n",
              "      <td>303040</td>\n",
              "      <td>0</td>\n",
              "    </tr>\n",
              "    <tr>\n",
              "      <th>3</th>\n",
              "      <td>601</td>\n",
              "      <td>목</td>\n",
              "      <td>603</td>\n",
              "      <td>토</td>\n",
              "      <td>메종 글래드 제주</td>\n",
              "      <td>제주</td>\n",
              "      <td>5</td>\n",
              "      <td>8.1</td>\n",
              "      <td>2</td>\n",
              "      <td>332259</td>\n",
              "      <td>0</td>\n",
              "    </tr>\n",
              "    <tr>\n",
              "      <th>4</th>\n",
              "      <td>601</td>\n",
              "      <td>목</td>\n",
              "      <td>603</td>\n",
              "      <td>토</td>\n",
              "      <td>롯데 호텔 제주</td>\n",
              "      <td>서귀포</td>\n",
              "      <td>5</td>\n",
              "      <td>8.8</td>\n",
              "      <td>2</td>\n",
              "      <td>630000</td>\n",
              "      <td>0</td>\n",
              "    </tr>\n",
              "    <tr>\n",
              "      <th>...</th>\n",
              "      <td>...</td>\n",
              "      <td>...</td>\n",
              "      <td>...</td>\n",
              "      <td>...</td>\n",
              "      <td>...</td>\n",
              "      <td>...</td>\n",
              "      <td>...</td>\n",
              "      <td>...</td>\n",
              "      <td>...</td>\n",
              "      <td>...</td>\n",
              "      <td>...</td>\n",
              "    </tr>\n",
              "    <tr>\n",
              "      <th>24295</th>\n",
              "      <td>626</td>\n",
              "      <td>월</td>\n",
              "      <td>630</td>\n",
              "      <td>금</td>\n",
              "      <td>라온 호텔 앤 리조트</td>\n",
              "      <td>제주</td>\n",
              "      <td>3</td>\n",
              "      <td>6.8</td>\n",
              "      <td>4</td>\n",
              "      <td>360000</td>\n",
              "      <td>0</td>\n",
              "    </tr>\n",
              "    <tr>\n",
              "      <th>24296</th>\n",
              "      <td>626</td>\n",
              "      <td>월</td>\n",
              "      <td>630</td>\n",
              "      <td>금</td>\n",
              "      <td>에벤에셀호텔</td>\n",
              "      <td>제주</td>\n",
              "      <td>5</td>\n",
              "      <td>8.0</td>\n",
              "      <td>4</td>\n",
              "      <td>306000</td>\n",
              "      <td>0</td>\n",
              "    </tr>\n",
              "    <tr>\n",
              "      <th>24297</th>\n",
              "      <td>626</td>\n",
              "      <td>월</td>\n",
              "      <td>630</td>\n",
              "      <td>금</td>\n",
              "      <td>골드원 호텔&amp;스위트</td>\n",
              "      <td>서귀포</td>\n",
              "      <td>4</td>\n",
              "      <td>8.6</td>\n",
              "      <td>4</td>\n",
              "      <td>843636</td>\n",
              "      <td>0</td>\n",
              "    </tr>\n",
              "    <tr>\n",
              "      <th>24298</th>\n",
              "      <td>626</td>\n",
              "      <td>월</td>\n",
              "      <td>630</td>\n",
              "      <td>금</td>\n",
              "      <td>제주 샹그릴라 호텔앤리조트</td>\n",
              "      <td>제주</td>\n",
              "      <td>3</td>\n",
              "      <td>7.8</td>\n",
              "      <td>4</td>\n",
              "      <td>245580</td>\n",
              "      <td>0</td>\n",
              "    </tr>\n",
              "    <tr>\n",
              "      <th>24299</th>\n",
              "      <td>626</td>\n",
              "      <td>월</td>\n",
              "      <td>630</td>\n",
              "      <td>금</td>\n",
              "      <td>제주 마레보 리조트</td>\n",
              "      <td>제주</td>\n",
              "      <td>3</td>\n",
              "      <td>7.6</td>\n",
              "      <td>4</td>\n",
              "      <td>314348</td>\n",
              "      <td>0</td>\n",
              "    </tr>\n",
              "  </tbody>\n",
              "</table>\n",
              "<p>24300 rows × 11 columns</p>\n",
              "</div>\n",
              "      <button class=\"colab-df-convert\" onclick=\"convertToInteractive('df-7d317cd1-e90e-4f0e-886c-81baa1719b00')\"\n",
              "              title=\"Convert this dataframe to an interactive table.\"\n",
              "              style=\"display:none;\">\n",
              "        \n",
              "  <svg xmlns=\"http://www.w3.org/2000/svg\" height=\"24px\"viewBox=\"0 0 24 24\"\n",
              "       width=\"24px\">\n",
              "    <path d=\"M0 0h24v24H0V0z\" fill=\"none\"/>\n",
              "    <path d=\"M18.56 5.44l.94 2.06.94-2.06 2.06-.94-2.06-.94-.94-2.06-.94 2.06-2.06.94zm-11 1L8.5 8.5l.94-2.06 2.06-.94-2.06-.94L8.5 2.5l-.94 2.06-2.06.94zm10 10l.94 2.06.94-2.06 2.06-.94-2.06-.94-.94-2.06-.94 2.06-2.06.94z\"/><path d=\"M17.41 7.96l-1.37-1.37c-.4-.4-.92-.59-1.43-.59-.52 0-1.04.2-1.43.59L10.3 9.45l-7.72 7.72c-.78.78-.78 2.05 0 2.83L4 21.41c.39.39.9.59 1.41.59.51 0 1.02-.2 1.41-.59l7.78-7.78 2.81-2.81c.8-.78.8-2.07 0-2.86zM5.41 20L4 18.59l7.72-7.72 1.47 1.35L5.41 20z\"/>\n",
              "  </svg>\n",
              "      </button>\n",
              "      \n",
              "  <style>\n",
              "    .colab-df-container {\n",
              "      display:flex;\n",
              "      flex-wrap:wrap;\n",
              "      gap: 12px;\n",
              "    }\n",
              "\n",
              "    .colab-df-convert {\n",
              "      background-color: #E8F0FE;\n",
              "      border: none;\n",
              "      border-radius: 50%;\n",
              "      cursor: pointer;\n",
              "      display: none;\n",
              "      fill: #1967D2;\n",
              "      height: 32px;\n",
              "      padding: 0 0 0 0;\n",
              "      width: 32px;\n",
              "    }\n",
              "\n",
              "    .colab-df-convert:hover {\n",
              "      background-color: #E2EBFA;\n",
              "      box-shadow: 0px 1px 2px rgba(60, 64, 67, 0.3), 0px 1px 3px 1px rgba(60, 64, 67, 0.15);\n",
              "      fill: #174EA6;\n",
              "    }\n",
              "\n",
              "    [theme=dark] .colab-df-convert {\n",
              "      background-color: #3B4455;\n",
              "      fill: #D2E3FC;\n",
              "    }\n",
              "\n",
              "    [theme=dark] .colab-df-convert:hover {\n",
              "      background-color: #434B5C;\n",
              "      box-shadow: 0px 1px 3px 1px rgba(0, 0, 0, 0.15);\n",
              "      filter: drop-shadow(0px 1px 2px rgba(0, 0, 0, 0.3));\n",
              "      fill: #FFFFFF;\n",
              "    }\n",
              "  </style>\n",
              "\n",
              "      <script>\n",
              "        const buttonEl =\n",
              "          document.querySelector('#df-7d317cd1-e90e-4f0e-886c-81baa1719b00 button.colab-df-convert');\n",
              "        buttonEl.style.display =\n",
              "          google.colab.kernel.accessAllowed ? 'block' : 'none';\n",
              "\n",
              "        async function convertToInteractive(key) {\n",
              "          const element = document.querySelector('#df-7d317cd1-e90e-4f0e-886c-81baa1719b00');\n",
              "          const dataTable =\n",
              "            await google.colab.kernel.invokeFunction('convertToInteractive',\n",
              "                                                     [key], {});\n",
              "          if (!dataTable) return;\n",
              "\n",
              "          const docLinkHtml = 'Like what you see? Visit the ' +\n",
              "            '<a target=\"_blank\" href=https://colab.research.google.com/notebooks/data_table.ipynb>data table notebook</a>'\n",
              "            + ' to learn more about interactive tables.';\n",
              "          element.innerHTML = '';\n",
              "          dataTable['output_type'] = 'display_data';\n",
              "          await google.colab.output.renderOutput(dataTable, element);\n",
              "          const docLink = document.createElement('div');\n",
              "          docLink.innerHTML = docLinkHtml;\n",
              "          element.appendChild(docLink);\n",
              "        }\n",
              "      </script>\n",
              "    </div>\n",
              "  </div>\n",
              "  "
            ]
          },
          "metadata": {},
          "execution_count": 8
        }
      ]
    },
    {
      "cell_type": "code",
      "source": [
        "for i in range(len(hotel_total_final)):\n",
        "  if (hotel_total_final.iloc[i,2] - hotel_total_final.iloc[i,0]) == 2:\n",
        "    hotel_total_final.iloc[i,10] = '2박 3일'\n",
        "  elif (hotel_total_final.iloc[i,2] - hotel_total_final.iloc[i,0]) == 3:\n",
        "    hotel_total_final.iloc[i,10] = '3박 4일'\n",
        "  elif (hotel_total_final.iloc[i,2] - hotel_total_final.iloc[i,0]) == 4:\n",
        "    hotel_total_final.iloc[i,10] = '4박 5일'"
      ],
      "metadata": {
        "id": "a-B9KBBwwKlP"
      },
      "execution_count": null,
      "outputs": []
    },
    {
      "cell_type": "code",
      "source": [
        "hotel_total_final"
      ],
      "metadata": {
        "id": "p6sy8RUGw4VI"
      },
      "execution_count": null,
      "outputs": []
    },
    {
      "cell_type": "code",
      "source": [
        "hotel_total_final['stay_period'].value_counts()"
      ],
      "metadata": {
        "colab": {
          "base_uri": "https://localhost:8080/"
        },
        "id": "yvEbOM2Fw9la",
        "outputId": "4c5eafd0-d043-4ea7-b535-c03e3c58290c"
      },
      "execution_count": null,
      "outputs": [
        {
          "output_type": "execute_result",
          "data": {
            "text/plain": [
              "2박 3일    8400\n",
              "3박 4일    8100\n",
              "4박 5일    7800\n",
              "Name: stay_period, dtype: int64"
            ]
          },
          "metadata": {},
          "execution_count": 11
        }
      ]
    },
    {
      "cell_type": "code",
      "source": [
        "hotel_total_final.info()"
      ],
      "metadata": {
        "colab": {
          "base_uri": "https://localhost:8080/"
        },
        "id": "0TaYwOWGxsCT",
        "outputId": "d0b80d6f-9baf-41f5-c471-8e8995f6ea29"
      },
      "execution_count": null,
      "outputs": [
        {
          "output_type": "stream",
          "name": "stdout",
          "text": [
            "<class 'pandas.core.frame.DataFrame'>\n",
            "RangeIndex: 24300 entries, 0 to 24299\n",
            "Data columns (total 11 columns):\n",
            " #   Column         Non-Null Count  Dtype  \n",
            "---  ------         --------------  -----  \n",
            " 0   checkin_date   24300 non-null  int64  \n",
            " 1   checkin_day    24300 non-null  object \n",
            " 2   checkout_date  24300 non-null  int64  \n",
            " 3   checkout_day   24300 non-null  object \n",
            " 4   hotel_name     24300 non-null  object \n",
            " 5   location       24300 non-null  object \n",
            " 6   grade          24300 non-null  int64  \n",
            " 7   score          24300 non-null  float64\n",
            " 8   customer_num   24300 non-null  int64  \n",
            " 9   price          24300 non-null  int64  \n",
            " 10  stay_period    24300 non-null  object \n",
            "dtypes: float64(1), int64(5), object(5)\n",
            "memory usage: 2.0+ MB\n"
          ]
        }
      ]
    },
    {
      "cell_type": "code",
      "source": [
        "hotel_total_final.to_csv('hotel_total_final.csv', index=None)"
      ],
      "metadata": {
        "id": "E2LDYvwdxrbm"
      },
      "execution_count": null,
      "outputs": []
    },
    {
      "cell_type": "markdown",
      "source": [
        "##### DB 연결"
      ],
      "metadata": {
        "id": "q6IUMU0dWBT4"
      }
    },
    {
      "cell_type": "code",
      "source": [
        "!pip install psycopg2"
      ],
      "metadata": {
        "colab": {
          "base_uri": "https://localhost:8080/"
        },
        "id": "KXx1Rk1LXyi7",
        "outputId": "bf539dc6-397e-4ce8-8692-ebc40e37a1f9"
      },
      "execution_count": null,
      "outputs": [
        {
          "output_type": "stream",
          "name": "stdout",
          "text": [
            "Looking in indexes: https://pypi.org/simple, https://us-python.pkg.dev/colab-wheels/public/simple/\n",
            "Requirement already satisfied: psycopg2 in /usr/local/lib/python3.10/dist-packages (2.9.6)\n"
          ]
        }
      ]
    },
    {
      "cell_type": "code",
      "source": [
        "import psycopg2\n",
        "import csv"
      ],
      "metadata": {
        "id": "rtZT52-657-J"
      },
      "execution_count": null,
      "outputs": []
    },
    {
      "cell_type": "markdown",
      "source": [
        "host = 'drona.db.elephantsql.com'\n",
        "user = 'bnwptvqk'\n",
        "password = 'RWLldWbYTfneg_E7-NYZ0YeUH75vKq1d'\n",
        "database = 'bnwptvqk'"
      ],
      "metadata": {
        "id": "oqmx7vas7skt"
      }
    },
    {
      "cell_type": "code",
      "source": [
        "conn = psycopg2.connect(\n",
        "    host = 'drona.db.elephantsql.com',\n",
        "    database = 'bnwptvqk',\n",
        "    user = 'bnwptvqk',\n",
        "    password = 'RWLldWbYTfneg_E7-NYZ0YeUH75vKq1d')\n",
        "\n",
        "cur = conn.cursor()\n",
        "\n",
        "cur.execute(\"DROP TABLE IF EXISTS hotel_total;\")\n",
        "cur.execute(\"\"\"CREATE TABLE hotel_total(\n",
        "                checkin_date INTEGER,\n",
        "                checkin_day VARCHAR(200),\n",
        "                checkout_date INTEGER,\n",
        "                checkout_day VARCHAR(200),\n",
        "                hotel_name VARCHAR(200),\n",
        "                location VARCHAR(200),\n",
        "                grade INTEGER,\n",
        "                score FLOAT,\n",
        "                customer_num INTEGER,\n",
        "                price INTEGER,\n",
        "                stay_period VARCHAR(200));\"\"\")\n",
        "\n",
        "\n",
        "with open('/content/drive/MyDrive/AIB17/project1/hotel_total_final.csv','r', newline='') as f:\n",
        "  r = csv.reader(f)\n",
        "  next(r)\n",
        "  for row in r:\n",
        "    cur.execute(\"\"\"INSERT INTO hotel_total VALUES(\n",
        "      %s, %s, %s, %s, %s, %s, %s, %s, %s, %s, %s);\"\"\", tuple(row))\n",
        "\n",
        "conn.commit()\n",
        "cur.close()\n",
        "conn.close()"
      ],
      "metadata": {
        "id": "quH3FJqSWTbq"
      },
      "execution_count": null,
      "outputs": []
    }
  ]
}